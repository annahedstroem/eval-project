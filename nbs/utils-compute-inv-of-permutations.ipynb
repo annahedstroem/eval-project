{
 "cells": [
  {
   "cell_type": "markdown",
   "metadata": {},
   "source": [
    "For the avila dataset, some measures available in Quantus are computed in the results files for every ranking.\n",
    "\n",
    "In order to get the value for $e^{inv}$, we need to know what index corresponds to the inv of each ranking.\n",
    "\n",
    "This should have been computed in the original file but, since it wasn't, it's now easier to compute the indices instead of the whole thing."
   ]
  },
  {
   "cell_type": "code",
   "execution_count": 1,
   "metadata": {},
   "outputs": [],
   "source": [
    "import numpy as np\n",
    "import itertools\n",
    "import os\n",
    "\n",
    "PROJ_DIR = os.path.realpath(os.path.dirname(os.path.abspath('')))\n",
    "\n",
    "# Avila dataset\n",
    "DATASET = 'avila'\n",
    "DATASET_PATH = os.path.join(PROJ_DIR,'assets', 'data', f'{DATASET}.npz')\n",
    "file_data = np.load(DATASET_PATH)\n",
    "x_train = file_data['x_train']\n",
    "NUM_VARS = x_train.shape[1]\n",
    "\n",
    "permutations = list(itertools.permutations(range(NUM_VARS)))\n",
    "shape = tuple([NUM_VARS for x in range(NUM_VARS)])\n",
    "lookup = -1 * np.ones(shape, dtype=int)\n",
    "\n",
    "result = -1 * np.ones(len(permutations), dtype=int)"
   ]
  },
  {
   "cell_type": "code",
   "execution_count": 31,
   "metadata": {},
   "outputs": [
    {
     "name": "stderr",
     "output_type": "stream",
     "text": [
      "3628800it [00:08, 415076.69it/s]\n"
     ]
    }
   ],
   "source": [
    "from tqdm import tqdm\n",
    "\n",
    "for i,p in tqdm(enumerate(permutations)):\n",
    "    lookup[p] = i\n",
    "    rev = tuple(reversed(p))\n",
    "    if lookup[rev] > 0:\n",
    "        result[lookup[rev]] = i\n",
    "        result[i] = lookup[rev]"
   ]
  },
  {
   "cell_type": "code",
   "execution_count": 35,
   "metadata": {},
   "outputs": [],
   "source": [
    "for i in range(0,len(result)):\n",
    "    assert(permutations[i] == tuple(reversed(permutations[result[i]])))"
   ]
  },
  {
   "cell_type": "code",
   "execution_count": 36,
   "metadata": {},
   "outputs": [],
   "source": [
    "np.savez(os.path.join(PROJ_DIR, 'results', f'{DATASET}_permutations_inv_lookup.npz'),\n",
    "         inv_lookup=result)"
   ]
  },
  {
   "cell_type": "code",
   "execution_count": 38,
   "metadata": {},
   "outputs": [
    {
     "data": {
      "text/plain": [
       "array([3628799, 3265919, 3588479, ...,   40320,  362880,       0])"
      ]
     },
     "execution_count": 38,
     "metadata": {},
     "output_type": "execute_result"
    }
   ],
   "source": [
    "result"
   ]
  }
 ],
 "metadata": {
  "kernelspec": {
   "display_name": "pytorch-quantus",
   "language": "python",
   "name": "python3"
  },
  "language_info": {
   "codemirror_mode": {
    "name": "ipython",
    "version": 3
   },
   "file_extension": ".py",
   "mimetype": "text/x-python",
   "name": "python",
   "nbconvert_exporter": "python",
   "pygments_lexer": "ipython3",
   "version": "3.9.13"
  },
  "orig_nbformat": 4
 },
 "nbformat": 4,
 "nbformat_minor": 2
}
