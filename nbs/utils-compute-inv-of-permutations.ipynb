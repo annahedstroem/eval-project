{
 "cells": [
  {
   "cell_type": "markdown",
   "metadata": {},
   "source": [
    "For the avila dataset, some measures available in Quantus are computed in the results files for every ranking.\n",
    "\n",
    "In order to get the value for $e^{inv}$, we need to know what index corresponds to the inv of each ranking.\n",
    "\n",
    "This should have been computed in the original file but, since it wasn't, it's now easier to compute the indices instead of the whole thing.\n",
    "\n",
    "**It seems that the inverse is simply the same index but starting from the end, but we'll do it this way just to be sure**"
   ]
  },
  {
   "cell_type": "code",
   "execution_count": 45,
   "metadata": {},
   "outputs": [],
   "source": [
    "import numpy as np\n",
    "import itertools\n",
    "import os\n",
    "\n",
    "PROJ_DIR = os.path.realpath(os.path.dirname(os.path.abspath('')))\n",
    "\n",
    "# Avila dataset\n",
    "DATASET = 'avila'\n",
    "DATASET_PATH = os.path.join(PROJ_DIR,'assets', 'data', f'{DATASET}.npz')\n",
    "file_data = np.load(DATASET_PATH)\n",
    "x_train = file_data['x_train']\n",
    "NUM_VARS = x_train.shape[1]\n",
    "\n",
    "permutations = list(itertools.permutations(range(NUM_VARS)))\n",
    "shape = tuple([NUM_VARS for x in range(NUM_VARS)])\n",
    "#lookup = -1 * np.ones(shape, dtype=int) # This was a memory behemoth\n",
    "lookup = {}\n",
    "\n",
    "result = -1 * np.ones(len(permutations), dtype=int)"
   ]
  },
  {
   "cell_type": "code",
   "execution_count": 46,
   "metadata": {},
   "outputs": [],
   "source": [
    "def add_to_lookup(index, value, lookup):\n",
    "    for i in index[:-1]:\n",
    "        if i not in lookup:\n",
    "            lookup[i] = {}\n",
    "        lookup = lookup[i]\n",
    "    lookup[index[-1]] = value\n",
    "\n",
    "def check_lookup(index, lookup):\n",
    "    for i in index[:-1]:\n",
    "        if i not in lookup:\n",
    "            return -1\n",
    "        lookup = lookup[i]\n",
    "    return lookup[index[-1]]\n"
   ]
  },
  {
   "cell_type": "code",
   "execution_count": 47,
   "metadata": {},
   "outputs": [
    {
     "name": "stderr",
     "output_type": "stream",
     "text": [
      "3628800it [00:07, 484361.19it/s]\n"
     ]
    }
   ],
   "source": [
    "from tqdm import tqdm\n",
    "\n",
    "for i,p in tqdm(enumerate(permutations)):\n",
    "    #lookup[p] = i\n",
    "    add_to_lookup(p, i, lookup)\n",
    "    #rev = tuple(reversed(p))\n",
    "    rev = tuple([NUM_VARS-1-i for i in p])\n",
    "    v = check_lookup(rev, lookup)\n",
    "    if v>=0:\n",
    "        result[v] = i\n",
    "        result[i] = v\n",
    "    #if lookup[rev] >= 0:\n",
    "        #result[lookup[rev]] = i\n",
    "        #result[i] = lookup[rev]"
   ]
  },
  {
   "cell_type": "code",
   "execution_count": 51,
   "metadata": {},
   "outputs": [],
   "source": [
    "np.savez(os.path.join(PROJ_DIR, 'results', f'{DATASET}_permutations_inv_lookup.npz'),\n",
    "         inv_lookup=result)"
   ]
  }
 ],
 "metadata": {
  "kernelspec": {
   "display_name": "pytorch-quantus",
   "language": "python",
   "name": "python3"
  },
  "language_info": {
   "codemirror_mode": {
    "name": "ipython",
    "version": 3
   },
   "file_extension": ".py",
   "mimetype": "text/x-python",
   "name": "python",
   "nbconvert_exporter": "python",
   "pygments_lexer": "ipython3",
   "version": "3.9.13"
  },
  "orig_nbformat": 4
 },
 "nbformat": 4,
 "nbformat_minor": 2
}
