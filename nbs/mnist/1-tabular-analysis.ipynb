{
 "cells": [
  {
   "attachments": {},
   "cell_type": "markdown",
   "metadata": {},
   "source": [
    "## MNIST analysis\n",
    "\n",
    "This notebook loads the MNIST dataset and a pretrained model and computes Qinv and Qbas for 100.000 random rankings.\n",
    "\n",
    ":warning:\n",
    "# There's a .py version for this script in the src folder which is the one that should be used to generate the files:\n",
    "`src/extract_mnist_measures.py`"
   ]
  },
  {
   "cell_type": "code",
   "execution_count": 1,
   "metadata": {},
   "outputs": [],
   "source": [
    "# Import the necessary libraries\n",
    "import sys\n",
    "import os\n",
    "PROJ_DIR = os.path.realpath(os.path.dirname(os.path.dirname(os.path.abspath(''))))\n",
    "sys.path.append(os.path.join(PROJ_DIR,'src'))\n",
    "import xai_faithfulness_experiments_lib_edits as fl\n",
    "\n",
    "import numpy as np"
   ]
  },
  {
   "cell_type": "code",
   "execution_count": 2,
   "metadata": {},
   "outputs": [],
   "source": [
    "# MNIST dataset\n",
    "DATASET = 'mnist'\n",
    "MODEL_NAME = 'ood-mean'\n",
    "DATASET_PATH = os.path.join(PROJ_DIR,'assets', 'data', f'{DATASET}.npz')\n",
    "MODEL_PATH = os.path.join(PROJ_DIR,'assets', 'models', f'{DATASET}-{MODEL_NAME}-mlp.pth')\n",
    "SAMPLE_NUM = 10 # Select one of the training examples in the batch to be explained\n",
    "\n",
    "# Load dataset\n",
    "import torch\n",
    "import torchvision\n",
    "\n",
    "batch_size = 256\n",
    "\n",
    "MNIST_PATH = os.path.join(PROJ_DIR, 'data', 'mnist')\n",
    "\n",
    "train_loader = torch.utils.data.DataLoader(\n",
    "  torchvision.datasets.MNIST(MNIST_PATH, train=True, download=True,\n",
    "                             transform=torchvision.transforms.Compose([\n",
    "                               torchvision.transforms.ToTensor(),\n",
    "                               torchvision.transforms.Normalize(\n",
    "                                 (0.1307,), (0.3081,))\n",
    "                             ])),\n",
    "  batch_size=batch_size, shuffle=True)\n",
    "\n",
    "examples = enumerate(train_loader)\n",
    "batch_idx, (x_train, y_train) = next(examples)"
   ]
  },
  {
   "cell_type": "code",
   "execution_count": 3,
   "metadata": {},
   "outputs": [
    {
     "name": "stdout",
     "output_type": "stream",
     "text": [
      "Using cpu\n"
     ]
    },
    {
     "data": {
      "text/plain": [
       "MNISTClassifier(\n",
       "  (conv1): Conv2d(1, 10, kernel_size=(5, 5), stride=(1, 1))\n",
       "  (conv2): Conv2d(10, 20, kernel_size=(5, 5), stride=(1, 1))\n",
       "  (conv2_drop): Dropout2d(p=0.5, inplace=False)\n",
       "  (fc1): Linear(in_features=320, out_features=50, bias=True)\n",
       "  (fc2): Linear(in_features=50, out_features=10, bias=True)\n",
       ")"
      ]
     },
     "execution_count": 3,
     "metadata": {},
     "output_type": "execute_result"
    }
   ],
   "source": [
    "# Load model\n",
    "import torch\n",
    "MODEL_LABEL_NUM = 10\n",
    "import torch.nn as nn\n",
    "import torch.nn.functional as F\n",
    "device = torch.device(\"cuda:0\" if torch.cuda.is_available() else \"cpu\")\n",
    "print(f'Using {device}')\n",
    "#https://nextjournal.com/gkoehler/pytorch-mnist\n",
    "class MNISTClassifier(nn.Module):\n",
    "    def __init__(self):\n",
    "        super(MNISTClassifier, self).__init__()\n",
    "        self.conv1 = nn.Conv2d(1, 10, kernel_size=5)\n",
    "        self.conv2 = nn.Conv2d(10, 20, kernel_size=5)\n",
    "        self.conv2_drop = nn.Dropout2d()\n",
    "        self.fc1 = nn.Linear(320, 50)\n",
    "        self.fc2 = nn.Linear(50, MODEL_LABEL_NUM)\n",
    "\n",
    "    def forward(self, x):\n",
    "        x = F.relu(F.max_pool2d(self.conv1(x), 2))\n",
    "        x = F.relu(F.max_pool2d(self.conv2_drop(self.conv2(x)), 2))\n",
    "        x = x.view(-1, 320)\n",
    "        x = F.relu(self.fc1(x))\n",
    "        x = F.dropout(x, training=self.training)\n",
    "        x = self.fc2(x)\n",
    "        return x#F.softmax(x)\n",
    "\n",
    "network = MNISTClassifier()\n",
    "network.load_state_dict(torch.load(MODEL_PATH))\n",
    "network.eval()\n",
    "network.to(device)"
   ]
  },
  {
   "cell_type": "code",
   "execution_count": 6,
   "metadata": {},
   "outputs": [],
   "source": [
    "from tqdm import tqdm\n",
    "\n",
    "num_rankings = 100\n",
    "NUM_VARS  = 1\n",
    "INPUT_SHAPE = x_train.shape[1:]\n",
    "for d in x_train.shape[1:]:\n",
    "    NUM_VARS *= d\n",
    "NUM_SAMPLES = min(fl.NUM_SAMPLES, NUM_VARS)\n",
    "all_rankings = np.zeros((num_rankings, *x_train.shape[1:])) # To be randomly generated on the first loop"
   ]
  },
  {
   "cell_type": "code",
   "execution_count": 10,
   "metadata": {},
   "outputs": [
    {
     "name": "stdout",
     "output_type": "stream",
     "text": [
      "Processing 10\n"
     ]
    },
    {
     "name": "stderr",
     "output_type": "stream",
     "text": [
      "100%|██████████| 100/100 [00:00<00:00, 325.69it/s]\n"
     ]
    }
   ],
   "source": [
    "from tqdm import tqdm\n",
    "import quantus\n",
    "\n",
    "print('Processing', SAMPLE_NUM)\n",
    "\n",
    "masking_values = torch.from_numpy(np.zeros(x_train.shape[1:])).float().to(device)\n",
    "if MODEL_NAME == 'ood-mean':\n",
    "    masking_values[:] = 0.1307\n",
    "\n",
    "row = x_train[SAMPLE_NUM].clone().detach().to(device)\n",
    "label = y_train[SAMPLE_NUM].clone().detach().to(device)\n",
    "\n",
    "# All of these measures will be stored\n",
    "suffixes = ['', '_inv', '_bas']\n",
    "size1_prefixes = ['mean', 'at_first_argmax', 'auc']\n",
    "sizeNUM_SAMPLES_prefixes = ['output_curve', 'is_hit_curve']\n",
    "keys = ['ranking']\n",
    "for p in size1_prefixes+sizeNUM_SAMPLES_prefixes:\n",
    "    for s in suffixes:\n",
    "        keys.append(p+s)\n",
    "\n",
    "# Dict to store all results\n",
    "all_measures = {}\n",
    "# Initialize all np arrays to speed up the process\n",
    "for k in size1_prefixes:\n",
    "    for s in suffixes:\n",
    "        all_measures[k+s] = np.zeros((num_rankings, 1), dtype=np.float32)\n",
    "\n",
    "for k in sizeNUM_SAMPLES_prefixes:\n",
    "    for s in suffixes:\n",
    "        all_measures[k+s] = np.zeros((num_rankings, NUM_SAMPLES), dtype=np.float32 if 'is_hit' not in k else bool)\n",
    "all_measures['ranking'] = np.zeros((num_rankings, *INPUT_SHAPE), dtype=np.float32)\n",
    "\n",
    "# Compute the results for each possible ranking\n",
    "for i in tqdm(range(num_rankings), miniters=10000):\n",
    "    all_rankings[i] = fl._get_random_ranking_row(row.shape) # Random generation\n",
    "    measures = fl.get_measures_for_ranking(row, torch.tensor(all_rankings[i], dtype=torch.float32).to(device), label, network, num_samples=NUM_SAMPLES, with_inverse=True, with_random=True, masking_values=masking_values)\n",
    "    measures['ranking'] = all_rankings[i]\n",
    "    # Save all results for this rankings to the i-th position\n",
    "    for k in keys:\n",
    "        all_measures[k][i] = measures[k]"
   ]
  },
  {
   "cell_type": "code",
   "execution_count": 15,
   "metadata": {},
   "outputs": [
    {
     "name": "stderr",
     "output_type": "stream",
     "text": [
      "  0%|          | 0/100 [00:00<?, ?it/s]/opt/miniconda3/envs/pytorch-quantus/lib/python3.9/site-packages/quantus/helpers/warn.py:263: UserWarning: The settings for perturbing input e.g., 'perturb_func' didn't cause change in input. Reconsider the parameter settings.\n",
      "  warnings.warn(\n"
     ]
    },
    {
     "name": "stdout",
     "output_type": "stream",
     "text": [
      "x_batch shape: (1, 1, 28, 28)\n",
      "a_batch shape: (1, 1, 28, 28)\n",
      "x_batch shape: (1, 1, 28, 28)\n",
      "a_batch shape: (1, 1, 28, 28)\n",
      "x_batch shape: (1, 1, 28, 28)\n",
      "a_batch shape: (1, 1, 28, 28)\n",
      "x_batch shape: (1, 1, 28, 28)\n",
      "a_batch shape: (1, 1, 28, 28)\n",
      "x_batch shape: (1, 1, 28, 28)\n",
      "a_batch shape: (1, 1, 28, 28)\n"
     ]
    },
    {
     "name": "stderr",
     "output_type": "stream",
     "text": [
      "  4%|▍         | 4/100 [00:06<02:24,  1.51s/it]\n"
     ]
    },
    {
     "ename": "KeyboardInterrupt",
     "evalue": "",
     "output_type": "error",
     "traceback": [
      "\u001b[0;31m---------------------------------------------------------------------------\u001b[0m",
      "\u001b[0;31mKeyboardInterrupt\u001b[0m                         Traceback (most recent call last)",
      "\u001b[1;32m/Users/eirasf/Library/CloudStorage/OneDrive-UniversidadedaCoruña/UDC-Datos/Proyectos/Explicabilidad/Berlin/eval-project/nbs/mnist/1-tabular-analysis.ipynb Celda 7\u001b[0m line \u001b[0;36m<cell line: 11>\u001b[0;34m()\u001b[0m\n\u001b[1;32m     <a href='vscode-notebook-cell:/Users/eirasf/Library/CloudStorage/OneDrive-UniversidadedaCoru%C3%B1a/UDC-Datos/Proyectos/Explicabilidad/Berlin/eval-project/nbs/mnist/1-tabular-analysis.ipynb#X21sZmlsZQ%3D%3D?line=16'>17</a>\u001b[0m \u001b[39m#print('network(x_batch) shape:',network(torch.tensor(x_batch).to(device)).shape)\u001b[39;00m\n\u001b[1;32m     <a href='vscode-notebook-cell:/Users/eirasf/Library/CloudStorage/OneDrive-UniversidadedaCoru%C3%B1a/UDC-Datos/Proyectos/Explicabilidad/Berlin/eval-project/nbs/mnist/1-tabular-analysis.ipynb#X21sZmlsZQ%3D%3D?line=17'>18</a>\u001b[0m \u001b[39m#print(a_batch)\u001b[39;00m\n\u001b[1;32m     <a href='vscode-notebook-cell:/Users/eirasf/Library/CloudStorage/OneDrive-UniversidadedaCoru%C3%B1a/UDC-Datos/Proyectos/Explicabilidad/Berlin/eval-project/nbs/mnist/1-tabular-analysis.ipynb#X21sZmlsZQ%3D%3D?line=18'>19</a>\u001b[0m all_measures[\u001b[39m'\u001b[39m\u001b[39mfaithfulness_correlation\u001b[39m\u001b[39m'\u001b[39m][i] \u001b[39m=\u001b[39m quantus\u001b[39m.\u001b[39mFaithfulnessCorrelation(\n\u001b[1;32m     <a href='vscode-notebook-cell:/Users/eirasf/Library/CloudStorage/OneDrive-UniversidadedaCoru%C3%B1a/UDC-Datos/Proyectos/Explicabilidad/Berlin/eval-project/nbs/mnist/1-tabular-analysis.ipynb#X21sZmlsZQ%3D%3D?line=19'>20</a>\u001b[0m                                                 nr_runs\u001b[39m=\u001b[39m\u001b[39m10\u001b[39m,\n\u001b[1;32m     <a href='vscode-notebook-cell:/Users/eirasf/Library/CloudStorage/OneDrive-UniversidadedaCoru%C3%B1a/UDC-Datos/Proyectos/Explicabilidad/Berlin/eval-project/nbs/mnist/1-tabular-analysis.ipynb#X21sZmlsZQ%3D%3D?line=20'>21</a>\u001b[0m                                                 subset_size\u001b[39m=\u001b[39m\u001b[39m4\u001b[39m,  \n\u001b[0;32m   (...)\u001b[0m\n\u001b[1;32m     <a href='vscode-notebook-cell:/Users/eirasf/Library/CloudStorage/OneDrive-UniversidadedaCoru%C3%B1a/UDC-Datos/Proyectos/Explicabilidad/Berlin/eval-project/nbs/mnist/1-tabular-analysis.ipynb#X21sZmlsZQ%3D%3D?line=31'>32</a>\u001b[0m                                             device\u001b[39m=\u001b[39mdevice,\n\u001b[1;32m     <a href='vscode-notebook-cell:/Users/eirasf/Library/CloudStorage/OneDrive-UniversidadedaCoru%C3%B1a/UDC-Datos/Proyectos/Explicabilidad/Berlin/eval-project/nbs/mnist/1-tabular-analysis.ipynb#X21sZmlsZQ%3D%3D?line=32'>33</a>\u001b[0m                                             channel_first\u001b[39m=\u001b[39m\u001b[39mTrue\u001b[39;00m)[\u001b[39m0\u001b[39m]\n\u001b[0;32m---> <a href='vscode-notebook-cell:/Users/eirasf/Library/CloudStorage/OneDrive-UniversidadedaCoru%C3%B1a/UDC-Datos/Proyectos/Explicabilidad/Berlin/eval-project/nbs/mnist/1-tabular-analysis.ipynb#X21sZmlsZQ%3D%3D?line=33'>34</a>\u001b[0m all_measures[\u001b[39m'\u001b[39m\u001b[39mmonotonicity_correlation\u001b[39m\u001b[39m'\u001b[39m][i] \u001b[39m=\u001b[39m quantus\u001b[39m.\u001b[39;49mMonotonicityCorrelation(\n\u001b[1;32m     <a href='vscode-notebook-cell:/Users/eirasf/Library/CloudStorage/OneDrive-UniversidadedaCoru%C3%B1a/UDC-Datos/Proyectos/Explicabilidad/Berlin/eval-project/nbs/mnist/1-tabular-analysis.ipynb#X21sZmlsZQ%3D%3D?line=34'>35</a>\u001b[0m                                                 nr_samples\u001b[39m=\u001b[39;49m\u001b[39m10\u001b[39;49m,\n\u001b[1;32m     <a href='vscode-notebook-cell:/Users/eirasf/Library/CloudStorage/OneDrive-UniversidadedaCoru%C3%B1a/UDC-Datos/Proyectos/Explicabilidad/Berlin/eval-project/nbs/mnist/1-tabular-analysis.ipynb#X21sZmlsZQ%3D%3D?line=35'>36</a>\u001b[0m                                                 features_in_step\u001b[39m=\u001b[39;49m\u001b[39m2\u001b[39;49m \u001b[39mif\u001b[39;49;00m NUM_VARS \u001b[39m%\u001b[39;49m \u001b[39m2\u001b[39;49m \u001b[39m==\u001b[39;49m \u001b[39m0\u001b[39;49m \u001b[39melse\u001b[39;49;00m \u001b[39m1\u001b[39;49m,\n\u001b[1;32m     <a href='vscode-notebook-cell:/Users/eirasf/Library/CloudStorage/OneDrive-UniversidadedaCoru%C3%B1a/UDC-Datos/Proyectos/Explicabilidad/Berlin/eval-project/nbs/mnist/1-tabular-analysis.ipynb#X21sZmlsZQ%3D%3D?line=36'>37</a>\u001b[0m                                                 perturb_baseline\u001b[39m=\u001b[39;49m\u001b[39m\"\u001b[39;49m\u001b[39mblack\u001b[39;49m\u001b[39m\"\u001b[39;49m,\n\u001b[1;32m     <a href='vscode-notebook-cell:/Users/eirasf/Library/CloudStorage/OneDrive-UniversidadedaCoru%C3%B1a/UDC-Datos/Proyectos/Explicabilidad/Berlin/eval-project/nbs/mnist/1-tabular-analysis.ipynb#X21sZmlsZQ%3D%3D?line=37'>38</a>\u001b[0m                                                 perturb_func\u001b[39m=\u001b[39;49mquantus\u001b[39m.\u001b[39;49mperturb_func\u001b[39m.\u001b[39;49mbaseline_replacement_by_indices,\n\u001b[1;32m     <a href='vscode-notebook-cell:/Users/eirasf/Library/CloudStorage/OneDrive-UniversidadedaCoru%C3%B1a/UDC-Datos/Proyectos/Explicabilidad/Berlin/eval-project/nbs/mnist/1-tabular-analysis.ipynb#X21sZmlsZQ%3D%3D?line=38'>39</a>\u001b[0m                                                 similarity_func\u001b[39m=\u001b[39;49mquantus\u001b[39m.\u001b[39;49msimilarity_func\u001b[39m.\u001b[39;49mcorrelation_spearman,\n\u001b[1;32m     <a href='vscode-notebook-cell:/Users/eirasf/Library/CloudStorage/OneDrive-UniversidadedaCoru%C3%B1a/UDC-Datos/Proyectos/Explicabilidad/Berlin/eval-project/nbs/mnist/1-tabular-analysis.ipynb#X21sZmlsZQ%3D%3D?line=39'>40</a>\u001b[0m                                                 disable_warnings\u001b[39m=\u001b[39;49m\u001b[39mTrue\u001b[39;49;00m\n\u001b[1;32m     <a href='vscode-notebook-cell:/Users/eirasf/Library/CloudStorage/OneDrive-UniversidadedaCoru%C3%B1a/UDC-Datos/Proyectos/Explicabilidad/Berlin/eval-project/nbs/mnist/1-tabular-analysis.ipynb#X21sZmlsZQ%3D%3D?line=40'>41</a>\u001b[0m                                             )(model\u001b[39m=\u001b[39;49mnetwork, \n\u001b[1;32m     <a href='vscode-notebook-cell:/Users/eirasf/Library/CloudStorage/OneDrive-UniversidadedaCoru%C3%B1a/UDC-Datos/Proyectos/Explicabilidad/Berlin/eval-project/nbs/mnist/1-tabular-analysis.ipynb#X21sZmlsZQ%3D%3D?line=41'>42</a>\u001b[0m                                             x_batch\u001b[39m=\u001b[39;49mx_batch,\n\u001b[1;32m     <a href='vscode-notebook-cell:/Users/eirasf/Library/CloudStorage/OneDrive-UniversidadedaCoru%C3%B1a/UDC-Datos/Proyectos/Explicabilidad/Berlin/eval-project/nbs/mnist/1-tabular-analysis.ipynb#X21sZmlsZQ%3D%3D?line=42'>43</a>\u001b[0m                                             y_batch\u001b[39m=\u001b[39;49my_batch,\n\u001b[1;32m     <a href='vscode-notebook-cell:/Users/eirasf/Library/CloudStorage/OneDrive-UniversidadedaCoru%C3%B1a/UDC-Datos/Proyectos/Explicabilidad/Berlin/eval-project/nbs/mnist/1-tabular-analysis.ipynb#X21sZmlsZQ%3D%3D?line=43'>44</a>\u001b[0m                                             a_batch\u001b[39m=\u001b[39;49ma_batch,\n\u001b[1;32m     <a href='vscode-notebook-cell:/Users/eirasf/Library/CloudStorage/OneDrive-UniversidadedaCoru%C3%B1a/UDC-Datos/Proyectos/Explicabilidad/Berlin/eval-project/nbs/mnist/1-tabular-analysis.ipynb#X21sZmlsZQ%3D%3D?line=44'>45</a>\u001b[0m                                             device\u001b[39m=\u001b[39;49mdevice,\n\u001b[1;32m     <a href='vscode-notebook-cell:/Users/eirasf/Library/CloudStorage/OneDrive-UniversidadedaCoru%C3%B1a/UDC-Datos/Proyectos/Explicabilidad/Berlin/eval-project/nbs/mnist/1-tabular-analysis.ipynb#X21sZmlsZQ%3D%3D?line=45'>46</a>\u001b[0m                                             channel_first\u001b[39m=\u001b[39;49m\u001b[39mTrue\u001b[39;49;00m)[\u001b[39m0\u001b[39m]\n\u001b[1;32m     <a href='vscode-notebook-cell:/Users/eirasf/Library/CloudStorage/OneDrive-UniversidadedaCoru%C3%B1a/UDC-Datos/Proyectos/Explicabilidad/Berlin/eval-project/nbs/mnist/1-tabular-analysis.ipynb#X21sZmlsZQ%3D%3D?line=46'>47</a>\u001b[0m all_measures[\u001b[39m'\u001b[39m\u001b[39mpixel_flipping\u001b[39m\u001b[39m'\u001b[39m][i] \u001b[39m=\u001b[39m quantus\u001b[39m.\u001b[39mPixelFlipping(\n\u001b[1;32m     <a href='vscode-notebook-cell:/Users/eirasf/Library/CloudStorage/OneDrive-UniversidadedaCoru%C3%B1a/UDC-Datos/Proyectos/Explicabilidad/Berlin/eval-project/nbs/mnist/1-tabular-analysis.ipynb#X21sZmlsZQ%3D%3D?line=47'>48</a>\u001b[0m                                                 features_in_step\u001b[39m=\u001b[39m\u001b[39m1\u001b[39m,\n\u001b[1;32m     <a href='vscode-notebook-cell:/Users/eirasf/Library/CloudStorage/OneDrive-UniversidadedaCoru%C3%B1a/UDC-Datos/Proyectos/Explicabilidad/Berlin/eval-project/nbs/mnist/1-tabular-analysis.ipynb#X21sZmlsZQ%3D%3D?line=48'>49</a>\u001b[0m                                                 perturb_baseline\u001b[39m=\u001b[39m\u001b[39m\"\u001b[39m\u001b[39mblack\u001b[39m\u001b[39m\"\u001b[39m,\n\u001b[0;32m   (...)\u001b[0m\n\u001b[1;32m     <a href='vscode-notebook-cell:/Users/eirasf/Library/CloudStorage/OneDrive-UniversidadedaCoru%C3%B1a/UDC-Datos/Proyectos/Explicabilidad/Berlin/eval-project/nbs/mnist/1-tabular-analysis.ipynb#X21sZmlsZQ%3D%3D?line=55'>56</a>\u001b[0m                                                 device\u001b[39m=\u001b[39mdevice,\n\u001b[1;32m     <a href='vscode-notebook-cell:/Users/eirasf/Library/CloudStorage/OneDrive-UniversidadedaCoru%C3%B1a/UDC-Datos/Proyectos/Explicabilidad/Berlin/eval-project/nbs/mnist/1-tabular-analysis.ipynb#X21sZmlsZQ%3D%3D?line=56'>57</a>\u001b[0m                                             channel_first\u001b[39m=\u001b[39m\u001b[39mTrue\u001b[39;00m)[\u001b[39m0\u001b[39m]\n",
      "File \u001b[0;32m/opt/miniconda3/envs/pytorch-quantus/lib/python3.9/site-packages/quantus/metrics/faithfulness/monotonicity_correlation.py:240\u001b[0m, in \u001b[0;36mMonotonicityCorrelation.__call__\u001b[0;34m(self, model, x_batch, y_batch, a_batch, s_batch, channel_first, explain_func, explain_func_kwargs, model_predict_kwargs, softmax, device, batch_size, custom_batch, **kwargs)\u001b[0m\n\u001b[1;32m    147\u001b[0m \u001b[39mdef\u001b[39;00m \u001b[39m__call__\u001b[39m(\n\u001b[1;32m    148\u001b[0m     \u001b[39mself\u001b[39m,\n\u001b[1;32m    149\u001b[0m     model,\n\u001b[0;32m   (...)\u001b[0m\n\u001b[1;32m    162\u001b[0m     \u001b[39m*\u001b[39m\u001b[39m*\u001b[39mkwargs,\n\u001b[1;32m    163\u001b[0m ) \u001b[39m-\u001b[39m\u001b[39m>\u001b[39m List[\u001b[39mfloat\u001b[39m]:\n\u001b[1;32m    164\u001b[0m     \u001b[39m\"\"\"\u001b[39;00m\n\u001b[1;32m    165\u001b[0m \u001b[39m    This implementation represents the main logic of the metric and makes the class object callable.\u001b[39;00m\n\u001b[1;32m    166\u001b[0m \u001b[39m    It completes instance-wise evaluation of explanations (a_batch) with respect to input data (x_batch),\u001b[39;00m\n\u001b[0;32m   (...)\u001b[0m\n\u001b[1;32m    238\u001b[0m \u001b[39m        >> scores = metric(model=model, x_batch=x_batch, y_batch=y_batch, a_batch=a_batch_saliency}\u001b[39;00m\n\u001b[1;32m    239\u001b[0m \u001b[39m    \"\"\"\u001b[39;00m\n\u001b[0;32m--> 240\u001b[0m     \u001b[39mreturn\u001b[39;00m \u001b[39msuper\u001b[39;49m()\u001b[39m.\u001b[39;49m\u001b[39m__call__\u001b[39;49m(\n\u001b[1;32m    241\u001b[0m         model\u001b[39m=\u001b[39;49mmodel,\n\u001b[1;32m    242\u001b[0m         x_batch\u001b[39m=\u001b[39;49mx_batch,\n\u001b[1;32m    243\u001b[0m         y_batch\u001b[39m=\u001b[39;49my_batch,\n\u001b[1;32m    244\u001b[0m         a_batch\u001b[39m=\u001b[39;49ma_batch,\n\u001b[1;32m    245\u001b[0m         s_batch\u001b[39m=\u001b[39;49ms_batch,\n\u001b[1;32m    246\u001b[0m         custom_batch\u001b[39m=\u001b[39;49mcustom_batch,\n\u001b[1;32m    247\u001b[0m         channel_first\u001b[39m=\u001b[39;49mchannel_first,\n\u001b[1;32m    248\u001b[0m         explain_func\u001b[39m=\u001b[39;49mexplain_func,\n\u001b[1;32m    249\u001b[0m         explain_func_kwargs\u001b[39m=\u001b[39;49mexplain_func_kwargs,\n\u001b[1;32m    250\u001b[0m         softmax\u001b[39m=\u001b[39;49msoftmax,\n\u001b[1;32m    251\u001b[0m         device\u001b[39m=\u001b[39;49mdevice,\n\u001b[1;32m    252\u001b[0m         model_predict_kwargs\u001b[39m=\u001b[39;49mmodel_predict_kwargs,\n\u001b[1;32m    253\u001b[0m         \u001b[39m*\u001b[39;49m\u001b[39m*\u001b[39;49mkwargs,\n\u001b[1;32m    254\u001b[0m     )\n",
      "File \u001b[0;32m/opt/miniconda3/envs/pytorch-quantus/lib/python3.9/site-packages/quantus/metrics/base.py:225\u001b[0m, in \u001b[0;36mMetric.__call__\u001b[0;34m(self, model, x_batch, y_batch, a_batch, s_batch, channel_first, explain_func, explain_func_kwargs, model_predict_kwargs, softmax, device, batch_size, custom_batch, **kwargs)\u001b[0m\n\u001b[1;32m    223\u001b[0m iterator \u001b[39m=\u001b[39m \u001b[39mself\u001b[39m\u001b[39m.\u001b[39mget_instance_iterator(data\u001b[39m=\u001b[39mdata)\n\u001b[1;32m    224\u001b[0m \u001b[39mfor\u001b[39;00m id_instance, data_instance \u001b[39min\u001b[39;00m iterator:\n\u001b[0;32m--> 225\u001b[0m     result \u001b[39m=\u001b[39m \u001b[39mself\u001b[39;49m\u001b[39m.\u001b[39;49mevaluate_instance(\u001b[39m*\u001b[39;49m\u001b[39m*\u001b[39;49mdata_instance)\n\u001b[1;32m    226\u001b[0m     \u001b[39mself\u001b[39m\u001b[39m.\u001b[39mlast_results[id_instance] \u001b[39m=\u001b[39m result\n\u001b[1;32m    228\u001b[0m \u001b[39m# Call custom post-processing.\u001b[39;00m\n",
      "File \u001b[0;32m/opt/miniconda3/envs/pytorch-quantus/lib/python3.9/site-packages/quantus/metrics/faithfulness/monotonicity_correlation.py:323\u001b[0m, in \u001b[0;36mMonotonicityCorrelation.evaluate_instance\u001b[0;34m(self, model, x, y, a, s)\u001b[0m\n\u001b[1;32m    321\u001b[0m     \u001b[39m# Predict on perturbed input x.\u001b[39;00m\n\u001b[1;32m    322\u001b[0m     x_input \u001b[39m=\u001b[39m model\u001b[39m.\u001b[39mshape_input(x_perturbed, x\u001b[39m.\u001b[39mshape, channel_first\u001b[39m=\u001b[39m\u001b[39mTrue\u001b[39;00m)\n\u001b[0;32m--> 323\u001b[0m     y_pred_perturb \u001b[39m=\u001b[39m \u001b[39mfloat\u001b[39m(model\u001b[39m.\u001b[39;49mpredict(x_input)[:, y])\n\u001b[1;32m    324\u001b[0m     y_pred_perturbs\u001b[39m.\u001b[39mappend(y_pred_perturb)\n\u001b[1;32m    326\u001b[0m \u001b[39mvars\u001b[39m[i_ix] \u001b[39m=\u001b[39m \u001b[39mfloat\u001b[39m(\n\u001b[1;32m    327\u001b[0m     np\u001b[39m.\u001b[39mmean((np\u001b[39m.\u001b[39marray(y_pred_perturbs) \u001b[39m-\u001b[39m np\u001b[39m.\u001b[39marray(y_pred)) \u001b[39m*\u001b[39m\u001b[39m*\u001b[39m \u001b[39m2\u001b[39m) \u001b[39m*\u001b[39m inv_pred\n\u001b[1;32m    328\u001b[0m )\n",
      "File \u001b[0;32m/opt/miniconda3/envs/pytorch-quantus/lib/python3.9/site-packages/quantus/helpers/model/pytorch_model.py:123\u001b[0m, in \u001b[0;36mPyTorchModel.predict\u001b[0;34m(self, x, grad, **kwargs)\u001b[0m\n\u001b[1;32m    121\u001b[0m \u001b[39mwith\u001b[39;00m grad_context:\n\u001b[1;32m    122\u001b[0m     pred_model \u001b[39m=\u001b[39m \u001b[39mself\u001b[39m\u001b[39m.\u001b[39mget_softmax_arg_model()\n\u001b[0;32m--> 123\u001b[0m     pred \u001b[39m=\u001b[39m pred_model(torch\u001b[39m.\u001b[39;49mTensor(x)\u001b[39m.\u001b[39;49mto(\u001b[39mself\u001b[39;49m\u001b[39m.\u001b[39;49mdevice), \u001b[39m*\u001b[39;49m\u001b[39m*\u001b[39;49mmodel_predict_kwargs)\n\u001b[1;32m    124\u001b[0m     \u001b[39mif\u001b[39;00m pred\u001b[39m.\u001b[39mrequires_grad:\n\u001b[1;32m    125\u001b[0m         \u001b[39mreturn\u001b[39;00m pred\u001b[39m.\u001b[39mdetach()\u001b[39m.\u001b[39mcpu()\u001b[39m.\u001b[39mnumpy()\n",
      "File \u001b[0;32m/opt/miniconda3/envs/pytorch-quantus/lib/python3.9/site-packages/torch/nn/modules/module.py:1102\u001b[0m, in \u001b[0;36mModule._call_impl\u001b[0;34m(self, *input, **kwargs)\u001b[0m\n\u001b[1;32m   1098\u001b[0m \u001b[39m# If we don't have any hooks, we want to skip the rest of the logic in\u001b[39;00m\n\u001b[1;32m   1099\u001b[0m \u001b[39m# this function, and just call forward.\u001b[39;00m\n\u001b[1;32m   1100\u001b[0m \u001b[39mif\u001b[39;00m \u001b[39mnot\u001b[39;00m (\u001b[39mself\u001b[39m\u001b[39m.\u001b[39m_backward_hooks \u001b[39mor\u001b[39;00m \u001b[39mself\u001b[39m\u001b[39m.\u001b[39m_forward_hooks \u001b[39mor\u001b[39;00m \u001b[39mself\u001b[39m\u001b[39m.\u001b[39m_forward_pre_hooks \u001b[39mor\u001b[39;00m _global_backward_hooks\n\u001b[1;32m   1101\u001b[0m         \u001b[39mor\u001b[39;00m _global_forward_hooks \u001b[39mor\u001b[39;00m _global_forward_pre_hooks):\n\u001b[0;32m-> 1102\u001b[0m     \u001b[39mreturn\u001b[39;00m forward_call(\u001b[39m*\u001b[39;49m\u001b[39minput\u001b[39;49m, \u001b[39m*\u001b[39;49m\u001b[39m*\u001b[39;49mkwargs)\n\u001b[1;32m   1103\u001b[0m \u001b[39m# Do not call functions when jit is used\u001b[39;00m\n\u001b[1;32m   1104\u001b[0m full_backward_hooks, non_full_backward_hooks \u001b[39m=\u001b[39m [], []\n",
      "File \u001b[0;32m/opt/miniconda3/envs/pytorch-quantus/lib/python3.9/site-packages/torch/nn/modules/container.py:141\u001b[0m, in \u001b[0;36mSequential.forward\u001b[0;34m(self, input)\u001b[0m\n\u001b[1;32m    139\u001b[0m \u001b[39mdef\u001b[39;00m \u001b[39mforward\u001b[39m(\u001b[39mself\u001b[39m, \u001b[39minput\u001b[39m):\n\u001b[1;32m    140\u001b[0m     \u001b[39mfor\u001b[39;00m module \u001b[39min\u001b[39;00m \u001b[39mself\u001b[39m:\n\u001b[0;32m--> 141\u001b[0m         \u001b[39minput\u001b[39m \u001b[39m=\u001b[39m module(\u001b[39minput\u001b[39;49m)\n\u001b[1;32m    142\u001b[0m     \u001b[39mreturn\u001b[39;00m \u001b[39minput\u001b[39m\n",
      "File \u001b[0;32m/opt/miniconda3/envs/pytorch-quantus/lib/python3.9/site-packages/torch/nn/modules/module.py:1102\u001b[0m, in \u001b[0;36mModule._call_impl\u001b[0;34m(self, *input, **kwargs)\u001b[0m\n\u001b[1;32m   1098\u001b[0m \u001b[39m# If we don't have any hooks, we want to skip the rest of the logic in\u001b[39;00m\n\u001b[1;32m   1099\u001b[0m \u001b[39m# this function, and just call forward.\u001b[39;00m\n\u001b[1;32m   1100\u001b[0m \u001b[39mif\u001b[39;00m \u001b[39mnot\u001b[39;00m (\u001b[39mself\u001b[39m\u001b[39m.\u001b[39m_backward_hooks \u001b[39mor\u001b[39;00m \u001b[39mself\u001b[39m\u001b[39m.\u001b[39m_forward_hooks \u001b[39mor\u001b[39;00m \u001b[39mself\u001b[39m\u001b[39m.\u001b[39m_forward_pre_hooks \u001b[39mor\u001b[39;00m _global_backward_hooks\n\u001b[1;32m   1101\u001b[0m         \u001b[39mor\u001b[39;00m _global_forward_hooks \u001b[39mor\u001b[39;00m _global_forward_pre_hooks):\n\u001b[0;32m-> 1102\u001b[0m     \u001b[39mreturn\u001b[39;00m forward_call(\u001b[39m*\u001b[39;49m\u001b[39minput\u001b[39;49m, \u001b[39m*\u001b[39;49m\u001b[39m*\u001b[39;49mkwargs)\n\u001b[1;32m   1103\u001b[0m \u001b[39m# Do not call functions when jit is used\u001b[39;00m\n\u001b[1;32m   1104\u001b[0m full_backward_hooks, non_full_backward_hooks \u001b[39m=\u001b[39m [], []\n",
      "\u001b[1;32m/Users/eirasf/Library/CloudStorage/OneDrive-UniversidadedaCoruña/UDC-Datos/Proyectos/Explicabilidad/Berlin/eval-project/nbs/mnist/1-tabular-analysis.ipynb Celda 7\u001b[0m line \u001b[0;36mMNISTClassifier.forward\u001b[0;34m(self, x)\u001b[0m\n\u001b[1;32m     <a href='vscode-notebook-cell:/Users/eirasf/Library/CloudStorage/OneDrive-UniversidadedaCoru%C3%B1a/UDC-Datos/Proyectos/Explicabilidad/Berlin/eval-project/nbs/mnist/1-tabular-analysis.ipynb#X21sZmlsZQ%3D%3D?line=17'>18</a>\u001b[0m \u001b[39mdef\u001b[39;00m \u001b[39mforward\u001b[39m(\u001b[39mself\u001b[39m, x):\n\u001b[0;32m---> <a href='vscode-notebook-cell:/Users/eirasf/Library/CloudStorage/OneDrive-UniversidadedaCoru%C3%B1a/UDC-Datos/Proyectos/Explicabilidad/Berlin/eval-project/nbs/mnist/1-tabular-analysis.ipynb#X21sZmlsZQ%3D%3D?line=18'>19</a>\u001b[0m     x \u001b[39m=\u001b[39m F\u001b[39m.\u001b[39mrelu(F\u001b[39m.\u001b[39mmax_pool2d(\u001b[39mself\u001b[39;49m\u001b[39m.\u001b[39;49mconv1(x), \u001b[39m2\u001b[39m))\n\u001b[1;32m     <a href='vscode-notebook-cell:/Users/eirasf/Library/CloudStorage/OneDrive-UniversidadedaCoru%C3%B1a/UDC-Datos/Proyectos/Explicabilidad/Berlin/eval-project/nbs/mnist/1-tabular-analysis.ipynb#X21sZmlsZQ%3D%3D?line=19'>20</a>\u001b[0m     x \u001b[39m=\u001b[39m F\u001b[39m.\u001b[39mrelu(F\u001b[39m.\u001b[39mmax_pool2d(\u001b[39mself\u001b[39m\u001b[39m.\u001b[39mconv2_drop(\u001b[39mself\u001b[39m\u001b[39m.\u001b[39mconv2(x)), \u001b[39m2\u001b[39m))\n\u001b[1;32m     <a href='vscode-notebook-cell:/Users/eirasf/Library/CloudStorage/OneDrive-UniversidadedaCoru%C3%B1a/UDC-Datos/Proyectos/Explicabilidad/Berlin/eval-project/nbs/mnist/1-tabular-analysis.ipynb#X21sZmlsZQ%3D%3D?line=20'>21</a>\u001b[0m     x \u001b[39m=\u001b[39m x\u001b[39m.\u001b[39mview(\u001b[39m-\u001b[39m\u001b[39m1\u001b[39m, \u001b[39m320\u001b[39m)\n",
      "File \u001b[0;32m/opt/miniconda3/envs/pytorch-quantus/lib/python3.9/site-packages/torch/nn/modules/module.py:1102\u001b[0m, in \u001b[0;36mModule._call_impl\u001b[0;34m(self, *input, **kwargs)\u001b[0m\n\u001b[1;32m   1098\u001b[0m \u001b[39m# If we don't have any hooks, we want to skip the rest of the logic in\u001b[39;00m\n\u001b[1;32m   1099\u001b[0m \u001b[39m# this function, and just call forward.\u001b[39;00m\n\u001b[1;32m   1100\u001b[0m \u001b[39mif\u001b[39;00m \u001b[39mnot\u001b[39;00m (\u001b[39mself\u001b[39m\u001b[39m.\u001b[39m_backward_hooks \u001b[39mor\u001b[39;00m \u001b[39mself\u001b[39m\u001b[39m.\u001b[39m_forward_hooks \u001b[39mor\u001b[39;00m \u001b[39mself\u001b[39m\u001b[39m.\u001b[39m_forward_pre_hooks \u001b[39mor\u001b[39;00m _global_backward_hooks\n\u001b[1;32m   1101\u001b[0m         \u001b[39mor\u001b[39;00m _global_forward_hooks \u001b[39mor\u001b[39;00m _global_forward_pre_hooks):\n\u001b[0;32m-> 1102\u001b[0m     \u001b[39mreturn\u001b[39;00m forward_call(\u001b[39m*\u001b[39;49m\u001b[39minput\u001b[39;49m, \u001b[39m*\u001b[39;49m\u001b[39m*\u001b[39;49mkwargs)\n\u001b[1;32m   1103\u001b[0m \u001b[39m# Do not call functions when jit is used\u001b[39;00m\n\u001b[1;32m   1104\u001b[0m full_backward_hooks, non_full_backward_hooks \u001b[39m=\u001b[39m [], []\n",
      "File \u001b[0;32m/opt/miniconda3/envs/pytorch-quantus/lib/python3.9/site-packages/torch/nn/modules/conv.py:446\u001b[0m, in \u001b[0;36mConv2d.forward\u001b[0;34m(self, input)\u001b[0m\n\u001b[1;32m    445\u001b[0m \u001b[39mdef\u001b[39;00m \u001b[39mforward\u001b[39m(\u001b[39mself\u001b[39m, \u001b[39minput\u001b[39m: Tensor) \u001b[39m-\u001b[39m\u001b[39m>\u001b[39m Tensor:\n\u001b[0;32m--> 446\u001b[0m     \u001b[39mreturn\u001b[39;00m \u001b[39mself\u001b[39;49m\u001b[39m.\u001b[39;49m_conv_forward(\u001b[39minput\u001b[39;49m, \u001b[39mself\u001b[39;49m\u001b[39m.\u001b[39;49mweight, \u001b[39mself\u001b[39;49m\u001b[39m.\u001b[39;49mbias)\n",
      "File \u001b[0;32m/opt/miniconda3/envs/pytorch-quantus/lib/python3.9/site-packages/torch/nn/modules/conv.py:442\u001b[0m, in \u001b[0;36mConv2d._conv_forward\u001b[0;34m(self, input, weight, bias)\u001b[0m\n\u001b[1;32m    438\u001b[0m \u001b[39mif\u001b[39;00m \u001b[39mself\u001b[39m\u001b[39m.\u001b[39mpadding_mode \u001b[39m!=\u001b[39m \u001b[39m'\u001b[39m\u001b[39mzeros\u001b[39m\u001b[39m'\u001b[39m:\n\u001b[1;32m    439\u001b[0m     \u001b[39mreturn\u001b[39;00m F\u001b[39m.\u001b[39mconv2d(F\u001b[39m.\u001b[39mpad(\u001b[39minput\u001b[39m, \u001b[39mself\u001b[39m\u001b[39m.\u001b[39m_reversed_padding_repeated_twice, mode\u001b[39m=\u001b[39m\u001b[39mself\u001b[39m\u001b[39m.\u001b[39mpadding_mode),\n\u001b[1;32m    440\u001b[0m                     weight, bias, \u001b[39mself\u001b[39m\u001b[39m.\u001b[39mstride,\n\u001b[1;32m    441\u001b[0m                     _pair(\u001b[39m0\u001b[39m), \u001b[39mself\u001b[39m\u001b[39m.\u001b[39mdilation, \u001b[39mself\u001b[39m\u001b[39m.\u001b[39mgroups)\n\u001b[0;32m--> 442\u001b[0m \u001b[39mreturn\u001b[39;00m F\u001b[39m.\u001b[39;49mconv2d(\u001b[39minput\u001b[39;49m, weight, bias, \u001b[39mself\u001b[39;49m\u001b[39m.\u001b[39;49mstride,\n\u001b[1;32m    443\u001b[0m                 \u001b[39mself\u001b[39;49m\u001b[39m.\u001b[39;49mpadding, \u001b[39mself\u001b[39;49m\u001b[39m.\u001b[39;49mdilation, \u001b[39mself\u001b[39;49m\u001b[39m.\u001b[39;49mgroups)\n",
      "\u001b[0;31mKeyboardInterrupt\u001b[0m: "
     ]
    }
   ],
   "source": [
    "#Retrieve and store Quantus' faithfulness metrics\n",
    "# To be used by Quantus\n",
    "x_batch_pt = torch.unsqueeze(row, dim=0)\n",
    "x_batch = x_batch_pt.to('cpu').numpy()\n",
    "y_batch = torch.unsqueeze(label, dim=0).to('cpu').numpy()\n",
    "\n",
    "all_measures['faithfulness_correlation'] = np.zeros(num_rankings, dtype=np.float32)\n",
    "all_measures['monotonicity_correlation'] = np.zeros(num_rankings, dtype=np.float32)\n",
    "all_measures['pixel_flipping'] = np.zeros((num_rankings,NUM_VARS), dtype=np.float32)\n",
    "\n",
    "for i in tqdm(range(num_rankings)):#,  miniters=10000):\n",
    "    #For each ranking, retrieve and store Quantus' faithfulness metrics\n",
    "    a_batch = np.expand_dims(all_rankings[i], 0)\n",
    "    #print('x_batch shape:',x_batch.shape)\n",
    "    #print('y_batch shape:',y_batch.shape)\n",
    "    #print('a_batch shape:',a_batch.shape)\n",
    "    #print('network(x_batch) shape:',network(torch.tensor(x_batch).to(device)).shape)\n",
    "    #print(a_batch)\n",
    "    all_measures['faithfulness_correlation'][i] = quantus.FaithfulnessCorrelation(\n",
    "                                                    nr_runs=10,\n",
    "                                                    subset_size=4,  \n",
    "                                                    perturb_baseline=\"black\",\n",
    "                                                    perturb_func=quantus.perturb_func.baseline_replacement_by_indices,\n",
    "                                                    similarity_func=quantus.similarity_func.correlation_pearson,  \n",
    "                                                    abs=False,  \n",
    "                                                    return_aggregate=False,\n",
    "                                                    disable_warnings=True\n",
    "                                                )(model=network, \n",
    "                                                x_batch=x_batch, \n",
    "                                                y_batch=y_batch,\n",
    "                                                a_batch=a_batch,\n",
    "                                                device=device,\n",
    "                                                channel_first=True)[0]\n",
    "    all_measures['monotonicity_correlation'][i] = quantus.MonotonicityCorrelation(\n",
    "                                                    nr_samples=10,\n",
    "                                                    features_in_step=2 if NUM_VARS % 2 == 0 else 1,\n",
    "                                                    perturb_baseline=\"black\",\n",
    "                                                    perturb_func=quantus.perturb_func.baseline_replacement_by_indices,\n",
    "                                                    similarity_func=quantus.similarity_func.correlation_spearman,\n",
    "                                                    disable_warnings=True\n",
    "                                                )(model=network, \n",
    "                                                x_batch=x_batch,\n",
    "                                                y_batch=y_batch,\n",
    "                                                a_batch=a_batch,\n",
    "                                                device=device,\n",
    "                                                channel_first=True)[0]\n",
    "    all_measures['pixel_flipping'][i] = quantus.PixelFlipping(\n",
    "                                                    features_in_step=1,\n",
    "                                                    perturb_baseline=\"black\",\n",
    "                                                    perturb_func=quantus.perturb_func.baseline_replacement_by_indices,\n",
    "                                                    disable_warnings=True\n",
    "                                                )(model=network,\n",
    "                                                    x_batch=x_batch,\n",
    "                                                    y_batch=y_batch,\n",
    "                                                    a_batch=a_batch,\n",
    "                                                    device=device,\n",
    "                                                channel_first=True)[0]"
   ]
  },
  {
   "cell_type": "code",
   "execution_count": null,
   "metadata": {},
   "outputs": [],
   "source": [
    "np.savez(os.path.join(PROJ_DIR, 'results', f'{DATASET}_{SAMPLE_NUM}_{MODEL_NAME}_measures.npz'), \\\n",
    "        row=row.to('cpu').numpy(), \\\n",
    "        label=label.to('cpu').numpy(), \\\n",
    "        rankings=all_measures['ranking'], \\\n",
    "        faithfulness_correlations=all_measures['faithfulness_correlation'], \\\n",
    "        monotonicity_correlations=all_measures['monotonicity_correlation'], \\\n",
    "        pixel_flippings=all_measures['pixel_flipping'], \\\n",
    "        qmeans=all_measures['mean'], \\\n",
    "        qmean_invs=all_measures['mean_inv'], \\\n",
    "        qmean_bas=all_measures['mean_bas'], \\\n",
    "        qargmaxs=all_measures['at_first_argmax'], \\\n",
    "        qargmax_invs=all_measures['at_first_argmax_inv'], \\\n",
    "        qargmax_bas=all_measures['at_first_argmax_bas'], \\\n",
    "        qaucs=all_measures['auc'], \\\n",
    "        qauc_invs=all_measures['auc_inv'], \\\n",
    "        qauc_bas=all_measures['auc_bas'], \\\n",
    "        output_curves=all_measures['output_curve'], \\\n",
    "        is_hit_curves=all_measures['is_hit_curve'], \\\n",
    "        output_curves_inv=all_measures['output_curve_inv'], \\\n",
    "        is_hit_curves_inv=all_measures['is_hit_curve_inv'], \\\n",
    "        output_curves_bas=all_measures['output_curve_bas'], \\\n",
    "        is_hit_curves_bas=all_measures['is_hit_curve_bas'])#, \\\n",
    "        #inv_lookup=inv_lookup)"
   ]
  }
 ],
 "metadata": {
  "kernelspec": {
   "display_name": "Python 3 (ipykernel)",
   "language": "python",
   "name": "python3"
  },
  "language_info": {
   "codemirror_mode": {
    "name": "ipython",
    "version": 3
   },
   "file_extension": ".py",
   "mimetype": "text/x-python",
   "name": "python",
   "nbconvert_exporter": "python",
   "pygments_lexer": "ipython3",
   "version": "3.9.13"
  },
  "vscode": {
   "interpreter": {
    "hash": "f2b297cc45ec3b3804f1c0db7a06ed5081ea647c50a60ca6b31b53a357bc80d7"
   }
  }
 },
 "nbformat": 4,
 "nbformat_minor": 2
}
