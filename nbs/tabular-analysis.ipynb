{
 "cells": [
  {
   "attachments": {},
   "cell_type": "markdown",
   "metadata": {},
   "source": [
    "## Tabular analysis\n",
    "\n",
    "This notebook loads a tabular dataset and a pretrained model and computes Qinv and Qbas for all possible rankings."
   ]
  },
  {
   "cell_type": "code",
   "execution_count": null,
   "metadata": {},
<<<<<<< Updated upstream
   "outputs": [
    {
     "name": "stderr",
     "output_type": "stream",
     "text": [
      "/opt/miniconda3/envs/pytorch-quantus/lib/python3.9/site-packages/tqdm/auto.py:21: TqdmWarning: IProgress not found. Please update jupyter and ipywidgets. See https://ipywidgets.readthedocs.io/en/stable/user_install.html\n",
      "  from .autonotebook import tqdm as notebook_tqdm\n"
     ]
    }
   ],
=======
   "outputs": [],
>>>>>>> Stashed changes
   "source": [
    "# Import the necessary libraries\n",
    "import sys\n",
    "import os\n",
    "PROJ_DIR = os.path.realpath(os.path.dirname(os.path.abspath('')))\n",
    "sys.path.append(os.path.join(PROJ_DIR,'src'))\n",
    "import xai_faithfulness_experiments_lib_edits as fl\n",
    "\n",
    "import numpy as np"
   ]
  },
  {
   "cell_type": "code",
   "execution_count": null,
   "metadata": {},
   "outputs": [],
   "source": [
    "# Avila dataset\n",
    "DATASET = 'avila'\n",
    "DATASET_PATH = os.path.join(PROJ_DIR,'assets', 'data', f'{DATASET}.npz')\n",
    "MODEL_PATH = os.path.join(PROJ_DIR,'assets', 'models', f'{DATASET}-mlp.pth')"
   ]
  },
  {
   "cell_type": "code",
<<<<<<< Updated upstream
   "execution_count": 10,
   "metadata": {},
   "outputs": [
    {
     "data": {
      "text/plain": [
       "MLPForQuantus(\n",
       "  (fc1): Linear(in_features=10, out_features=100, bias=True)\n",
       "  (ac1): Sigmoid()\n",
       "  (fc2): Linear(in_features=100, out_features=12, bias=True)\n",
       "  (ac2): Softmax(dim=-1)\n",
       ")"
      ]
     },
     "execution_count": 10,
     "metadata": {},
     "output_type": "execute_result"
    }
   ],
=======
   "execution_count": null,
   "metadata": {},
   "outputs": [],
>>>>>>> Stashed changes
   "source": [
    "# Load dataset\n",
    "file_data = np.load(DATASET_PATH)\n",
    "x_train = file_data['x_train']\n",
    "x_test = file_data['x_test']\n",
    "y_train = file_data['y_train']\n",
    "y_test = file_data['y_test']\n",
    "\n",
    "# Load model\n",
    "import torch\n",
    "device = torch.device(\"cuda:0\" if torch.cuda.is_available() else \"cpu\")\n",
    "\n",
    "MODEL_NEURONS = 100\n",
    "MODEL_EPOCHS= 2000\n",
    "MODEL_LR = 1.0e-1\n",
    "MODEL_LABEL_NUM = len(np.unique(y_train))\n",
    "\n",
    "class MLP(torch.nn.Module):\n",
    "    def __init__(self, n_neurons):\n",
    "        super(MLP, self).__init__()\n",
    "        self.fc1 = torch.nn.Linear(x_train.shape[1], n_neurons)\n",
    "        self.ac1 = torch.nn.Sigmoid()\n",
    "        self.fc2 = torch.nn.Linear(n_neurons, MODEL_LABEL_NUM)\n",
    "        self.ac2 = torch.nn.Softmax(dim=-1)\n",
    "    \n",
    "    def forward(self, x):\n",
    "        print('OTRO FORWARD')\n",
    "        x = self.fc1(x)\n",
    "        x = self.ac1(x)\n",
    "        logits = self.fc2(x)\n",
    "        x = self.ac2(logits)\n",
    "        return x\n",
    "    \n",
    "class MLPForQuantus(torch.nn.Module):\n",
    "    def __init__(self, n_neurons):\n",
    "        super(MLPForQuantus, self).__init__()\n",
    "        self.fc1 = torch.nn.Linear(x_train.shape[1], n_neurons)\n",
    "        self.ac1 = torch.nn.Sigmoid()\n",
    "        self.fc2 = torch.nn.Linear(n_neurons, MODEL_LABEL_NUM)\n",
    "        self.ac2 = torch.nn.Softmax(dim=-1)\n",
    "    \n",
    "    def forward(self, x):\n",
    "        print('forward')\n",
    "        x = self.fc1(x)\n",
    "        x = self.ac1(x)\n",
    "        logits = self.fc2(x)\n",
    "        x = self.ac2(logits)\n",
    "        #Reshapes to be able to use Quantus\n",
    "        x = torch.squeeze(x)\n",
    "        x = torch.unsqueeze(x,dim=0)\n",
    "        #x = torch.unsqueeze(x,dim=0)\n",
    "        print(x.shape)\n",
    "        return x\n",
    "\n",
    "network = MLP(MODEL_NEURONS)\n",
    "network.load_state_dict(torch.load(MODEL_PATH))\n",
    "network.eval()\n",
    "network.to(device)\n",
    "\n",
    "network_fq = MLPForQuantus(MODEL_NEURONS)\n",
    "network_fq.load_state_dict(torch.load(MODEL_PATH))\n",
    "network_fq.eval()\n",
    "network_fq.to(device)"
   ]
  },
  {
   "cell_type": "code",
   "execution_count": null,
   "metadata": {},
   "outputs": [],
   "source": [
    "import itertools\n",
    "\n",
    "NUM_VARS = x_train.shape[1]\n",
    "print(NUM_VARS)\n",
    "\n",
    "permutations = list(itertools.permutations(range(NUM_VARS)))\n",
    "all_rankings = np.array(permutations) / (NUM_VARS - 1)\n"
   ]
  },
  {
   "cell_type": "code",
<<<<<<< Updated upstream
   "execution_count": 5,
   "metadata": {},
   "outputs": [
    {
     "name": "stderr",
     "output_type": "stream",
     "text": [
      "  0%|          | 0/3628800 [00:00<?, ?it/s]\n"
     ]
    }
   ],
=======
   "execution_count": null,
   "metadata": {},
   "outputs": [],
>>>>>>> Stashed changes
   "source": [
    "from tqdm import tqdm\n",
    "import quantus\n",
    "\n",
    "SAMPLE_NUM = 250 # Select one of the training examples in the dataset to be explained\n",
    "\n",
    "num_rankings = all_rankings.shape[0]\n",
    "row = torch.tensor(np.float32(x_train[SAMPLE_NUM])).to(device)\n",
    "label = torch.tensor(y_train[SAMPLE_NUM]).to(device)\n",
    "\n",
    "# All of these measures will be stored\n",
    "suffixes = ['', '_inv', '_bas']\n",
    "size1_prefixes = ['mean', 'at_first_argmax', 'auc']\n",
    "sizeNUM_SAMPLES_prefixes = ['output_curve', 'is_hit_curve']\n",
    "keys = ['ranking']\n",
    "for p in size1_prefixes+sizeNUM_SAMPLES_prefixes:\n",
    "    for s in suffixes:\n",
    "        keys.append(p+s)\n",
    "\n",
    "# Dict to store all results\n",
    "all_measures = {}\n",
    "# Initialize all np arrays to speed up the process\n",
    "for k in size1_prefixes:\n",
    "    for s in suffixes:\n",
    "        all_measures[k+s] = np.zeros((num_rankings, 1), dtype=np.float32)\n",
    "\n",
    "for k in sizeNUM_SAMPLES_prefixes:\n",
    "    for s in suffixes:\n",
    "        all_measures[k+s] = np.zeros((num_rankings, fl.NUM_SAMPLES), dtype=np.float32 if 'is_hit' in k else bool)\n",
    "all_measures['ranking'] = np.zeros((num_rankings, NUM_VARS), dtype=np.float32)\n",
<<<<<<< Updated upstream
    "\n",
=======
>>>>>>> Stashed changes
    "\n",
    "# Compute the results for each possible ranking\n",
    "for i in tqdm(range(num_rankings)):\n",
    "    #TODO - Add several samples for qbas instead of a single one\n",
    "    measures = fl.get_measures_for_ranking(row, torch.tensor(all_rankings[i]).to(device), label, network, num_samples=fl.NUM_SAMPLES, with_inverse=True, with_random=True)\n",
    "    measures['ranking'] = all_rankings[i]\n",
    "    # Save all results for this rankings to the i-th position\n",
    "    for k in keys:\n",
    "        all_measures[k][i] = measures[k]\n",
    "    break\n",
    "    \n",
<<<<<<< Updated upstream
    "    break\n",
    "    \n",
=======
>>>>>>> Stashed changes
    "#left_out = all_rankings.shape[0] % BATCH_SIZE\n",
    "#if left_out > 0:\n",
    "#    print(all_rankings.shape[0] - left_out, all_rankings.shape[0])"
   ]
  },
  {
   "cell_type": "code",
<<<<<<< Updated upstream
   "execution_count": 11,
   "metadata": {},
   "outputs": [
    {
     "name": "stdout",
     "output_type": "stream",
     "text": [
      "torch.float32\n",
      "(1, 1, 1, 10)\n",
      "(1,)\n",
      "int64\n",
      "forward\n",
      "torch.Size([1, 12])\n",
      "Prediction shape torch.Size([1, 12])\n",
      "[3]\n"
     ]
    },
    {
     "name": "stderr",
     "output_type": "stream",
     "text": [
      "  0%|          | 0/3628800 [00:00<?, ?it/s]"
     ]
    },
    {
     "name": "stdout",
     "output_type": "stream",
     "text": [
      "(1, 1, 1, 10)\n"
     ]
    },
    {
     "name": "stderr",
     "output_type": "stream",
     "text": [
      "\n"
     ]
    },
    {
     "ename": "IndexError",
     "evalue": "index 3 is out of bounds for axis 1 with size 1",
     "output_type": "error",
     "traceback": [
      "\u001b[0;31m---------------------------------------------------------------------------\u001b[0m",
      "\u001b[0;31mIndexError\u001b[0m                                Traceback (most recent call last)",
      "\u001b[1;32m/Users/eirasf/Library/CloudStorage/OneDrive-UniversidadedaCoruña/UDC-Datos/Proyectos/Explicabilidad/Berlín/eval-project/nbs/tabular-analysis.ipynb Celda 7\u001b[0m in \u001b[0;36m<cell line: 23>\u001b[0;34m()\u001b[0m\n\u001b[1;32m     <a href='vscode-notebook-cell:/Users/eirasf/Library/CloudStorage/OneDrive-UniversidadedaCoru%C3%B1a/UDC-Datos/Proyectos/Explicabilidad/Berl%C3%ADn/eval-project/nbs/tabular-analysis.ipynb#W6sZmlsZQ%3D%3D?line=23'>24</a>\u001b[0m a_batch \u001b[39m=\u001b[39m np\u001b[39m.\u001b[39mexpand_dims(np\u001b[39m.\u001b[39mexpand_dims(all_measures[\u001b[39m'\u001b[39m\u001b[39mranking\u001b[39m\u001b[39m'\u001b[39m][i:i\u001b[39m+\u001b[39mbatch_size],\u001b[39m1\u001b[39m),\u001b[39m1\u001b[39m)\n\u001b[1;32m     <a href='vscode-notebook-cell:/Users/eirasf/Library/CloudStorage/OneDrive-UniversidadedaCoru%C3%B1a/UDC-Datos/Proyectos/Explicabilidad/Berl%C3%ADn/eval-project/nbs/tabular-analysis.ipynb#W6sZmlsZQ%3D%3D?line=24'>25</a>\u001b[0m \u001b[39mprint\u001b[39m(a_batch\u001b[39m.\u001b[39mshape)\n\u001b[0;32m---> <a href='vscode-notebook-cell:/Users/eirasf/Library/CloudStorage/OneDrive-UniversidadedaCoru%C3%B1a/UDC-Datos/Proyectos/Explicabilidad/Berl%C3%ADn/eval-project/nbs/tabular-analysis.ipynb#W6sZmlsZQ%3D%3D?line=25'>26</a>\u001b[0m all_measures[\u001b[39m'\u001b[39m\u001b[39mfaithfulness_correlation\u001b[39m\u001b[39m'\u001b[39m][i] \u001b[39m=\u001b[39m quantus\u001b[39m.\u001b[39;49mFaithfulnessCorrelation(\n\u001b[1;32m     <a href='vscode-notebook-cell:/Users/eirasf/Library/CloudStorage/OneDrive-UniversidadedaCoru%C3%B1a/UDC-Datos/Proyectos/Explicabilidad/Berl%C3%ADn/eval-project/nbs/tabular-analysis.ipynb#W6sZmlsZQ%3D%3D?line=26'>27</a>\u001b[0m                                                 nr_runs\u001b[39m=\u001b[39;49m\u001b[39m100\u001b[39;49m,  \n\u001b[1;32m     <a href='vscode-notebook-cell:/Users/eirasf/Library/CloudStorage/OneDrive-UniversidadedaCoru%C3%B1a/UDC-Datos/Proyectos/Explicabilidad/Berl%C3%ADn/eval-project/nbs/tabular-analysis.ipynb#W6sZmlsZQ%3D%3D?line=27'>28</a>\u001b[0m                                                 subset_size\u001b[39m=\u001b[39;49m\u001b[39m4\u001b[39;49m,  \n\u001b[1;32m     <a href='vscode-notebook-cell:/Users/eirasf/Library/CloudStorage/OneDrive-UniversidadedaCoru%C3%B1a/UDC-Datos/Proyectos/Explicabilidad/Berl%C3%ADn/eval-project/nbs/tabular-analysis.ipynb#W6sZmlsZQ%3D%3D?line=28'>29</a>\u001b[0m                                                 perturb_baseline\u001b[39m=\u001b[39;49m\u001b[39m\"\u001b[39;49m\u001b[39mblack\u001b[39;49m\u001b[39m\"\u001b[39;49m,\n\u001b[1;32m     <a href='vscode-notebook-cell:/Users/eirasf/Library/CloudStorage/OneDrive-UniversidadedaCoru%C3%B1a/UDC-Datos/Proyectos/Explicabilidad/Berl%C3%ADn/eval-project/nbs/tabular-analysis.ipynb#W6sZmlsZQ%3D%3D?line=29'>30</a>\u001b[0m                                                 perturb_func\u001b[39m=\u001b[39;49mquantus\u001b[39m.\u001b[39;49mperturb_func\u001b[39m.\u001b[39;49mbaseline_replacement_by_indices,\n\u001b[1;32m     <a href='vscode-notebook-cell:/Users/eirasf/Library/CloudStorage/OneDrive-UniversidadedaCoru%C3%B1a/UDC-Datos/Proyectos/Explicabilidad/Berl%C3%ADn/eval-project/nbs/tabular-analysis.ipynb#W6sZmlsZQ%3D%3D?line=30'>31</a>\u001b[0m                                                 similarity_func\u001b[39m=\u001b[39;49mquantus\u001b[39m.\u001b[39;49msimilarity_func\u001b[39m.\u001b[39;49mcorrelation_pearson,  \n\u001b[1;32m     <a href='vscode-notebook-cell:/Users/eirasf/Library/CloudStorage/OneDrive-UniversidadedaCoru%C3%B1a/UDC-Datos/Proyectos/Explicabilidad/Berl%C3%ADn/eval-project/nbs/tabular-analysis.ipynb#W6sZmlsZQ%3D%3D?line=31'>32</a>\u001b[0m                                                 \u001b[39mabs\u001b[39;49m\u001b[39m=\u001b[39;49m\u001b[39mFalse\u001b[39;49;00m,  \n\u001b[1;32m     <a href='vscode-notebook-cell:/Users/eirasf/Library/CloudStorage/OneDrive-UniversidadedaCoru%C3%B1a/UDC-Datos/Proyectos/Explicabilidad/Berl%C3%ADn/eval-project/nbs/tabular-analysis.ipynb#W6sZmlsZQ%3D%3D?line=32'>33</a>\u001b[0m                                                 return_aggregate\u001b[39m=\u001b[39;49m\u001b[39mFalse\u001b[39;49;00m,\n\u001b[1;32m     <a href='vscode-notebook-cell:/Users/eirasf/Library/CloudStorage/OneDrive-UniversidadedaCoru%C3%B1a/UDC-Datos/Proyectos/Explicabilidad/Berl%C3%ADn/eval-project/nbs/tabular-analysis.ipynb#W6sZmlsZQ%3D%3D?line=33'>34</a>\u001b[0m                                                 disable_warnings\u001b[39m=\u001b[39;49m\u001b[39mTrue\u001b[39;49;00m\n\u001b[1;32m     <a href='vscode-notebook-cell:/Users/eirasf/Library/CloudStorage/OneDrive-UniversidadedaCoru%C3%B1a/UDC-Datos/Proyectos/Explicabilidad/Berl%C3%ADn/eval-project/nbs/tabular-analysis.ipynb#W6sZmlsZQ%3D%3D?line=34'>35</a>\u001b[0m                                             )(model\u001b[39m=\u001b[39;49mnetwork_fq, \n\u001b[1;32m     <a href='vscode-notebook-cell:/Users/eirasf/Library/CloudStorage/OneDrive-UniversidadedaCoru%C3%B1a/UDC-Datos/Proyectos/Explicabilidad/Berl%C3%ADn/eval-project/nbs/tabular-analysis.ipynb#W6sZmlsZQ%3D%3D?line=35'>36</a>\u001b[0m                                             x_batch\u001b[39m=\u001b[39;49mx_batch, \n\u001b[1;32m     <a href='vscode-notebook-cell:/Users/eirasf/Library/CloudStorage/OneDrive-UniversidadedaCoru%C3%B1a/UDC-Datos/Proyectos/Explicabilidad/Berl%C3%ADn/eval-project/nbs/tabular-analysis.ipynb#W6sZmlsZQ%3D%3D?line=36'>37</a>\u001b[0m                                             y_batch\u001b[39m=\u001b[39;49my_batch,\n\u001b[1;32m     <a href='vscode-notebook-cell:/Users/eirasf/Library/CloudStorage/OneDrive-UniversidadedaCoru%C3%B1a/UDC-Datos/Proyectos/Explicabilidad/Berl%C3%ADn/eval-project/nbs/tabular-analysis.ipynb#W6sZmlsZQ%3D%3D?line=37'>38</a>\u001b[0m                                             a_batch\u001b[39m=\u001b[39;49ma_batch,\n\u001b[1;32m     <a href='vscode-notebook-cell:/Users/eirasf/Library/CloudStorage/OneDrive-UniversidadedaCoru%C3%B1a/UDC-Datos/Proyectos/Explicabilidad/Berl%C3%ADn/eval-project/nbs/tabular-analysis.ipynb#W6sZmlsZQ%3D%3D?line=38'>39</a>\u001b[0m                                             device\u001b[39m=\u001b[39;49mdevice,\n\u001b[1;32m     <a href='vscode-notebook-cell:/Users/eirasf/Library/CloudStorage/OneDrive-UniversidadedaCoru%C3%B1a/UDC-Datos/Proyectos/Explicabilidad/Berl%C3%ADn/eval-project/nbs/tabular-analysis.ipynb#W6sZmlsZQ%3D%3D?line=39'>40</a>\u001b[0m                                             channel_first\u001b[39m=\u001b[39;49m\u001b[39mTrue\u001b[39;49;00m)[\u001b[39m0\u001b[39m]\n",
      "File \u001b[0;32m/opt/miniconda3/envs/pytorch-quantus/lib/python3.9/site-packages/quantus/metrics/faithfulness/faithfulness_correlation.py:246\u001b[0m, in \u001b[0;36mFaithfulnessCorrelation.__call__\u001b[0;34m(self, model, x_batch, y_batch, a_batch, s_batch, channel_first, explain_func, explain_func_kwargs, model_predict_kwargs, softmax, device, batch_size, custom_batch, **kwargs)\u001b[0m\n\u001b[1;32m    153\u001b[0m \u001b[39mdef\u001b[39;00m \u001b[39m__call__\u001b[39m(\n\u001b[1;32m    154\u001b[0m     \u001b[39mself\u001b[39m,\n\u001b[1;32m    155\u001b[0m     model,\n\u001b[0;32m   (...)\u001b[0m\n\u001b[1;32m    168\u001b[0m     \u001b[39m*\u001b[39m\u001b[39m*\u001b[39mkwargs,\n\u001b[1;32m    169\u001b[0m ) \u001b[39m-\u001b[39m\u001b[39m>\u001b[39m List[\u001b[39mfloat\u001b[39m]:\n\u001b[1;32m    170\u001b[0m     \u001b[39m\"\"\"\u001b[39;00m\n\u001b[1;32m    171\u001b[0m \u001b[39m    This implementation represents the main logic of the metric and makes the class object callable.\u001b[39;00m\n\u001b[1;32m    172\u001b[0m \u001b[39m    It completes instance-wise evaluation of explanations (a_batch) with respect to input data (x_batch),\u001b[39;00m\n\u001b[0;32m   (...)\u001b[0m\n\u001b[1;32m    244\u001b[0m \u001b[39m        >> scores = metric(model=model, x_batch=x_batch, y_batch=y_batch, a_batch=a_batch_saliency}\u001b[39;00m\n\u001b[1;32m    245\u001b[0m \u001b[39m    \"\"\"\u001b[39;00m\n\u001b[0;32m--> 246\u001b[0m     \u001b[39mreturn\u001b[39;00m \u001b[39msuper\u001b[39;49m()\u001b[39m.\u001b[39;49m\u001b[39m__call__\u001b[39;49m(\n\u001b[1;32m    247\u001b[0m         model\u001b[39m=\u001b[39;49mmodel,\n\u001b[1;32m    248\u001b[0m         x_batch\u001b[39m=\u001b[39;49mx_batch,\n\u001b[1;32m    249\u001b[0m         y_batch\u001b[39m=\u001b[39;49my_batch,\n\u001b[1;32m    250\u001b[0m         a_batch\u001b[39m=\u001b[39;49ma_batch,\n\u001b[1;32m    251\u001b[0m         s_batch\u001b[39m=\u001b[39;49ms_batch,\n\u001b[1;32m    252\u001b[0m         custom_batch\u001b[39m=\u001b[39;49mcustom_batch,\n\u001b[1;32m    253\u001b[0m         channel_first\u001b[39m=\u001b[39;49mchannel_first,\n\u001b[1;32m    254\u001b[0m         explain_func\u001b[39m=\u001b[39;49mexplain_func,\n\u001b[1;32m    255\u001b[0m         explain_func_kwargs\u001b[39m=\u001b[39;49mexplain_func_kwargs,\n\u001b[1;32m    256\u001b[0m         softmax\u001b[39m=\u001b[39;49msoftmax,\n\u001b[1;32m    257\u001b[0m         device\u001b[39m=\u001b[39;49mdevice,\n\u001b[1;32m    258\u001b[0m         model_predict_kwargs\u001b[39m=\u001b[39;49mmodel_predict_kwargs,\n\u001b[1;32m    259\u001b[0m         \u001b[39m*\u001b[39;49m\u001b[39m*\u001b[39;49mkwargs,\n\u001b[1;32m    260\u001b[0m     )\n",
      "File \u001b[0;32m/opt/miniconda3/envs/pytorch-quantus/lib/python3.9/site-packages/quantus/metrics/base.py:225\u001b[0m, in \u001b[0;36mMetric.__call__\u001b[0;34m(self, model, x_batch, y_batch, a_batch, s_batch, channel_first, explain_func, explain_func_kwargs, model_predict_kwargs, softmax, device, batch_size, custom_batch, **kwargs)\u001b[0m\n\u001b[1;32m    223\u001b[0m iterator \u001b[39m=\u001b[39m \u001b[39mself\u001b[39m\u001b[39m.\u001b[39mget_instance_iterator(data\u001b[39m=\u001b[39mdata)\n\u001b[1;32m    224\u001b[0m \u001b[39mfor\u001b[39;00m id_instance, data_instance \u001b[39min\u001b[39;00m iterator:\n\u001b[0;32m--> 225\u001b[0m     result \u001b[39m=\u001b[39m \u001b[39mself\u001b[39;49m\u001b[39m.\u001b[39;49mevaluate_instance(\u001b[39m*\u001b[39;49m\u001b[39m*\u001b[39;49mdata_instance)\n\u001b[1;32m    226\u001b[0m     \u001b[39mself\u001b[39m\u001b[39m.\u001b[39mlast_results[id_instance] \u001b[39m=\u001b[39m result\n\u001b[1;32m    228\u001b[0m \u001b[39m# Call custom post-processing.\u001b[39;00m\n",
      "File \u001b[0;32m/opt/miniconda3/envs/pytorch-quantus/lib/python3.9/site-packages/quantus/metrics/faithfulness/faithfulness_correlation.py:296\u001b[0m, in \u001b[0;36mFaithfulnessCorrelation.evaluate_instance\u001b[0;34m(self, model, x, y, a, s)\u001b[0m\n\u001b[1;32m    294\u001b[0m \u001b[39m# Predict on input.\u001b[39;00m\n\u001b[1;32m    295\u001b[0m x_input \u001b[39m=\u001b[39m model\u001b[39m.\u001b[39mshape_input(x, x\u001b[39m.\u001b[39mshape, channel_first\u001b[39m=\u001b[39m\u001b[39mTrue\u001b[39;00m)\n\u001b[0;32m--> 296\u001b[0m y_pred \u001b[39m=\u001b[39m \u001b[39mfloat\u001b[39m(model\u001b[39m.\u001b[39;49mpredict(x_input)[:, y])\n\u001b[1;32m    298\u001b[0m pred_deltas \u001b[39m=\u001b[39m []\n\u001b[1;32m    299\u001b[0m att_sums \u001b[39m=\u001b[39m []\n",
      "\u001b[0;31mIndexError\u001b[0m: index 3 is out of bounds for axis 1 with size 1"
     ]
    }
   ],
   "source": [
    "batch_size = 1\n",
    "\n",
    "all_measures['faithfulness_correlation'] = np.zeros(num_rankings, dtype=np.float32)\n",
    "\n",
    "# To be used by Quantus\n",
    "x_batch_pt = torch.unsqueeze(torch.unsqueeze(torch.unsqueeze(row, dim=0), dim=0), dim=0)\n",
    "print(x_batch_pt.dtype)\n",
    "x_batch = np.zeros((batch_size,1,1,10))\n",
    "x_batch[:] = x_batch_pt.to('cpu').numpy()\n",
    "y_batch = np.zeros((batch_size), dtype=np.int64)\n",
    "y_batch[:] = label.to('cpu').numpy()\n",
    "\n",
    "print(x_batch.shape)\n",
    "print(y_batch.shape)\n",
    "print(y_batch.dtype)\n",
    "x_batch_pt = torch.tensor(x_batch, dtype=torch.float32)\n",
    "prediction = network_fq(x_batch_pt)\n",
    "print('Prediction shape', prediction.shape)\n",
    "#print(prediction[:,y_batch])\n",
    "print(y_batch)\n",
    "\n",
    "#For each ranking, retrieve and store Quantus' faithfulness metrics\n",
    "for i in tqdm(range(num_rankings)):\n",
    "    a_batch = np.expand_dims(np.expand_dims(all_measures['ranking'][i:i+batch_size],1),1)\n",
    "    print(a_batch.shape)\n",
=======
   "execution_count": null,
   "metadata": {},
   "outputs": [],
   "source": [
    "# To be used by Quantus\n",
    "x_batch_pt = torch.unsqueeze(torch.unsqueeze(torch.unsqueeze(row, dim=0), dim=0), dim=0)\n",
    "x_batch = x_batch_pt.to('cpu').numpy()\n",
    "y_batch = torch.unsqueeze(label, dim=0).to('cpu').numpy()\n",
    "\n",
    "all_measures['faithfulness_correlation'] = np.zeros(num_rankings, dtype=np.float32)\n",
    "all_measures['monotonicity_correlation'] = np.zeros(num_rankings, dtype=np.float32)\n",
    "all_measures['pixel_flipping'] = np.zeros((num_rankings,NUM_VARS), dtype=np.float32)\n",
    "\n",
    "for i in tqdm(range(num_rankings)):\n",
    "    #For each ranking, retrieve and store Quantus' faithfulness metrics\n",
    "    a_batch = np.expand_dims(np.expand_dims(np.expand_dims(all_rankings[i],0),0),0)\n",
    "    #print('x_batch shape:',x_batch.shape)\n",
    "    #print('y_batch shape:',y_batch.shape)\n",
    "    #print('a_batch shape:',a_batch.shape)\n",
    "    #print('network(x_batch) shape:',network(torch.tensor(x_batch).to(device)).shape)\n",
    "    #print(a_batch)\n",
>>>>>>> Stashed changes
    "    all_measures['faithfulness_correlation'][i] = quantus.FaithfulnessCorrelation(\n",
    "                                                    nr_runs=100,  \n",
    "                                                    subset_size=4,  \n",
    "                                                    perturb_baseline=\"black\",\n",
    "                                                    perturb_func=quantus.perturb_func.baseline_replacement_by_indices,\n",
    "                                                    similarity_func=quantus.similarity_func.correlation_pearson,  \n",
    "                                                    abs=False,  \n",
    "                                                    return_aggregate=False,\n",
    "                                                    disable_warnings=True\n",
    "                                                )(model=network_fq, \n",
    "                                                x_batch=x_batch, \n",
    "                                                y_batch=y_batch,\n",
    "                                                a_batch=a_batch,\n",
    "                                                device=device,\n",
<<<<<<< Updated upstream
    "                                                channel_first=True)[0]"
=======
    "                                                channel_first=True)[0]\n",
    "    all_measures['monotonicity_correlation'][i] = quantus.MonotonicityCorrelation(\n",
    "                                                    nr_samples=10,\n",
    "                                                    features_in_step=1,\n",
    "                                                    perturb_baseline=\"uniform\",\n",
    "                                                    perturb_func=quantus.perturb_func.baseline_replacement_by_indices,\n",
    "                                                    similarity_func=quantus.similarity_func.correlation_spearman,\n",
    "                                                    disable_warnings=True\n",
    "                                                )(model=network_fq, \n",
    "                                                   x_batch=x_batch,\n",
    "                                                   y_batch=y_batch,\n",
    "                                                   a_batch=a_batch,\n",
    "                                                   device=device,\n",
    "                                                   channel_first=True)[0]\n",
    "    all_measures['pixel_flipping'][i] = quantus.PixelFlipping(\n",
    "                                                    features_in_step=1,\n",
    "                                                    perturb_baseline=\"black\",\n",
    "                                                    perturb_func=quantus.perturb_func.baseline_replacement_by_indices,\n",
    "                                                    disable_warnings=True\n",
    "                                                )(model=network_fq,\n",
    "                                                    x_batch=x_batch,\n",
    "                                                    y_batch=y_batch,\n",
    "                                                    a_batch=a_batch,\n",
    "                                                    device=device,\n",
    "                                                   channel_first=True)[0]"
>>>>>>> Stashed changes
   ]
  },
  {
   "cell_type": "code",
   "execution_count": null,
<<<<<<< Updated upstream
   "metadata": {},
   "outputs": [],
   "source": []
  },
  {
   "cell_type": "code",
   "execution_count": 12,
   "metadata": {},
   "outputs": [
    {
     "name": "stdout",
     "output_type": "stream",
     "text": [
      "tensor([-0.4375,  0.4232,  0.3886,  0.6209,  0.1723, -0.6402,  0.2579,  1.1562,\n",
      "         0.4383, -0.5894])\n",
      "tensor([[[[-0.4375,  0.4232,  0.3886,  0.6209,  0.1723, -0.6402,  0.2579,\n",
      "            1.1562,  0.4383, -0.5894]]]])\n",
      "OTRO FORWARD\n",
      "[[[[2.5236129e-14 4.4806894e-10 8.9698993e-10 9.9900240e-01\n",
      "    1.2082822e-21 1.0830905e-18 9.9756138e-04 1.4130982e-15\n",
      "    4.2638316e-11 1.1848778e-10 2.2729377e-11 6.6260988e-21]]]]\n",
      "torch.Size([1, 10])\n",
      "tensor([[-0.4375,  0.4232,  0.3886,  0.6209,  0.1723, -0.6402,  0.2579,  1.1562,\n",
      "          0.4383, -0.5894]])\n",
      "OTRO FORWARD\n",
      "[[2.5236129e-14 4.4806894e-10 8.9698993e-10 9.9900240e-01 1.2082822e-21\n",
      "  1.0830905e-18 9.9756138e-04 1.4130982e-15 4.2638316e-11 1.1848778e-10\n",
      "  2.2729377e-11 6.6260988e-21]]\n",
      "0.99999994\n",
      "(1, 1, 1, 10)\n",
      "<class 'numpy.ndarray'>\n",
      "(1,)\n",
      "<class 'numpy.ndarray'>\n",
      "(1, 1, 1, 10)\n",
      "<class 'numpy.ndarray'>\n"
     ]
    }
   ],
=======
   "metadata": {},
   "outputs": [],
>>>>>>> Stashed changes
   "source": [
    "# (failed) Attempt at batching explanations\n",
    "\n",
    "batch_size = 10\n",
    "# Reshapes?\n",
    "x_batch_pt = torch.unsqueeze(torch.unsqueeze(torch.unsqueeze(row, dim=0), dim=0), dim=0)\n",
    "x_batch = np.zeros((batch_size,1,1,10), dtype=np.float32)\n",
    "x_batch[:,:,:,:] = x_batch_pt.to('cpu').numpy()\n",
    "y_batch = np.zeros((batch_size,), dtype=int)\n",
    "y_batch[:] = label.to('cpu').numpy()\n",
    "\n",
    "a_batch = np.expand_dims(np.expand_dims(all_measures['ranking'][100:100+batch_size],1),1)\n",
    "\n",
    "pred = network(torch.tensor(x_batch).to(device))\n",
    "print(x_batch.shape)\n",
    "print(type(x_batch))\n",
    "print(y_batch.shape)\n",
    "print(type(y_batch))\n",
    "print(a_batch.shape)\n",
    "print(type(a_batch))"
   ]
  },
  {
   "cell_type": "code",
<<<<<<< Updated upstream
   "execution_count": 14,
   "metadata": {},
   "outputs": [
    {
     "name": "stdout",
     "output_type": "stream",
     "text": [
      "Warnings and information:\n",
      " (1) The Faithfulness Correlation metric is likely to be sensitive to the choice of baseline value 'perturb_baseline', size of subset |S| 'subset_size' and the number of runs (for each input and explanation pair) 'nr_runs'.  \n",
      " (2) If attributions are normalised or their absolute values are taken it may destroy or skew information in the explanation and as a result, affect the overall evaluation outcome.\n",
      " (3) Make sure to validate the choices for hyperparameters of the metric (by calling .get_params of the metric instance).\n",
      " (4) For further information, see original publication: Bhatt, Umang, Adrian Weller, and José MF Moura. 'Evaluating and aggregating feature-based model explanations.' arXiv preprint arXiv:2005.00631 (2020).\n",
      " (5) To disable these warnings set 'disable_warnings' = True when initialising the metric.\n",
      "\n"
     ]
    },
    {
     "ename": "IndexError",
     "evalue": "index 3 is out of bounds for axis 1 with size 1",
     "output_type": "error",
     "traceback": [
      "\u001b[0;31m---------------------------------------------------------------------------\u001b[0m",
      "\u001b[0;31mIndexError\u001b[0m                                Traceback (most recent call last)",
      "\u001b[1;32m/Users/eirasf/Library/CloudStorage/OneDrive-UniversidadedaCoruña/UDC-Datos/Proyectos/Explicabilidad/Berlín/eval-project/nbs/tabular-analysis.ipynb Celda 10\u001b[0m in \u001b[0;36m<cell line: 1>\u001b[0;34m()\u001b[0m\n\u001b[0;32m----> <a href='vscode-notebook-cell:/Users/eirasf/Library/CloudStorage/OneDrive-UniversidadedaCoru%C3%B1a/UDC-Datos/Proyectos/Explicabilidad/Berl%C3%ADn/eval-project/nbs/tabular-analysis.ipynb#X11sZmlsZQ%3D%3D?line=0'>1</a>\u001b[0m quantus\u001b[39m.\u001b[39;49mFaithfulnessCorrelation(\n\u001b[1;32m      <a href='vscode-notebook-cell:/Users/eirasf/Library/CloudStorage/OneDrive-UniversidadedaCoru%C3%B1a/UDC-Datos/Proyectos/Explicabilidad/Berl%C3%ADn/eval-project/nbs/tabular-analysis.ipynb#X11sZmlsZQ%3D%3D?line=1'>2</a>\u001b[0m     nr_runs\u001b[39m=\u001b[39;49m\u001b[39m100\u001b[39;49m,  \n\u001b[1;32m      <a href='vscode-notebook-cell:/Users/eirasf/Library/CloudStorage/OneDrive-UniversidadedaCoru%C3%B1a/UDC-Datos/Proyectos/Explicabilidad/Berl%C3%ADn/eval-project/nbs/tabular-analysis.ipynb#X11sZmlsZQ%3D%3D?line=2'>3</a>\u001b[0m     subset_size\u001b[39m=\u001b[39;49m\u001b[39m4\u001b[39;49m,  \n\u001b[1;32m      <a href='vscode-notebook-cell:/Users/eirasf/Library/CloudStorage/OneDrive-UniversidadedaCoru%C3%B1a/UDC-Datos/Proyectos/Explicabilidad/Berl%C3%ADn/eval-project/nbs/tabular-analysis.ipynb#X11sZmlsZQ%3D%3D?line=3'>4</a>\u001b[0m     perturb_baseline\u001b[39m=\u001b[39;49m\u001b[39m\"\u001b[39;49m\u001b[39mblack\u001b[39;49m\u001b[39m\"\u001b[39;49m,\n\u001b[1;32m      <a href='vscode-notebook-cell:/Users/eirasf/Library/CloudStorage/OneDrive-UniversidadedaCoru%C3%B1a/UDC-Datos/Proyectos/Explicabilidad/Berl%C3%ADn/eval-project/nbs/tabular-analysis.ipynb#X11sZmlsZQ%3D%3D?line=4'>5</a>\u001b[0m     perturb_func\u001b[39m=\u001b[39;49mquantus\u001b[39m.\u001b[39;49mperturb_func\u001b[39m.\u001b[39;49mbaseline_replacement_by_indices,\n\u001b[1;32m      <a href='vscode-notebook-cell:/Users/eirasf/Library/CloudStorage/OneDrive-UniversidadedaCoru%C3%B1a/UDC-Datos/Proyectos/Explicabilidad/Berl%C3%ADn/eval-project/nbs/tabular-analysis.ipynb#X11sZmlsZQ%3D%3D?line=5'>6</a>\u001b[0m     similarity_func\u001b[39m=\u001b[39;49mquantus\u001b[39m.\u001b[39;49msimilarity_func\u001b[39m.\u001b[39;49mcorrelation_pearson,  \n\u001b[1;32m      <a href='vscode-notebook-cell:/Users/eirasf/Library/CloudStorage/OneDrive-UniversidadedaCoru%C3%B1a/UDC-Datos/Proyectos/Explicabilidad/Berl%C3%ADn/eval-project/nbs/tabular-analysis.ipynb#X11sZmlsZQ%3D%3D?line=6'>7</a>\u001b[0m     \u001b[39mabs\u001b[39;49m\u001b[39m=\u001b[39;49m\u001b[39mFalse\u001b[39;49;00m,  \n\u001b[1;32m      <a href='vscode-notebook-cell:/Users/eirasf/Library/CloudStorage/OneDrive-UniversidadedaCoru%C3%B1a/UDC-Datos/Proyectos/Explicabilidad/Berl%C3%ADn/eval-project/nbs/tabular-analysis.ipynb#X11sZmlsZQ%3D%3D?line=7'>8</a>\u001b[0m     return_aggregate\u001b[39m=\u001b[39;49m\u001b[39mFalse\u001b[39;49;00m,\n\u001b[1;32m      <a href='vscode-notebook-cell:/Users/eirasf/Library/CloudStorage/OneDrive-UniversidadedaCoru%C3%B1a/UDC-Datos/Proyectos/Explicabilidad/Berl%C3%ADn/eval-project/nbs/tabular-analysis.ipynb#X11sZmlsZQ%3D%3D?line=8'>9</a>\u001b[0m )(model\u001b[39m=\u001b[39;49mnetwork_fq, \n\u001b[1;32m     <a href='vscode-notebook-cell:/Users/eirasf/Library/CloudStorage/OneDrive-UniversidadedaCoru%C3%B1a/UDC-Datos/Proyectos/Explicabilidad/Berl%C3%ADn/eval-project/nbs/tabular-analysis.ipynb#X11sZmlsZQ%3D%3D?line=9'>10</a>\u001b[0m    x_batch\u001b[39m=\u001b[39;49mx_batch, \n\u001b[1;32m     <a href='vscode-notebook-cell:/Users/eirasf/Library/CloudStorage/OneDrive-UniversidadedaCoru%C3%B1a/UDC-Datos/Proyectos/Explicabilidad/Berl%C3%ADn/eval-project/nbs/tabular-analysis.ipynb#X11sZmlsZQ%3D%3D?line=10'>11</a>\u001b[0m    y_batch\u001b[39m=\u001b[39;49my_batch,\n\u001b[1;32m     <a href='vscode-notebook-cell:/Users/eirasf/Library/CloudStorage/OneDrive-UniversidadedaCoru%C3%B1a/UDC-Datos/Proyectos/Explicabilidad/Berl%C3%ADn/eval-project/nbs/tabular-analysis.ipynb#X11sZmlsZQ%3D%3D?line=11'>12</a>\u001b[0m    a_batch\u001b[39m=\u001b[39;49ma_batch,\n\u001b[1;32m     <a href='vscode-notebook-cell:/Users/eirasf/Library/CloudStorage/OneDrive-UniversidadedaCoru%C3%B1a/UDC-Datos/Proyectos/Explicabilidad/Berl%C3%ADn/eval-project/nbs/tabular-analysis.ipynb#X11sZmlsZQ%3D%3D?line=12'>13</a>\u001b[0m    device\u001b[39m=\u001b[39;49mdevice,\n\u001b[1;32m     <a href='vscode-notebook-cell:/Users/eirasf/Library/CloudStorage/OneDrive-UniversidadedaCoru%C3%B1a/UDC-Datos/Proyectos/Explicabilidad/Berl%C3%ADn/eval-project/nbs/tabular-analysis.ipynb#X11sZmlsZQ%3D%3D?line=13'>14</a>\u001b[0m    channel_first\u001b[39m=\u001b[39;49m\u001b[39mTrue\u001b[39;49;00m)\n",
      "File \u001b[0;32m/opt/miniconda3/envs/pytorch-quantus/lib/python3.9/site-packages/quantus/metrics/faithfulness/faithfulness_correlation.py:246\u001b[0m, in \u001b[0;36mFaithfulnessCorrelation.__call__\u001b[0;34m(self, model, x_batch, y_batch, a_batch, s_batch, channel_first, explain_func, explain_func_kwargs, model_predict_kwargs, softmax, device, batch_size, custom_batch, **kwargs)\u001b[0m\n\u001b[1;32m    153\u001b[0m \u001b[39mdef\u001b[39;00m \u001b[39m__call__\u001b[39m(\n\u001b[1;32m    154\u001b[0m     \u001b[39mself\u001b[39m,\n\u001b[1;32m    155\u001b[0m     model,\n\u001b[0;32m   (...)\u001b[0m\n\u001b[1;32m    168\u001b[0m     \u001b[39m*\u001b[39m\u001b[39m*\u001b[39mkwargs,\n\u001b[1;32m    169\u001b[0m ) \u001b[39m-\u001b[39m\u001b[39m>\u001b[39m List[\u001b[39mfloat\u001b[39m]:\n\u001b[1;32m    170\u001b[0m     \u001b[39m\"\"\"\u001b[39;00m\n\u001b[1;32m    171\u001b[0m \u001b[39m    This implementation represents the main logic of the metric and makes the class object callable.\u001b[39;00m\n\u001b[1;32m    172\u001b[0m \u001b[39m    It completes instance-wise evaluation of explanations (a_batch) with respect to input data (x_batch),\u001b[39;00m\n\u001b[0;32m   (...)\u001b[0m\n\u001b[1;32m    244\u001b[0m \u001b[39m        >> scores = metric(model=model, x_batch=x_batch, y_batch=y_batch, a_batch=a_batch_saliency}\u001b[39;00m\n\u001b[1;32m    245\u001b[0m \u001b[39m    \"\"\"\u001b[39;00m\n\u001b[0;32m--> 246\u001b[0m     \u001b[39mreturn\u001b[39;00m \u001b[39msuper\u001b[39;49m()\u001b[39m.\u001b[39;49m\u001b[39m__call__\u001b[39;49m(\n\u001b[1;32m    247\u001b[0m         model\u001b[39m=\u001b[39;49mmodel,\n\u001b[1;32m    248\u001b[0m         x_batch\u001b[39m=\u001b[39;49mx_batch,\n\u001b[1;32m    249\u001b[0m         y_batch\u001b[39m=\u001b[39;49my_batch,\n\u001b[1;32m    250\u001b[0m         a_batch\u001b[39m=\u001b[39;49ma_batch,\n\u001b[1;32m    251\u001b[0m         s_batch\u001b[39m=\u001b[39;49ms_batch,\n\u001b[1;32m    252\u001b[0m         custom_batch\u001b[39m=\u001b[39;49mcustom_batch,\n\u001b[1;32m    253\u001b[0m         channel_first\u001b[39m=\u001b[39;49mchannel_first,\n\u001b[1;32m    254\u001b[0m         explain_func\u001b[39m=\u001b[39;49mexplain_func,\n\u001b[1;32m    255\u001b[0m         explain_func_kwargs\u001b[39m=\u001b[39;49mexplain_func_kwargs,\n\u001b[1;32m    256\u001b[0m         softmax\u001b[39m=\u001b[39;49msoftmax,\n\u001b[1;32m    257\u001b[0m         device\u001b[39m=\u001b[39;49mdevice,\n\u001b[1;32m    258\u001b[0m         model_predict_kwargs\u001b[39m=\u001b[39;49mmodel_predict_kwargs,\n\u001b[1;32m    259\u001b[0m         \u001b[39m*\u001b[39;49m\u001b[39m*\u001b[39;49mkwargs,\n\u001b[1;32m    260\u001b[0m     )\n",
      "File \u001b[0;32m/opt/miniconda3/envs/pytorch-quantus/lib/python3.9/site-packages/quantus/metrics/base.py:225\u001b[0m, in \u001b[0;36mMetric.__call__\u001b[0;34m(self, model, x_batch, y_batch, a_batch, s_batch, channel_first, explain_func, explain_func_kwargs, model_predict_kwargs, softmax, device, batch_size, custom_batch, **kwargs)\u001b[0m\n\u001b[1;32m    223\u001b[0m iterator \u001b[39m=\u001b[39m \u001b[39mself\u001b[39m\u001b[39m.\u001b[39mget_instance_iterator(data\u001b[39m=\u001b[39mdata)\n\u001b[1;32m    224\u001b[0m \u001b[39mfor\u001b[39;00m id_instance, data_instance \u001b[39min\u001b[39;00m iterator:\n\u001b[0;32m--> 225\u001b[0m     result \u001b[39m=\u001b[39m \u001b[39mself\u001b[39;49m\u001b[39m.\u001b[39;49mevaluate_instance(\u001b[39m*\u001b[39;49m\u001b[39m*\u001b[39;49mdata_instance)\n\u001b[1;32m    226\u001b[0m     \u001b[39mself\u001b[39m\u001b[39m.\u001b[39mlast_results[id_instance] \u001b[39m=\u001b[39m result\n\u001b[1;32m    228\u001b[0m \u001b[39m# Call custom post-processing.\u001b[39;00m\n",
      "File \u001b[0;32m/opt/miniconda3/envs/pytorch-quantus/lib/python3.9/site-packages/quantus/metrics/faithfulness/faithfulness_correlation.py:296\u001b[0m, in \u001b[0;36mFaithfulnessCorrelation.evaluate_instance\u001b[0;34m(self, model, x, y, a, s)\u001b[0m\n\u001b[1;32m    294\u001b[0m \u001b[39m# Predict on input.\u001b[39;00m\n\u001b[1;32m    295\u001b[0m x_input \u001b[39m=\u001b[39m model\u001b[39m.\u001b[39mshape_input(x, x\u001b[39m.\u001b[39mshape, channel_first\u001b[39m=\u001b[39m\u001b[39mTrue\u001b[39;00m)\n\u001b[0;32m--> 296\u001b[0m y_pred \u001b[39m=\u001b[39m \u001b[39mfloat\u001b[39m(model\u001b[39m.\u001b[39;49mpredict(x_input)[:, y])\n\u001b[1;32m    298\u001b[0m pred_deltas \u001b[39m=\u001b[39m []\n\u001b[1;32m    299\u001b[0m att_sums \u001b[39m=\u001b[39m []\n",
      "\u001b[0;31mIndexError\u001b[0m: index 3 is out of bounds for axis 1 with size 1"
     ]
    }
   ],
=======
   "execution_count": null,
   "metadata": {},
   "outputs": [],
>>>>>>> Stashed changes
   "source": [
    "quantus.FaithfulnessCorrelation(\n",
    "    nr_runs=100,  \n",
    "    subset_size=4,  \n",
    "    perturb_baseline=\"black\",\n",
    "    perturb_func=quantus.perturb_func.baseline_replacement_by_indices,\n",
    "    similarity_func=quantus.similarity_func.correlation_pearson,  \n",
    "    abs=False,  \n",
    "    return_aggregate=False,\n",
    ")(model=network_fq, \n",
    "   x_batch=x_batch, \n",
    "   y_batch=y_batch,\n",
    "   a_batch=a_batch,\n",
    "   device=device,\n",
    "   channel_first=True)"
   ]
  },
  {
   "cell_type": "code",
   "execution_count": null,
   "metadata": {},
   "outputs": [],
   "source": [
    "# Return monotonicity scores in an one-liner - by calling the metric instance.\n",
    "quantus.MonotonicityCorrelation(\n",
    "    nr_samples=10,\n",
    "    features_in_step=1,\n",
    "    perturb_baseline=\"uniform\",\n",
    "    perturb_func=quantus.perturb_func.baseline_replacement_by_indices,\n",
    "    similarity_func=quantus.similarity_func.correlation_spearman,\n",
    ")(model=network_fq, \n",
    "   x_batch=x_batch,\n",
    "   y_batch=y_batch,\n",
    "   a_batch=a_batch,\n",
    "   device=device,\n",
    "   channel_first=True)"
   ]
  },
  {
   "cell_type": "code",
   "execution_count": null,
   "metadata": {},
   "outputs": [],
   "source": [
    "# Create the pixel-flipping experiment.\n",
    "quantus.PixelFlipping(\n",
    "    features_in_step=1,\n",
    "    perturb_baseline=\"black\",\n",
    "    perturb_func=quantus.perturb_func.baseline_replacement_by_indices,\n",
    ")(model=network_fq,\n",
    "    x_batch=x_batch,\n",
    "    y_batch=y_batch,\n",
    "    a_batch=a_batch,\n",
    "    device=device,\n",
    "   channel_first=True)"
   ]
  },
  {
   "cell_type": "code",
   "execution_count": null,
   "metadata": {},
   "outputs": [],
   "source": [
    "np.savez(os.path.join(PROJ_DIR, 'results', f'{DATASET}_{SAMPLE_NUM}_measures.npz'), \\\n",
    "         row=row.to('cpu').numpy(), \\\n",
    "         label=label.to('cpu').numpy(), \\\n",
    "         rankings=all_measures['ranking'], \\\n",
    "         faithfulness_correlations=all_measures['faithfulness_correlation'], \\\n",
    "         qmeans=all_measures['mean'], \\\n",
    "         qmean_invs=all_measures['mean_inv'], \\\n",
    "         qmean_bas=all_measures['mean_bas'], \\\n",
    "         qargmaxs=all_measures['at_first_argmax'], \\\n",
    "         qargmax_invs=all_measures['at_first_argmax_inv'], \\\n",
    "         qargmax_bas=all_measures['at_first_argmax_bas'], \\\n",
    "         qaucs=all_measures['auc'], \\\n",
    "         qauc_invs=all_measures['auc_inv'], \\\n",
    "         qauc_bas=all_measures['auc_bas'], \\\n",
    "         output_curves=all_measures['output_curve'], \\\n",
    "         is_hit_curves=all_measures['is_hit_curve'], \\\n",
    "         output_curves_inv=all_measures['output_curve_inv'], \\\n",
    "         is_hit_curves_inv=all_measures['is_hit_curve_inv'], \\\n",
    "         output_curves_bas=all_measures['output_curve_bas'], \\\n",
    "         is_hit_curves_bas=all_measures['is_hit_curve_bas'])"
   ]
  },
  {
   "cell_type": "code",
   "execution_count": null,
   "metadata": {},
   "outputs": [],
   "source": []
  }
 ],
 "metadata": {
  "kernelspec": {
   "display_name": "Python 3 (ipykernel)",
   "language": "python",
   "name": "python3"
  },
  "language_info": {
   "codemirror_mode": {
    "name": "ipython",
    "version": 3
   },
   "file_extension": ".py",
   "mimetype": "text/x-python",
   "name": "python",
   "nbconvert_exporter": "python",
   "pygments_lexer": "ipython3",
   "version": "3.10.8"
  },
  "vscode": {
   "interpreter": {
    "hash": "f2b297cc45ec3b3804f1c0db7a06ed5081ea647c50a60ca6b31b53a357bc80d7"
   }
  }
 },
 "nbformat": 4,
 "nbformat_minor": 2
}
