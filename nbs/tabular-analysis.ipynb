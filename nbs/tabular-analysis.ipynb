{
 "cells": [
  {
   "cell_type": "markdown",
   "metadata": {},
   "source": [
    "## Tabular analysis\n",
    "\n",
    "This notebook loads a tabular dataset and a pretrained model and computes Qinv and Qbas for all possible rankings."
   ]
  },
  {
   "cell_type": "code",
   "execution_count": 1,
   "metadata": {},
   "outputs": [
    {
     "name": "stderr",
     "output_type": "stream",
     "text": [
      "/home/eirasf/miniconda3/envs/xai-anna/lib/python3.10/site-packages/tqdm/auto.py:22: TqdmWarning: IProgress not found. Please update jupyter and ipywidgets. See https://ipywidgets.readthedocs.io/en/stable/user_install.html\n",
      "  from .autonotebook import tqdm as notebook_tqdm\n"
     ]
    }
   ],
   "source": [
    "# Import the necessary libraries\n",
    "import sys\n",
    "import os\n",
    "PROJ_DIR = os.path.realpath(os.path.dirname(os.path.abspath('')))\n",
    "sys.path.append(os.path.join(PROJ_DIR,'src'))\n",
    "import xai_faithfulness_experiments_lib_edits as fl\n",
    "\n",
    "import numpy as np"
   ]
  },
  {
   "cell_type": "code",
   "execution_count": 2,
   "metadata": {},
   "outputs": [],
   "source": [
    "# Avila dataset\n",
    "DATASET = 'avila'\n",
    "DATASET_PATH = os.path.join(PROJ_DIR,'assets', 'data', f'{DATASET}.npz')\n",
    "MODEL_PATH = os.path.join(PROJ_DIR,'assets', 'models', f'{DATASET}-mlp.pth')"
   ]
  },
  {
   "cell_type": "code",
   "execution_count": 3,
   "metadata": {},
   "outputs": [
    {
     "data": {
      "text/plain": [
       "MLP(\n",
       "  (fc1): Linear(in_features=10, out_features=100, bias=True)\n",
       "  (ac1): Sigmoid()\n",
       "  (fc2): Linear(in_features=100, out_features=12, bias=True)\n",
       "  (ac2): Softmax(dim=1)\n",
       ")"
      ]
     },
     "execution_count": 3,
     "metadata": {},
     "output_type": "execute_result"
    }
   ],
   "source": [
    "# Load dataset\n",
    "file_data = np.load(DATASET_PATH)\n",
    "x_train = file_data['x_train']\n",
    "x_test = file_data['x_test']\n",
    "y_train = file_data['y_train']\n",
    "y_test = file_data['y_test']\n",
    "\n",
    "# Load model\n",
    "import torch\n",
    "device = torch.device(\"cuda:0\" if torch.cuda.is_available() else \"cpu\")\n",
    "\n",
    "MODEL_NEURONS = 100\n",
    "MODEL_EPOCHS= 2000\n",
    "MODEL_LR = 1.0e-1\n",
    "MODEL_LABEL_NUM = len(np.unique(y_train))\n",
    "\n",
    "class MLP(torch.nn.Module):\n",
    "    def __init__(self, n_neurons):\n",
    "        super(MLP, self).__init__()\n",
    "        self.fc1 = torch.nn.Linear(x_train.shape[1], n_neurons)\n",
    "        self.ac1 = torch.nn.Sigmoid()\n",
    "        self.fc2 = torch.nn.Linear(n_neurons, MODEL_LABEL_NUM)\n",
    "        self.ac2 = torch.nn.Softmax(dim=1)\n",
    "    \n",
    "    def forward(self, x):\n",
    "        x = self.fc1(x)\n",
    "        x = self.ac1(x)\n",
    "        logits = self.fc2(x)\n",
    "        x = self.ac2(logits)\n",
    "        return x\n",
    "\n",
    "network = MLP(MODEL_NEURONS)\n",
    "network.load_state_dict(torch.load(MODEL_PATH))\n",
    "network.eval()\n",
    "network.to(device)"
   ]
  },
  {
   "cell_type": "code",
   "execution_count": 4,
   "metadata": {},
   "outputs": [
    {
     "name": "stdout",
     "output_type": "stream",
     "text": [
      "10\n"
     ]
    }
   ],
   "source": [
    "import itertools\n",
    "\n",
    "NUM_VARS = x_train.shape[1]\n",
    "print(NUM_VARS)\n",
    "\n",
    "permutations = list(itertools.permutations(range(NUM_VARS)))\n",
    "all_rankings = np.array(permutations) / (NUM_VARS - 1)\n"
   ]
  },
  {
   "cell_type": "code",
   "execution_count": 5,
   "metadata": {},
   "outputs": [
    {
     "name": "stderr",
     "output_type": "stream",
     "text": [
      "  0%|          | 0/3628800 [00:00<?, ?it/s]\n"
     ]
    }
   ],
   "source": [
    "from tqdm import tqdm\n",
    "\n",
    "SAMPLE_NUM = 250 # Select one of the training examples in the dataset to be explained\n",
    "\n",
    "num_rankings = all_rankings.shape[0]\n",
    "row = torch.tensor(np.float32(x_train[SAMPLE_NUM])).to(device)\n",
    "label = torch.tensor(y_train[SAMPLE_NUM]).to(device)\n",
    "\n",
    "# All of these measures will be stored\n",
    "suffixes = ['', '_inv', '_bas']\n",
    "size1_prefixes = ['mean', 'at_first_argmax', 'auc']\n",
    "sizeNUM_SAMPLES_prefixes = ['output_curve', 'is_hit_curve']\n",
    "keys = ['ranking']\n",
    "for p in size1_prefixes+sizeNUM_SAMPLES_prefixes:\n",
    "    for s in suffixes:\n",
    "        keys.append(p+s)\n",
    "\n",
    "# Dict to store all results\n",
    "all_measures = {}\n",
    "# Initialize all np arrays to speed up the process\n",
    "for k in size1_prefixes:\n",
    "    for s in suffixes:\n",
    "        all_measures[k+s] = np.zeros((num_rankings, 1), dtype=np.float32)\n",
    "\n",
    "for k in sizeNUM_SAMPLES_prefixes:\n",
    "    for s in suffixes:\n",
    "        all_measures[k+s] = np.zeros((num_rankings, fl.NUM_SAMPLES), dtype=np.float32 if 'is_hit' in k else bool)\n",
    "all_measures['ranking'] = np.zeros((num_rankings, NUM_VARS), dtype=np.float32)\n",
    "\n",
    "# Compute the results for each possible ranking\n",
    "for i in tqdm(range(num_rankings)):\n",
    "    #TODO - Add several samples for qbas instead of a single one\n",
    "    measures = fl.get_measures_for_ranking(row, torch.tensor(all_rankings[i]).to(device), label, network, num_samples=fl.NUM_SAMPLES, with_inverse=True, with_random=True)\n",
    "    measures['ranking'] = all_rankings[i]\n",
    "    # Save all results for this rankings to the i-th position\n",
    "    for k in keys:\n",
    "        all_measures[k][i] = measures[k]\n",
    "    #TODO - For each ranking, retrieve and store Quantus' faithfulness metrics\n",
    "    break\n",
    "    \n",
    "#left_out = all_rankings.shape[0] % BATCH_SIZE\n",
    "#if left_out > 0:\n",
    "#    print(all_rankings.shape[0] - left_out, all_rankings.shape[0])"
   ]
  },
  {
   "cell_type": "code",
   "execution_count": 14,
   "metadata": {},
   "outputs": [
    {
     "name": "stdout",
     "output_type": "stream",
     "text": [
      "Warnings and information:\n",
      " (1) The Max Sensitivity metric is likely to be sensitive to the choice of amount of noise added 'lower_bound' and 'upper_bound', the number of samples iterated over 'nr_samples', the function to perturb the input 'perturb_func', the similarity metric 'similarity_func' as well as norm calculations on the numerator and denominator of the sensitivity equation i.e., 'norm_numerator' and 'norm_denominator'.  \n",
      " (2) If attributions are normalised or their absolute values are taken it may destroy or skew information in the explanation and as a result, affect the overall evaluation outcome.\n",
      " (3) Make sure to validate the choices for hyperparameters of the metric (by calling .get_params of the metric instance).\n",
      " (4) For further information, see original publication: Yeh, Chih-Kuan, et al. 'On the (in) fidelity and sensitivity for explanations.' arXiv preprint arXiv:1901.09392 (2019).\n",
      " (5) To disable these warnings set 'disable_warnings' = True when initialising the metric.\n",
      "\n",
      "torch.Size([1, 10])\n",
      "torch.Size([1])\n",
      "torch.Size([1, 12])\n",
      "(1, 10)\n"
     ]
    },
    {
     "ename": "AssertionError",
     "evalue": "Make sure 'explain_func' is a Callable that takes model, x_batch, y_batch and **kwargs as arguments.",
     "output_type": "error",
     "traceback": [
      "\u001b[0;31m---------------------------------------------------------------------------\u001b[0m",
      "\u001b[0;31mAssertionError\u001b[0m                            Traceback (most recent call last)",
      "\u001b[1;32m/home/eirasf/Escritorio/eval-project/nbs/tabular-analysis.ipynb Celda 7\u001b[0m in \u001b[0;36m1\n\u001b[1;32m     <a href='vscode-notebook-cell:/home/eirasf/Escritorio/eval-project/nbs/tabular-analysis.ipynb#W6sZmlsZQ%3D%3D?line=12'>13</a>\u001b[0m \u001b[39mprint\u001b[39m(a_batch\u001b[39m.\u001b[39mshape)\n\u001b[1;32m     <a href='vscode-notebook-cell:/home/eirasf/Escritorio/eval-project/nbs/tabular-analysis.ipynb#W6sZmlsZQ%3D%3D?line=13'>14</a>\u001b[0m \u001b[39m# TODO - Necessary reshapes\u001b[39;00m\n\u001b[0;32m---> <a href='vscode-notebook-cell:/home/eirasf/Escritorio/eval-project/nbs/tabular-analysis.ipynb#W6sZmlsZQ%3D%3D?line=14'>15</a>\u001b[0m scores \u001b[39m=\u001b[39m metric(\n\u001b[1;32m     <a href='vscode-notebook-cell:/home/eirasf/Escritorio/eval-project/nbs/tabular-analysis.ipynb#W6sZmlsZQ%3D%3D?line=15'>16</a>\u001b[0m     model\u001b[39m=\u001b[39;49mnetwork,\n\u001b[1;32m     <a href='vscode-notebook-cell:/home/eirasf/Escritorio/eval-project/nbs/tabular-analysis.ipynb#W6sZmlsZQ%3D%3D?line=16'>17</a>\u001b[0m     x_batch\u001b[39m=\u001b[39;49mx_batch,\n\u001b[1;32m     <a href='vscode-notebook-cell:/home/eirasf/Escritorio/eval-project/nbs/tabular-analysis.ipynb#W6sZmlsZQ%3D%3D?line=17'>18</a>\u001b[0m     y_batch\u001b[39m=\u001b[39;49my_batch,\n\u001b[1;32m     <a href='vscode-notebook-cell:/home/eirasf/Escritorio/eval-project/nbs/tabular-analysis.ipynb#W6sZmlsZQ%3D%3D?line=18'>19</a>\u001b[0m     a_batch\u001b[39m=\u001b[39;49ma_batch,\n\u001b[1;32m     <a href='vscode-notebook-cell:/home/eirasf/Escritorio/eval-project/nbs/tabular-analysis.ipynb#W6sZmlsZQ%3D%3D?line=19'>20</a>\u001b[0m     device\u001b[39m=\u001b[39;49mdevice\n\u001b[1;32m     <a href='vscode-notebook-cell:/home/eirasf/Escritorio/eval-project/nbs/tabular-analysis.ipynb#W6sZmlsZQ%3D%3D?line=20'>21</a>\u001b[0m )\n",
      "File \u001b[0;32m~/miniconda3/envs/xai-anna/lib/python3.10/site-packages/quantus/metrics/robustness/max_sensitivity.py:254\u001b[0m, in \u001b[0;36mMaxSensitivity.__call__\u001b[0;34m(self, model, x_batch, y_batch, a_batch, s_batch, channel_first, explain_func, explain_func_kwargs, model_predict_kwargs, softmax, device, batch_size, custom_batch, **kwargs)\u001b[0m\n\u001b[1;32m    164\u001b[0m \u001b[39mdef\u001b[39;00m \u001b[39m__call__\u001b[39m(\n\u001b[1;32m    165\u001b[0m     \u001b[39mself\u001b[39m,\n\u001b[1;32m    166\u001b[0m     model,\n\u001b[0;32m   (...)\u001b[0m\n\u001b[1;32m    179\u001b[0m     \u001b[39m*\u001b[39m\u001b[39m*\u001b[39mkwargs,\n\u001b[1;32m    180\u001b[0m ) \u001b[39m-\u001b[39m\u001b[39m>\u001b[39m List[\u001b[39mfloat\u001b[39m]:\n\u001b[1;32m    181\u001b[0m     \u001b[39m\"\"\"\u001b[39;00m\n\u001b[1;32m    182\u001b[0m \u001b[39m    This implementation represents the main logic of the metric and makes the class object callable.\u001b[39;00m\n\u001b[1;32m    183\u001b[0m \u001b[39m    It completes instance-wise evaluation of explanations (a_batch) with respect to input data (x_batch),\u001b[39;00m\n\u001b[0;32m   (...)\u001b[0m\n\u001b[1;32m    252\u001b[0m \u001b[39m        >> scores = metric(model=model, x_batch=x_batch, y_batch=y_batch, a_batch=a_batch_saliency}\u001b[39;00m\n\u001b[1;32m    253\u001b[0m \u001b[39m    \"\"\"\u001b[39;00m\n\u001b[0;32m--> 254\u001b[0m     \u001b[39mreturn\u001b[39;00m \u001b[39msuper\u001b[39;49m()\u001b[39m.\u001b[39;49m\u001b[39m__call__\u001b[39;49m(\n\u001b[1;32m    255\u001b[0m         model\u001b[39m=\u001b[39;49mmodel,\n\u001b[1;32m    256\u001b[0m         x_batch\u001b[39m=\u001b[39;49mx_batch,\n\u001b[1;32m    257\u001b[0m         y_batch\u001b[39m=\u001b[39;49my_batch,\n\u001b[1;32m    258\u001b[0m         a_batch\u001b[39m=\u001b[39;49ma_batch,\n\u001b[1;32m    259\u001b[0m         s_batch\u001b[39m=\u001b[39;49ms_batch,\n\u001b[1;32m    260\u001b[0m         custom_batch\u001b[39m=\u001b[39;49m\u001b[39mNone\u001b[39;49;00m,\n\u001b[1;32m    261\u001b[0m         channel_first\u001b[39m=\u001b[39;49mchannel_first,\n\u001b[1;32m    262\u001b[0m         explain_func\u001b[39m=\u001b[39;49mexplain_func,\n\u001b[1;32m    263\u001b[0m         explain_func_kwargs\u001b[39m=\u001b[39;49mexplain_func_kwargs,\n\u001b[1;32m    264\u001b[0m         softmax\u001b[39m=\u001b[39;49msoftmax,\n\u001b[1;32m    265\u001b[0m         device\u001b[39m=\u001b[39;49mdevice,\n\u001b[1;32m    266\u001b[0m         model_predict_kwargs\u001b[39m=\u001b[39;49mmodel_predict_kwargs,\n\u001b[1;32m    267\u001b[0m         batch_size\u001b[39m=\u001b[39;49mbatch_size,\n\u001b[1;32m    268\u001b[0m         \u001b[39m*\u001b[39;49m\u001b[39m*\u001b[39;49mkwargs,\n\u001b[1;32m    269\u001b[0m     )\n",
      "File \u001b[0;32m~/miniconda3/envs/xai-anna/lib/python3.10/site-packages/quantus/metrics/base_batched.py:194\u001b[0m, in \u001b[0;36mBatchedMetric.__call__\u001b[0;34m(self, model, x_batch, y_batch, a_batch, s_batch, channel_first, explain_func, explain_func_kwargs, model_predict_kwargs, softmax, device, batch_size, custom_batch, **kwargs)\u001b[0m\n\u001b[1;32m    191\u001b[0m warn\u001b[39m.\u001b[39mdeprecation_warnings(kwargs)\n\u001b[1;32m    192\u001b[0m warn\u001b[39m.\u001b[39mcheck_kwargs(kwargs)\n\u001b[0;32m--> 194\u001b[0m data \u001b[39m=\u001b[39m \u001b[39mself\u001b[39;49m\u001b[39m.\u001b[39;49mgeneral_preprocess(\n\u001b[1;32m    195\u001b[0m     model\u001b[39m=\u001b[39;49mmodel,\n\u001b[1;32m    196\u001b[0m     x_batch\u001b[39m=\u001b[39;49mx_batch,\n\u001b[1;32m    197\u001b[0m     y_batch\u001b[39m=\u001b[39;49my_batch,\n\u001b[1;32m    198\u001b[0m     a_batch\u001b[39m=\u001b[39;49ma_batch,\n\u001b[1;32m    199\u001b[0m     s_batch\u001b[39m=\u001b[39;49ms_batch,\n\u001b[1;32m    200\u001b[0m     custom_batch\u001b[39m=\u001b[39;49mcustom_batch,\n\u001b[1;32m    201\u001b[0m     channel_first\u001b[39m=\u001b[39;49mchannel_first,\n\u001b[1;32m    202\u001b[0m     explain_func\u001b[39m=\u001b[39;49mexplain_func,\n\u001b[1;32m    203\u001b[0m     explain_func_kwargs\u001b[39m=\u001b[39;49mexplain_func_kwargs,\n\u001b[1;32m    204\u001b[0m     model_predict_kwargs\u001b[39m=\u001b[39;49mmodel_predict_kwargs,\n\u001b[1;32m    205\u001b[0m     softmax\u001b[39m=\u001b[39;49msoftmax,\n\u001b[1;32m    206\u001b[0m     device\u001b[39m=\u001b[39;49mdevice,\n\u001b[1;32m    207\u001b[0m )\n\u001b[1;32m    209\u001b[0m \u001b[39m# Create generator for generating batches.\u001b[39;00m\n\u001b[1;32m    210\u001b[0m batch_generator \u001b[39m=\u001b[39m \u001b[39mself\u001b[39m\u001b[39m.\u001b[39mgenerate_batches(\n\u001b[1;32m    211\u001b[0m     data\u001b[39m=\u001b[39mdata,\n\u001b[1;32m    212\u001b[0m     batch_size\u001b[39m=\u001b[39mbatch_size,\n\u001b[1;32m    213\u001b[0m )\n",
      "File \u001b[0;32m~/miniconda3/envs/xai-anna/lib/python3.10/site-packages/quantus/metrics/base.py:410\u001b[0m, in \u001b[0;36mMetric.general_preprocess\u001b[0;34m(self, model, x_batch, y_batch, a_batch, s_batch, channel_first, explain_func, explain_func_kwargs, model_predict_kwargs, softmax, device, custom_batch)\u001b[0m\n\u001b[1;32m    400\u001b[0m data \u001b[39m=\u001b[39m {\n\u001b[1;32m    401\u001b[0m     \u001b[39m\"\u001b[39m\u001b[39mmodel\u001b[39m\u001b[39m\"\u001b[39m: model,\n\u001b[1;32m    402\u001b[0m     \u001b[39m\"\u001b[39m\u001b[39mx_batch\u001b[39m\u001b[39m\"\u001b[39m: x_batch,\n\u001b[0;32m   (...)\u001b[0m\n\u001b[1;32m    406\u001b[0m     \u001b[39m\"\u001b[39m\u001b[39mcustom_batch\u001b[39m\u001b[39m\"\u001b[39m: custom_batch,\n\u001b[1;32m    407\u001b[0m }\n\u001b[1;32m    409\u001b[0m \u001b[39m# Call custom pre-processing from inheriting class.\u001b[39;00m\n\u001b[0;32m--> 410\u001b[0m custom_preprocess_dict \u001b[39m=\u001b[39m \u001b[39mself\u001b[39;49m\u001b[39m.\u001b[39;49mcustom_preprocess(\u001b[39m*\u001b[39;49m\u001b[39m*\u001b[39;49mdata)\n\u001b[1;32m    412\u001b[0m \u001b[39m# Save data coming from custom preprocess to data dict.\u001b[39;00m\n\u001b[1;32m    413\u001b[0m \u001b[39mif\u001b[39;00m custom_preprocess_dict:\n",
      "File \u001b[0;32m~/miniconda3/envs/xai-anna/lib/python3.10/site-packages/quantus/metrics/robustness/max_sensitivity.py:407\u001b[0m, in \u001b[0;36mMaxSensitivity.custom_preprocess\u001b[0;34m(self, model, x_batch, y_batch, a_batch, s_batch, custom_batch)\u001b[0m\n\u001b[1;32m    383\u001b[0m \u001b[39m\"\"\"\u001b[39;00m\n\u001b[1;32m    384\u001b[0m \u001b[39mImplementation of custom_preprocess_batch.\u001b[39;00m\n\u001b[1;32m    385\u001b[0m \n\u001b[0;32m   (...)\u001b[0m\n\u001b[1;32m    403\u001b[0m \u001b[39mNone\u001b[39;00m\n\u001b[1;32m    404\u001b[0m \u001b[39m\"\"\"\u001b[39;00m\n\u001b[1;32m    405\u001b[0m \u001b[39m# Additional explain_func assert, as the one in prepare() won't be\u001b[39;00m\n\u001b[1;32m    406\u001b[0m \u001b[39m# executed when a_batch != None.\u001b[39;00m\n\u001b[0;32m--> 407\u001b[0m asserts\u001b[39m.\u001b[39;49massert_explain_func(explain_func\u001b[39m=\u001b[39;49m\u001b[39mself\u001b[39;49m\u001b[39m.\u001b[39;49mexplain_func)\n",
      "File \u001b[0;32m~/miniconda3/envs/xai-anna/lib/python3.10/site-packages/quantus/helpers/asserts.py:296\u001b[0m, in \u001b[0;36massert_explain_func\u001b[0;34m(explain_func)\u001b[0m\n\u001b[1;32m    283\u001b[0m \u001b[39mdef\u001b[39;00m \u001b[39massert_explain_func\u001b[39m(explain_func: Callable) \u001b[39m-\u001b[39m\u001b[39m>\u001b[39m \u001b[39mNone\u001b[39;00m:\n\u001b[1;32m    284\u001b[0m     \u001b[39m\"\"\"\u001b[39;00m\n\u001b[1;32m    285\u001b[0m \u001b[39m    Asser thta the explanation function is a callable.\u001b[39;00m\n\u001b[1;32m    286\u001b[0m \n\u001b[0;32m   (...)\u001b[0m\n\u001b[1;32m    294\u001b[0m \u001b[39m    None\u001b[39;00m\n\u001b[1;32m    295\u001b[0m \u001b[39m    \"\"\"\u001b[39;00m\n\u001b[0;32m--> 296\u001b[0m     \u001b[39massert\u001b[39;00m callable(explain_func), (\n\u001b[1;32m    297\u001b[0m         \u001b[39m\"\u001b[39m\u001b[39mMake sure \u001b[39m\u001b[39m'\u001b[39m\u001b[39mexplain_func\u001b[39m\u001b[39m'\u001b[39m\u001b[39m is a Callable that takes model, x_batch, \u001b[39m\u001b[39m\"\u001b[39m\n\u001b[1;32m    298\u001b[0m         \u001b[39m\"\u001b[39m\u001b[39my_batch and **kwargs as arguments.\u001b[39m\u001b[39m\"\u001b[39m\n\u001b[1;32m    299\u001b[0m     )\n",
      "\u001b[0;31mAssertionError\u001b[0m: Make sure 'explain_func' is a Callable that takes model, x_batch, y_batch and **kwargs as arguments."
     ]
    }
   ],
   "source": [
    "import quantus\n",
    "\n",
    "metric = quantus.MaxSensitivity(nr_samples=10,\n",
    "                                lower_bound=0.2)\n",
    "\n",
    "x_batch = torch.unsqueeze(row, dim=0)\n",
    "y_batch = torch.unsqueeze(label, dim=0)\n",
    "a_batch = np.expand_dims(all_measures['ranking'][0],0)\n",
    "\n",
    "print(x_batch.shape)\n",
    "print(y_batch.shape)\n",
    "print(network(x_batch).shape)\n",
    "print(a_batch.shape)\n",
    "# TODO - Necessary reshapes\n",
    "scores = metric(\n",
    "    model=network,\n",
    "    x_batch=x_batch,\n",
    "    y_batch=y_batch,\n",
    "    a_batch=a_batch,\n",
    "    device=device\n",
    ")"
   ]
  },
  {
   "cell_type": "code",
   "execution_count": 30,
   "metadata": {},
   "outputs": [],
   "source": [
    "np.savez(os.path.join(PROJ_DIR, 'results', f'{DATASET}_{SAMPLE_NUM}_measures.npz'), \\\n",
    "         row=row.to('cpu').numpy(), \\\n",
    "         label=label.to('cpu').numpy(), \\\n",
    "         rankings=all_measures['ranking'], \\\n",
    "         qmeans=all_measures['mean'], \\\n",
    "         qmean_invs=all_measures['mean_inv'], \\\n",
    "         qmean_bas=all_measures['mean_bas'], \\\n",
    "         qargmaxs=all_measures['at_first_argmax'], \\\n",
    "         qargmax_invs=all_measures['at_first_argmax_inv'], \\\n",
    "         qargmax_bas=all_measures['at_first_argmax_bas'], \\\n",
    "         qaucs=all_measures['auc'], \\\n",
    "         qauc_invs=all_measures['auc_inv'], \\\n",
    "         qauc_bas=all_measures['auc_bas'], \\\n",
    "         output_curves=all_measures['output_curve'], \\\n",
    "         is_hit_curves=all_measures['is_hit_curve'], \\\n",
    "         output_curves_inv=all_measures['output_curve_inv'], \\\n",
    "         is_hit_curves_inv=all_measures['is_hit_curve_inv'], \\\n",
    "         output_curves_bas=all_measures['output_curve_bas'], \\\n",
    "         is_hit_curves_bas=all_measures['is_hit_curve_bas'])"
   ]
  }
 ],
 "metadata": {
  "kernelspec": {
   "display_name": "Python 3 (ipykernel)",
   "language": "python",
   "name": "python3"
  },
  "language_info": {
   "codemirror_mode": {
    "name": "ipython",
    "version": 3
   },
   "file_extension": ".py",
   "mimetype": "text/x-python",
   "name": "python",
   "nbconvert_exporter": "python",
   "pygments_lexer": "ipython3",
   "version": "3.10.8"
  },
  "vscode": {
   "interpreter": {
    "hash": "f2b297cc45ec3b3804f1c0db7a06ed5081ea647c50a60ca6b31b53a357bc80d7"
   }
  }
 },
 "nbformat": 4,
 "nbformat_minor": 2
}
