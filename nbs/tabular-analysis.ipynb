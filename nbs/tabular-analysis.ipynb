{
 "cells": [
  {
   "cell_type": "markdown",
   "metadata": {},
   "source": [
    "## Tabular analysis\n",
    "\n",
    "This notebook loads a tabular dataset and a pretrained model and computes Qinv and Qbas for all possible rankings."
   ]
  },
  {
   "cell_type": "code",
   "execution_count": 1,
   "metadata": {},
   "outputs": [
    {
     "name": "stderr",
     "output_type": "stream",
     "text": [
      "/home/eirasf/miniconda3/envs/xai-anna/lib/python3.10/site-packages/tqdm/auto.py:22: TqdmWarning: IProgress not found. Please update jupyter and ipywidgets. See https://ipywidgets.readthedocs.io/en/stable/user_install.html\n",
      "  from .autonotebook import tqdm as notebook_tqdm\n"
     ]
    }
   ],
   "source": [
    "# Import the necessary libraries\n",
    "import sys\n",
    "import os\n",
    "PROJ_DIR = os.path.realpath(os.path.dirname(os.path.abspath('')))\n",
    "sys.path.append(os.path.join(PROJ_DIR,'src'))\n",
    "import xai_faithfulness_experiments_lib_edits as fl\n",
    "\n",
    "import numpy as np"
   ]
  },
  {
   "cell_type": "code",
   "execution_count": 2,
   "metadata": {},
   "outputs": [],
   "source": [
    "# Avila dataset\n",
    "DATASET = 'avila'\n",
    "DATASET_PATH = os.path.join(PROJ_DIR,'assets', 'data', f'{DATASET}.npz')\n",
    "MODEL_PATH = os.path.join(PROJ_DIR,'assets', 'models', f'{DATASET}-mlp.pth')"
   ]
  },
  {
   "cell_type": "code",
   "execution_count": 56,
   "metadata": {},
   "outputs": [
    {
     "data": {
      "text/plain": [
       "MLPForQuantus(\n",
       "  (fc1): Linear(in_features=10, out_features=100, bias=True)\n",
       "  (ac1): Sigmoid()\n",
       "  (fc2): Linear(in_features=100, out_features=12, bias=True)\n",
       "  (ac2): Softmax(dim=-1)\n",
       ")"
      ]
     },
     "execution_count": 56,
     "metadata": {},
     "output_type": "execute_result"
    }
   ],
   "source": [
    "# Load dataset\n",
    "file_data = np.load(DATASET_PATH)\n",
    "x_train = file_data['x_train']\n",
    "x_test = file_data['x_test']\n",
    "y_train = file_data['y_train']\n",
    "y_test = file_data['y_test']\n",
    "\n",
    "# Load model\n",
    "import torch\n",
    "device = torch.device(\"cuda:0\" if torch.cuda.is_available() else \"cpu\")\n",
    "\n",
    "MODEL_NEURONS = 100\n",
    "MODEL_EPOCHS= 2000\n",
    "MODEL_LR = 1.0e-1\n",
    "MODEL_LABEL_NUM = len(np.unique(y_train))\n",
    "\n",
    "class MLP(torch.nn.Module):\n",
    "    def __init__(self, n_neurons):\n",
    "        super(MLP, self).__init__()\n",
    "        self.fc1 = torch.nn.Linear(x_train.shape[1], n_neurons)\n",
    "        self.ac1 = torch.nn.Sigmoid()\n",
    "        self.fc2 = torch.nn.Linear(n_neurons, MODEL_LABEL_NUM)\n",
    "        self.ac2 = torch.nn.Softmax(dim=-1)\n",
    "    \n",
    "    def forward(self, x):\n",
    "        x = self.fc1(x)\n",
    "        x = self.ac1(x)\n",
    "        logits = self.fc2(x)\n",
    "        x = self.ac2(logits)\n",
    "        return x\n",
    "    \n",
    "class MLPForQuantus(torch.nn.Module):\n",
    "    def __init__(self, n_neurons):\n",
    "        super(MLPForQuantus, self).__init__()\n",
    "        self.fc1 = torch.nn.Linear(x_train.shape[1], n_neurons)\n",
    "        self.ac1 = torch.nn.Sigmoid()\n",
    "        self.fc2 = torch.nn.Linear(n_neurons, MODEL_LABEL_NUM)\n",
    "        self.ac2 = torch.nn.Softmax(dim=-1)\n",
    "    \n",
    "    def forward(self, x):\n",
    "        x = self.fc1(x)\n",
    "        x = self.ac1(x)\n",
    "        logits = self.fc2(x)\n",
    "        x = self.ac2(logits)\n",
    "        #Reshapes to be able to use Quantus\n",
    "        x = torch.squeeze(x)\n",
    "        x = torch.unsqueeze(x,dim=0)\n",
    "        return x\n",
    "\n",
    "network = MLP(MODEL_NEURONS)\n",
    "network.load_state_dict(torch.load(MODEL_PATH))\n",
    "network.eval()\n",
    "network.to(device)\n",
    "\n",
    "network_fq = MLPForQuantus(MODEL_NEURONS)\n",
    "network_fq.load_state_dict(torch.load(MODEL_PATH))\n",
    "network_fq.eval()\n",
    "network_fq.to(device)"
   ]
  },
  {
   "cell_type": "code",
   "execution_count": 4,
   "metadata": {},
   "outputs": [
    {
     "name": "stdout",
     "output_type": "stream",
     "text": [
      "10\n"
     ]
    }
   ],
   "source": [
    "import itertools\n",
    "\n",
    "NUM_VARS = x_train.shape[1]\n",
    "print(NUM_VARS)\n",
    "\n",
    "permutations = list(itertools.permutations(range(NUM_VARS)))\n",
    "all_rankings = np.array(permutations) / (NUM_VARS - 1)\n"
   ]
  },
  {
   "cell_type": "code",
   "execution_count": 59,
   "metadata": {},
   "outputs": [
    {
     "name": "stderr",
     "output_type": "stream",
     "text": [
      "  0%|          | 0/3628800 [00:00<?, ?it/s]/home/eirasf/miniconda3/envs/xai-anna/lib/python3.10/site-packages/quantus/helpers/warn.py:262: UserWarning: The settings for perturbing input e.g., 'perturb_func' didn't cause change in input. Reconsider the parameter settings.\n",
      "  warnings.warn(\n",
      "  0%|          | 0/3628800 [00:00<?, ?it/s]\n"
     ]
    }
   ],
   "source": [
    "from tqdm import tqdm\n",
    "import quantus\n",
    "\n",
    "SAMPLE_NUM = 250 # Select one of the training examples in the dataset to be explained\n",
    "\n",
    "num_rankings = all_rankings.shape[0]\n",
    "row = torch.tensor(np.float32(x_train[SAMPLE_NUM])).to(device)\n",
    "label = torch.tensor(y_train[SAMPLE_NUM]).to(device)\n",
    "\n",
    "# All of these measures will be stored\n",
    "suffixes = ['', '_inv', '_bas']\n",
    "size1_prefixes = ['mean', 'at_first_argmax', 'auc']\n",
    "sizeNUM_SAMPLES_prefixes = ['output_curve', 'is_hit_curve']\n",
    "keys = ['ranking']\n",
    "for p in size1_prefixes+sizeNUM_SAMPLES_prefixes:\n",
    "    for s in suffixes:\n",
    "        keys.append(p+s)\n",
    "\n",
    "# Dict to store all results\n",
    "all_measures = {}\n",
    "# Initialize all np arrays to speed up the process\n",
    "for k in size1_prefixes:\n",
    "    for s in suffixes:\n",
    "        all_measures[k+s] = np.zeros((num_rankings, 1), dtype=np.float32)\n",
    "\n",
    "for k in sizeNUM_SAMPLES_prefixes:\n",
    "    for s in suffixes:\n",
    "        all_measures[k+s] = np.zeros((num_rankings, fl.NUM_SAMPLES), dtype=np.float32 if 'is_hit' in k else bool)\n",
    "all_measures['ranking'] = np.zeros((num_rankings, NUM_VARS), dtype=np.float32)\n",
    "all_measures['faithfulness_correlation'] = np.zeros(num_rankings, dtype=np.float32)\n",
    "\n",
    "# To be used by Quantus\n",
    "x_batch_pt = torch.unsqueeze(torch.unsqueeze(torch.unsqueeze(row, dim=0), dim=0), dim=0)\n",
    "x_batch = x_batch_pt.to('cpu').numpy()\n",
    "y_batch = torch.unsqueeze(label, dim=0).to('cpu').numpy()\n",
    "\n",
    "# Compute the results for each possible ranking\n",
    "for i in tqdm(range(num_rankings)):\n",
    "    #TODO - Add several samples for qbas instead of a single one\n",
    "    measures = fl.get_measures_for_ranking(row, torch.tensor(all_rankings[i]).to(device), label, network, num_samples=fl.NUM_SAMPLES, with_inverse=True, with_random=True)\n",
    "    measures['ranking'] = all_rankings[i]\n",
    "    # Save all results for this rankings to the i-th position\n",
    "    for k in keys:\n",
    "        all_measures[k][i] = measures[k]\n",
    "    \n",
    "    #For each ranking, retrieve and store Quantus' faithfulness metrics\n",
    "    a_batch = np.expand_dims(np.expand_dims(np.expand_dims(all_measures['ranking'][i],0),0),0)\n",
    "    all_measures['faithfulness_correlation'][i] = quantus.FaithfulnessCorrelation(\n",
    "                                                    nr_runs=100,  \n",
    "                                                    subset_size=4,  \n",
    "                                                    perturb_baseline=\"black\",\n",
    "                                                    perturb_func=quantus.perturb_func.baseline_replacement_by_indices,\n",
    "                                                    similarity_func=quantus.similarity_func.correlation_pearson,  \n",
    "                                                    abs=False,  \n",
    "                                                    return_aggregate=False,\n",
    "                                                    disable_warnings=True\n",
    "                                                )(model=network_fq, \n",
    "                                                x_batch=x_batch, \n",
    "                                                y_batch=y_batch,\n",
    "                                                a_batch=a_batch,\n",
    "                                                device=device,\n",
    "                                                channel_first=True)[0]\n",
    "    break\n",
    "    \n",
    "#left_out = all_rankings.shape[0] % BATCH_SIZE\n",
    "#if left_out > 0:\n",
    "#    print(all_rankings.shape[0] - left_out, all_rankings.shape[0])"
   ]
  },
  {
   "cell_type": "code",
   "execution_count": 52,
   "metadata": {},
   "outputs": [
    {
     "name": "stdout",
     "output_type": "stream",
     "text": [
      "tensor([-0.4375,  0.4232,  0.3886,  0.6209,  0.1723, -0.6402,  0.2579,  1.1562,\n",
      "         0.4383, -0.5894], device='cuda:0')\n",
      "tensor([[[[-0.4375,  0.4232,  0.3886,  0.6209,  0.1723, -0.6402,  0.2579,\n",
      "            1.1562,  0.4383, -0.5894]]]], device='cuda:0')\n",
      "[[2.5236225e-14 4.4806980e-10 8.9699165e-10 9.9900240e-01 1.2082822e-21\n",
      "  1.0830904e-18 9.9756522e-04 1.4131036e-15 4.2638313e-11 1.1848823e-10\n",
      "  2.2729332e-11 6.6261238e-21]]\n",
      "torch.Size([1, 10])\n",
      "tensor([[-0.4375,  0.4232,  0.3886,  0.6209,  0.1723, -0.6402,  0.2579,  1.1562,\n",
      "          0.4383, -0.5894]], device='cuda:0')\n",
      "[[2.5236225e-14 4.4806894e-10 8.9699165e-10 9.9900240e-01 1.2082775e-21\n",
      "  1.0830904e-18 9.9756336e-04 1.4130981e-15 4.2638313e-11 1.1848778e-10\n",
      "  2.2729289e-11 6.6260988e-21]]\n",
      "0.99999994\n",
      "(1, 1, 1, 10)\n",
      "<class 'numpy.ndarray'>\n",
      "(1,)\n",
      "<class 'numpy.ndarray'>\n",
      "(1, 1, 1, 10)\n",
      "<class 'numpy.ndarray'>\n"
     ]
    }
   ],
   "source": [
    "\n",
    "\n",
    "\n",
    "print(row)\n",
    "\n",
    "# Reshapes?\n",
    "x_batch_pt = torch.unsqueeze(torch.unsqueeze(torch.unsqueeze(row, dim=0), dim=0), dim=0)\n",
    "x_batch = x_batch_pt.to('cpu').numpy()\n",
    "y_batch = torch.unsqueeze(label, dim=0).to('cpu').numpy()\n",
    "a_batch = np.expand_dims(np.expand_dims(np.expand_dims(all_measures['ranking'][0],0),0),0)\n",
    "\n",
    "print(x_batch_pt)\n",
    "pred = network(x_batch_pt)\n",
    "print(pred.to('cpu').detach().numpy())\n",
    "\n",
    "\n",
    "reshaped_row = torch.unsqueeze(row, dim=0)\n",
    "print(reshaped_row.shape)\n",
    "print(reshaped_row)\n",
    "pred = network(reshaped_row)\n",
    "pred = pred.to('cpu').detach().numpy()\n",
    "print(pred)\n",
    "print(pred.sum())\n",
    "\n",
    "print(x_batch.shape)\n",
    "print(type(x_batch))\n",
    "print(y_batch.shape)\n",
    "print(type(y_batch))\n",
    "print(a_batch.shape)\n",
    "print(type(a_batch))"
   ]
  },
  {
   "cell_type": "code",
   "execution_count": 53,
   "metadata": {},
   "outputs": [
    {
     "name": "stdout",
     "output_type": "stream",
     "text": [
      "Warnings and information:\n",
      " (1) The Faithfulness Correlation metric is likely to be sensitive to the choice of baseline value 'perturb_baseline', size of subset |S| 'subset_size' and the number of runs (for each input and explanation pair) 'nr_runs'.  \n",
      " (2) If attributions are normalised or their absolute values are taken it may destroy or skew information in the explanation and as a result, affect the overall evaluation outcome.\n",
      " (3) Make sure to validate the choices for hyperparameters of the metric (by calling .get_params of the metric instance).\n",
      " (4) For further information, see original publication: Bhatt, Umang, Adrian Weller, and José MF Moura. 'Evaluating and aggregating feature-based model explanations.' arXiv preprint arXiv:2005.00631 (2020).\n",
      " (5) To disable these warnings set 'disable_warnings' = True when initialising the metric.\n",
      "\n"
     ]
    },
    {
     "name": "stderr",
     "output_type": "stream",
     "text": [
      "/home/eirasf/miniconda3/envs/xai-anna/lib/python3.10/site-packages/quantus/helpers/warn.py:262: UserWarning: The settings for perturbing input e.g., 'perturb_func' didn't cause change in input. Reconsider the parameter settings.\n",
      "  warnings.warn(\n"
     ]
    },
    {
     "data": {
      "text/plain": [
       "[-0.1412770987765036]"
      ]
     },
     "execution_count": 53,
     "metadata": {},
     "output_type": "execute_result"
    }
   ],
   "source": [
    "quantus.FaithfulnessCorrelation(\n",
    "    nr_runs=100,  \n",
    "    subset_size=4,  \n",
    "    perturb_baseline=\"black\",\n",
    "    perturb_func=quantus.perturb_func.baseline_replacement_by_indices,\n",
    "    similarity_func=quantus.similarity_func.correlation_pearson,  \n",
    "    abs=False,  \n",
    "    return_aggregate=False,\n",
    ")(model=network, \n",
    "   x_batch=x_batch, \n",
    "   y_batch=y_batch,\n",
    "   a_batch=a_batch,\n",
    "   device=device,\n",
    "   channel_first=True)"
   ]
  },
  {
   "cell_type": "code",
   "execution_count": 30,
   "metadata": {},
   "outputs": [],
   "source": [
    "np.savez(os.path.join(PROJ_DIR, 'results', f'{DATASET}_{SAMPLE_NUM}_measures.npz'), \\\n",
    "         row=row.to('cpu').numpy(), \\\n",
    "         label=label.to('cpu').numpy(), \\\n",
    "         rankings=all_measures['ranking'], \\\n",
    "         faithfulness_correlations=all_measures['faithfulness_correlation'], \\\n",
    "         qmeans=all_measures['mean'], \\\n",
    "         qmean_invs=all_measures['mean_inv'], \\\n",
    "         qmean_bas=all_measures['mean_bas'], \\\n",
    "         qargmaxs=all_measures['at_first_argmax'], \\\n",
    "         qargmax_invs=all_measures['at_first_argmax_inv'], \\\n",
    "         qargmax_bas=all_measures['at_first_argmax_bas'], \\\n",
    "         qaucs=all_measures['auc'], \\\n",
    "         qauc_invs=all_measures['auc_inv'], \\\n",
    "         qauc_bas=all_measures['auc_bas'], \\\n",
    "         output_curves=all_measures['output_curve'], \\\n",
    "         is_hit_curves=all_measures['is_hit_curve'], \\\n",
    "         output_curves_inv=all_measures['output_curve_inv'], \\\n",
    "         is_hit_curves_inv=all_measures['is_hit_curve_inv'], \\\n",
    "         output_curves_bas=all_measures['output_curve_bas'], \\\n",
    "         is_hit_curves_bas=all_measures['is_hit_curve_bas'])"
   ]
  }
 ],
 "metadata": {
  "kernelspec": {
   "display_name": "Python 3 (ipykernel)",
   "language": "python",
   "name": "python3"
  },
  "language_info": {
   "codemirror_mode": {
    "name": "ipython",
    "version": 3
   },
   "file_extension": ".py",
   "mimetype": "text/x-python",
   "name": "python",
   "nbconvert_exporter": "python",
   "pygments_lexer": "ipython3",
   "version": "3.10.8"
  },
  "vscode": {
   "interpreter": {
    "hash": "f2b297cc45ec3b3804f1c0db7a06ed5081ea647c50a60ca6b31b53a357bc80d7"
   }
  }
 },
 "nbformat": 4,
 "nbformat_minor": 2
}
