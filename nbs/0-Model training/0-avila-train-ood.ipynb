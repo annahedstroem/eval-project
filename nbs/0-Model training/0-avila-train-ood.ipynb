{
 "cells": [
  {
   "attachments": {},
   "cell_type": "markdown",
   "metadata": {},
   "source": [
    "## Glass training\n",
    " This notebook loads the Glass identification dataset (https://archive.ics.uci.edu/dataset/42/glass+identification), preprocesses it and trains a simple model"
   ]
  },
  {
   "cell_type": "code",
   "execution_count": 1,
   "metadata": {},
   "outputs": [],
   "source": [
    "import sys\n",
    "import os\n",
    "PROJ_DIR = os.path.realpath(os.path.dirname(os.path.abspath('')))\n",
    "sys.path.append(os.path.join(PROJ_DIR,'src'))\n",
    "\n",
    "import xai_faithfulness_experiments_lib_edits as fl"
   ]
  },
  {
   "cell_type": "code",
   "execution_count": 2,
   "metadata": {},
   "outputs": [],
   "source": [
    "import numpy as np\n",
    "\n",
    "file_data = np.load(os.path.join(PROJ_DIR, 'assets', 'data', 'avila.npz'))\n",
    "x_train = file_data['x_train']\n",
    "x_test = file_data['x_test']\n",
    "y_train = file_data['y_train']\n",
    "y_test = file_data['y_test']"
   ]
  },
  {
   "attachments": {},
   "cell_type": "markdown",
   "metadata": {},
   "source": [
    "Load data from file"
   ]
  },
  {
   "cell_type": "code",
   "execution_count": 3,
   "metadata": {},
   "outputs": [],
   "source": [
    "import torch\n",
    "class RandomMasker(torch.nn.Module):\n",
    "    def __init__(self, masking_value:torch.tensor):\n",
    "        super().__init__()\n",
    "        self._masking_value = masking_value\n",
    "    def forward(self, x): # Assumes inputs are (batch_size, num_vars)\n",
    "        selection_levels = torch.rand((x.shape[0], 1)) # A different selection level for each element of the batch\n",
    "        selected_pixels = torch.le(torch.rand(x.shape), selection_levels) # A different selection level for each element of the batch\n",
    "        return x * selected_pixels + self._masking_value * ~selected_pixels\n",
    "\n",
    "# Zeros\n",
    "masking_value = np.zeros(x_train.shape[1])\n",
    "# Mean\n",
    "masking_value = np.mean(x_train, axis=0)\n",
    "masker = RandomMasker(torch.tensor(masking_value).float())"
   ]
  },
  {
   "attachments": {},
   "cell_type": "markdown",
   "metadata": {},
   "source": [
    "Train a MLP model"
   ]
  },
  {
   "cell_type": "code",
   "execution_count": 6,
   "metadata": {},
   "outputs": [
    {
     "name": "stdout",
     "output_type": "stream",
     "text": [
      "0.7996165156364441\n"
     ]
    }
   ],
   "source": [
    "MODEL_NEURONS = 100\n",
    "MODEL_EPOCHS= 2000\n",
    "MODEL_LR = 1.0e-1\n",
    "MODEL_LABEL_NUM = len(np.unique(y_train))\n",
    "\n",
    "x_train_tensor = torch.tensor(x_train).float()\n",
    "y_train_tensor = torch.tensor(y_train)\n",
    "x_test_tensor = torch.tensor(x_test).float()\n",
    "y_test_tensor = torch.tensor(y_test)\n",
    "\n",
    "label_onehot = torch.zeros(y_train.shape[0], MODEL_LABEL_NUM)\n",
    "label_onehot.scatter_(1, y_train_tensor.unsqueeze(1), 1)\n",
    "class_weights = 1.0/label_onehot.mean(axis=0)\n",
    "\n",
    "network = fl.MLP(x_train.shape[1], MODEL_LABEL_NUM, MODEL_NEURONS)\n",
    "loss = torch.nn.BCELoss(weight=class_weights)\n",
    "optimizer = torch.optim.Adam(network.parameters(), lr=MODEL_LR)#, weight_decay=1e-3)\n",
    "\n",
    "MODEL_EPOCHS = 0 # Untrained\n",
    "for epoch in range(MODEL_EPOCHS):\n",
    "    x_train_tensor_masked = masker(torch.tensor(x_train).float()) # A different set of RandomMasks for each batch\n",
    "    optimizer.zero_grad()\n",
    "    \n",
    "    preds = network(x_train_tensor_masked)\n",
    "    label_onehot = torch.zeros(y_train.shape[0], MODEL_LABEL_NUM)\n",
    "    label_onehot.scatter_(1, y_train_tensor.unsqueeze(1), 1)\n",
    "    loss_value = loss(preds, label_onehot)\n",
    "    loss_value.backward()        \n",
    "    optimizer.step()\n",
    "\n",
    "    train_accuracy = (preds.argmax(dim=1) == y_train_tensor).float().mean() \n",
    "\n",
    "    test_preds = network.forward(x_test_tensor)        \n",
    "    test_accuracy = (test_preds.argmax(dim=1) == y_test_tensor).float().mean() \n",
    "    print(f'Epoch {epoch}/{MODEL_EPOCHS} - Loss: {loss_value.item()} - Train accuracy: {train_accuracy} - Test accuracy: {test_accuracy}')  \n",
    "    #if test_accuracy > 0.6: # Undertrained\n",
    "    #    break\n",
    "\n",
    "network.eval()\n",
    "test_preds = network.forward(x_test_tensor)        \n",
    "accuracy = (test_preds.argmax(dim=1) == y_test_tensor).float().mean()\n",
    "print(accuracy.item())\n"
   ]
  },
  {
   "cell_type": "code",
   "execution_count": 7,
   "metadata": {},
   "outputs": [],
   "source": [
    "# Save model\n",
    "torch.save(network.state_dict(), os.path.join(PROJ_DIR,'assets','models','avila-ood-mean-mlp.pth'))\n",
    "\n",
    "import json\n",
    "MODELS_PATH = os.path.join(PROJ_DIR,'assets','models')\n",
    "with open(os.path.join(MODELS_PATH, 'model-accuracies.json')) as fIn:\n",
    "    models = json.load(fIn)\n",
    "models['avila-ood-mean'] = accuracy.item()\n",
    "with open(os.path.join(MODELS_PATH, 'model-accuracies.json'), 'w') as fOut:\n",
    "    json.dump(models, fOut)"
   ]
  }
 ],
 "metadata": {
  "kernelspec": {
   "display_name": "Python 3 (ipykernel)",
   "language": "python",
   "name": "python3"
  },
  "language_info": {
   "codemirror_mode": {
    "name": "ipython",
    "version": 3
   },
   "file_extension": ".py",
   "mimetype": "text/x-python",
   "name": "python",
   "nbconvert_exporter": "python",
   "pygments_lexer": "ipython3",
   "version": "3.9.13"
  }
 },
 "nbformat": 4,
 "nbformat_minor": 4
}
