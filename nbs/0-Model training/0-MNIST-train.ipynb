{
 "cells": [
  {
   "cell_type": "code",
   "execution_count": null,
   "metadata": {},
   "outputs": [],
   "source": [
    "# Load library\n",
    "import sys\n",
    "import os\n",
    "PROJ_DIR = os.path.realpath(os.path.dirname(os.path.dirname(os.path.abspath(''))))\n",
    "sys.path.append(os.path.join(PROJ_DIR,'src'))\n",
    "\n",
    "import gce_lib as ff"
   ]
  },
  {
   "cell_type": "code",
   "execution_count": null,
   "metadata": {},
   "outputs": [],
   "source": [
    "DATASET_NAME = 'mnist'\n",
    "MODEL_NAME = 'mlp'\n",
    "\n",
    "# Load dataset\n",
    "import torch\n",
    "device = torch.device(\"cuda:0\" if torch.cuda.is_available() else \"cpu\")\n",
    "print(f'Using {device}')\n",
    "import torchvision\n",
    "\n",
    "batch_size = 256\n",
    "\n",
    "MNIST_PATH = os.path.join(PROJ_DIR, 'data', 'mnist')\n",
    "\n",
    "train_loader = torch.utils.data.DataLoader(\n",
    "  torchvision.datasets.MNIST(MNIST_PATH, train=True, download=True,\n",
    "                             transform=torchvision.transforms.Compose([\n",
    "                               torchvision.transforms.ToTensor(),\n",
    "                               torchvision.transforms.Normalize(\n",
    "                                 (0.1307,), (0.3081,))\n",
    "                             ])),\n",
    "  batch_size=batch_size, shuffle=True)\n",
    "\n",
    "test_loader = torch.utils.data.DataLoader(\n",
    "  torchvision.datasets.MNIST(MNIST_PATH, train=False, download=True,\n",
    "                             transform=torchvision.transforms.Compose([\n",
    "                               torchvision.transforms.ToTensor(),\n",
    "                               torchvision.transforms.Normalize(\n",
    "                                 (0.1307,), (0.3081,))\n",
    "                             ])),\n",
    "  batch_size=batch_size, shuffle=True)\n",
    "\n",
    "examples = enumerate(test_loader)\n",
    "batch_idx, (example_data, example_targets) = next(examples)"
   ]
  },
  {
   "cell_type": "code",
   "execution_count": null,
   "metadata": {},
   "outputs": [],
   "source": [
    "# Declare classifier\n",
    "network = ff.MNISTClassifier().to(device)"
   ]
  },
  {
   "cell_type": "code",
   "execution_count": null,
   "metadata": {},
   "outputs": [],
   "source": [
    "MODEL_LR = 1e-3\n",
    "loss = torch.nn.BCELoss()\n",
    "optimizer = torch.optim.Adam(network.parameters(), lr=MODEL_LR)#, weight_decay=1e-3)\n",
    "MODEL_EPOCHS = 10\n",
    "MODEL_LABEL_NUM = 10\n",
    "\n",
    "_, (x_test, y_test) = next(enumerate(test_loader))\n",
    "x_test = x_test.to(device)\n",
    "y_test = y_test.to(device)\n",
    "\n",
    "for epoch in range(MODEL_EPOCHS):\n",
    "    for batch_idx, (x_train, y_train) in enumerate(train_loader):\n",
    "        x_train = x_train.to(device)\n",
    "        y_train = y_train.to(device)\n",
    "        x_train_tensor_masked = x_train # Unmasked\n",
    "        optimizer.zero_grad()\n",
    "        \n",
    "        preds = network(x_train_tensor_masked)\n",
    "        label_onehot = torch.zeros(y_train.shape[0], MODEL_LABEL_NUM).to(device)\n",
    "        label_onehot.scatter_(1, y_train.unsqueeze(1), 1)\n",
    "        loss_value = loss(preds, label_onehot)\n",
    "        loss_value.backward()        \n",
    "        optimizer.step()\n",
    "\n",
    "        train_accuracy = (preds.argmax(dim=1) == y_train).float().mean() \n",
    "\n",
    "        test_preds = network.forward(x_test)        \n",
    "        test_accuracy = (test_preds.argmax(dim=1) == y_test).float().mean() \n",
    "        print(f'Epoch {epoch + 1}/{MODEL_EPOCHS} - Loss: {loss_value.item():.4f} - Train accuracy: {train_accuracy:.2f} - Test accuracy: {test_accuracy:.2f}')\n",
    "        #if test_accuracy > 0.6: # Undertrained\n",
    "        #    break"
   ]
  },
  {
   "cell_type": "code",
   "execution_count": null,
   "metadata": {},
   "outputs": [],
   "source": [
    "# Save model\n",
    "torch.save(network.state_dict(), os.path.join(PROJ_DIR,'assets','models',f'TEMP{DATASET_NAME}-{MODEL_NAME}-mlp.pth'))"
   ]
  },
  {
   "cell_type": "code",
   "execution_count": null,
   "metadata": {},
   "outputs": [],
   "source": [
    "network = ff.load_pretrained_mnist_model(os.path.join(PROJ_DIR,'assets','models',f'{DATASET_NAME}-{MODEL_NAME}-mlp.pth'))"
   ]
  },
  {
   "cell_type": "code",
   "execution_count": null,
   "metadata": {},
   "outputs": [],
   "source": [
    "network.eval()\n",
    "test_accuracy = 0\n",
    "num_batches = 0\n",
    "for batch_idx, (x_test, y_test) in enumerate(train_loader):\n",
    "    x_test = x_test.to(device)\n",
    "    y_test = y_test.to(device)\n",
    "    num_batches += 1\n",
    "    test_preds = network.forward(x_test)        \n",
    "    test_accuracy += (test_preds.argmax(dim=1) == y_test).float().mean()\n",
    "print((test_accuracy.item()) / num_batches)"
   ]
  },
  {
   "cell_type": "code",
   "execution_count": null,
   "metadata": {},
   "outputs": [],
   "source": [
    "import json\n",
    "MODELS_PATH = os.path.join(PROJ_DIR,'assets','models')\n",
    "with open(os.path.join(MODELS_PATH, 'model-accuracies.json')) as fIn:\n",
    "    models = json.load(fIn)\n",
    "models[f'{DATASET_NAME}-{MODEL_NAME}'] = test_accuracy.item()\n",
    "with open(os.path.join(MODELS_PATH, 'model-accuracies.json'), 'w') as fOut:\n",
    "    json.dump(models, fOut)"
   ]
  },
  {
   "cell_type": "code",
   "execution_count": null,
   "metadata": {},
   "outputs": [],
   "source": []
  }
 ],
 "metadata": {
  "kernelspec": {
   "display_name": "Python 3 (ipykernel)",
   "language": "python",
   "name": "python3"
  },
  "language_info": {
   "codemirror_mode": {
    "name": "ipython",
    "version": 3
   },
   "file_extension": ".py",
   "mimetype": "text/x-python",
   "name": "python",
   "nbconvert_exporter": "python",
   "pygments_lexer": "ipython3",
   "version": "3.11.5"
  }
 },
 "nbformat": 4,
 "nbformat_minor": 4
}
