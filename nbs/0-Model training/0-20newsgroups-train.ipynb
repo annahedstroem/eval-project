{
 "cells": [
  {
   "attachments": {},
   "cell_type": "markdown",
   "metadata": {},
   "source": [
    "## 20 newsgroups training\n",
    " This notebook loads the 20 newsgroups dataset (https://scikit-learn.org/stable/modules/generated/sklearn.datasets.fetch_20newsgroups_vectorized.html#sklearn.datasets.fetch_20newsgroups_vectorized), preprocesses it and trains a simple model"
   ]
  },
  {
   "cell_type": "code",
   "execution_count": null,
   "metadata": {},
   "outputs": [],
   "source": [
    "import sys\n",
    "import os\n",
    "PROJ_DIR = os.path.realpath(os.path.dirname(os.path.dirname(os.path.abspath(''))))\n",
    "sys.path.append(os.path.join(PROJ_DIR,'src'))\n",
    "import gce_lib as ff"
   ]
  },
  {
   "cell_type": "code",
   "execution_count": null,
   "metadata": {},
   "outputs": [],
   "source": [
    "import sklearn.datasets\n",
    "x_train, y_train = sklearn.datasets.fetch_20newsgroups_vectorized(subset='train', return_X_y=True)\n",
    "x_test, y_test = sklearn.datasets.fetch_20newsgroups_vectorized(subset='test', return_X_y=True)\n",
    "x_train = x_train.toarray()\n",
    "x_test = x_test.toarray()"
   ]
  },
  {
   "cell_type": "code",
   "execution_count": null,
   "metadata": {},
   "outputs": [],
   "source": [
    "import numpy as np\n",
    "# Save to assets (there's no need to save the whole thing)\n",
    "np.savez(os.path.join(PROJ_DIR, 'assets', 'data', '20newsgroups'),\\\n",
    "        x_train=x_train[:100],\\\n",
    "        x_test=x_test[:100],\\\n",
    "        y_train=y_train[:100],\\\n",
    "        y_test=y_test[:100])"
   ]
  },
  {
   "attachments": {},
   "cell_type": "markdown",
   "metadata": {},
   "source": [
    "Train a MLP model"
   ]
  },
  {
   "cell_type": "code",
   "execution_count": null,
   "metadata": {},
   "outputs": [],
   "source": [
    "import torch\n",
    "device = torch.device(\"cuda:0\" if torch.cuda.is_available() else \"CPU\")\n",
    "print(f'Using {device}')\n",
    "\n",
    "import numpy as np\n",
    "\n",
    "MODEL_NEURONS = [1000, 1000, 800, 500]\n",
    "MODEL_EPOCHS= 100\n",
    "MODEL_LR = 1.0e-2\n",
    "MODEL_LABEL_NUM = np.unique(y_train).size\n",
    "\n",
    "network = ff.MLPLarge(x_train.shape[1], MODEL_LABEL_NUM, MODEL_NEURONS).to(device)\n",
    "loss = torch.nn.CrossEntropyLoss()\n",
    "optimizer = torch.optim.Adam(network.parameters(), lr=MODEL_LR)\n",
    "\n",
    "\n",
    "x_train_tensor = torch.tensor(x_train).float().to(device)\n",
    "y_train_tensor = torch.tensor(y_train).to(device)\n",
    "x_test_tensor = torch.tensor(x_test).float().to(device)\n",
    "y_test_tensor = torch.tensor(y_test).to(device)\n",
    "\n",
    "from torch.utils.data import Dataset\n",
    "from torch.utils.data import DataLoader\n",
    "\n",
    "class MyDataset(Dataset):\n",
    "    def __init__(self, X_data, y_data):\n",
    "        self.X = X_data\n",
    "        self.y = y_data\n",
    "\n",
    "    def __len__(self):\n",
    "        return len(self.X)\n",
    "\n",
    "    def __getitem__(self, idx):\n",
    "        return self.X[idx], self.y[idx]\n",
    "\n",
    "# Create an instance of your custom dataset\n",
    "#train_dataset = MyDataset(x_train_tensor, y_train_tensor)\n",
    "\n",
    "# Create a DataLoader\n",
    "#batch_size = 32  # Set the batch size\n",
    "#shuffle = True   # Shuffle the data every epoch\n",
    "#data_loader = DataLoader(train_dataset, batch_size=batch_size, shuffle=shuffle)\n",
    "\n",
    "data_loader = [(x_train_tensor, y_train_tensor)]\n",
    "\n",
    "for epoch in range(MODEL_EPOCHS):\n",
    "    for x_batch, y_batch in data_loader:\n",
    "        optimizer.zero_grad()\n",
    "        \n",
    "        preds = network(x_batch)\n",
    "        loss_value = loss(preds, y_batch)\n",
    "        loss_value.backward()        \n",
    "        optimizer.step()\n",
    "    \n",
    "        train_accuracy = (preds.argmax(dim=-1) == y_batch).float().mean()\n",
    "        test_preds = network.forward(x_test_tensor)        \n",
    "        test_accuracy = (test_preds.argmax(dim=-1) == y_test_tensor).float().mean()\n",
    "        print(f'Epoch {epoch+1}/{MODEL_EPOCHS} - Loss: {loss_value.item():.4f} - Train accuracy: {train_accuracy:.4f} - Test accuracy: {test_accuracy:.4f}')\n",
    "    \n",
    "network.eval()\n",
    "test_preds = network.forward(x_test_tensor)        \n",
    "test_accuracy = (test_preds.argmax(dim=1) == y_test_tensor).float().mean()\n",
    "print(test_accuracy.item())"
   ]
  },
  {
   "cell_type": "code",
   "execution_count": null,
   "metadata": {},
   "outputs": [],
   "source": [
    "# Save model\n",
    "torch.save(network.state_dict(), os.path.join(PROJ_DIR,'assets','models','20newsgroups-mlp.pth'))\n",
    "\n",
    "import json\n",
    "MODELS_PATH = os.path.join(PROJ_DIR,'assets','models')\n",
    "with open(os.path.join(MODELS_PATH, 'model-accuracies.json')) as fIn:\n",
    "    models = json.load(fIn)\n",
    "models['20newsgroups'] = test_accuracy.item()\n",
    "with open(os.path.join(MODELS_PATH, 'model-accuracies.json'), 'w') as fOut:\n",
    "    json.dump(models, fOut)"
   ]
  },
  {
   "cell_type": "code",
   "execution_count": null,
   "metadata": {},
   "outputs": [],
   "source": []
  }
 ],
 "metadata": {
  "kernelspec": {
   "display_name": "Python 3 (ipykernel)",
   "language": "python",
   "name": "python3"
  },
  "language_info": {
   "codemirror_mode": {
    "name": "ipython",
    "version": 3
   },
   "file_extension": ".py",
   "mimetype": "text/x-python",
   "name": "python",
   "nbconvert_exporter": "python",
   "pygments_lexer": "ipython3",
   "version": "3.11.5"
  }
 },
 "nbformat": 4,
 "nbformat_minor": 4
}
