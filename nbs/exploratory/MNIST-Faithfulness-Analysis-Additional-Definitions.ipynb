{
 "cells": [
  {
   "cell_type": "markdown",
   "metadata": {
    "id": "wnwOj16eVeGU"
   },
   "source": [
    "## Install packages (requires restarting runtime after running cell)"
   ]
  },
  {
   "cell_type": "code",
   "execution_count": 1,
   "metadata": {
    "colab": {
     "base_uri": "https://localhost:8080/"
    },
    "executionInfo": {
     "elapsed": 13098,
     "status": "ok",
     "timestamp": 1666955418974,
     "user": {
      "displayName": "Anna Hedström",
      "userId": "05540180366077551505"
     },
     "user_tz": -120
    },
    "id": "LIgBVpcQVvET",
    "outputId": "c4cfb2ac-b4f7-4f4d-fea8-b9da72a5225c"
   },
   "outputs": [
    {
     "name": "stdout",
     "output_type": "stream",
     "text": [
      "Looking in indexes: https://pypi.org/simple, https://us-python.pkg.dev/colab-wheels/public/simple/\n",
      "Requirement already satisfied: numpy in /usr/local/lib/python3.7/dist-packages (1.21.6)\n"
     ]
    }
   ],
   "source": [
    "# Install packages.\n",
    "from IPython.display import clear_output\n",
    "!pip install captum opencv-python xmltodict\n",
    "#!pip install -U matplotlib\n",
    "!pip install quantus\n",
    "clear_output()\n",
    "!pip install numpy --upgrade"
   ]
  },
  {
   "cell_type": "markdown",
   "metadata": {
    "id": "k0lKJjyYVJw-"
   },
   "source": [
    "## Declare and load classifier"
   ]
  },
  {
   "cell_type": "code",
   "execution_count": 2,
   "metadata": {
    "colab": {
     "base_uri": "https://localhost:8080/"
    },
    "executionInfo": {
     "elapsed": 7052,
     "status": "ok",
     "timestamp": 1666955426011,
     "user": {
      "displayName": "Anna Hedström",
      "userId": "05540180366077551505"
     },
     "user_tz": -120
    },
    "id": "UHuYq2eoU3Wn",
    "outputId": "cb308c69-3496-42af-dd96-b1c39da5333d"
   },
   "outputs": [
    {
     "name": "stdout",
     "output_type": "stream",
     "text": [
      "Mounted at /content/drive\n"
     ]
    }
   ],
   "source": [
    "#https://nextjournal.com/gkoehler/pytorch-mnist\n",
    "import torch\n",
    "import torch.nn as nn\n",
    "import torch.nn.functional as F\n",
    "import torch.optim as optim\n",
    "\n",
    "class MNISTClassifier(nn.Module):\n",
    "    def __init__(self):\n",
    "        super(MNISTClassifier, self).__init__()\n",
    "        self.conv1 = nn.Conv2d(1, 10, kernel_size=5)\n",
    "        self.conv2 = nn.Conv2d(10, 20, kernel_size=5)\n",
    "        self.conv2_drop = nn.Dropout2d()\n",
    "        self.fc1 = nn.Linear(320, 50)\n",
    "        self.fc2 = nn.Linear(50, 10)\n",
    "\n",
    "    def forward(self, x):\n",
    "        x = F.relu(F.max_pool2d(self.conv1(x), 2))\n",
    "        x = F.relu(F.max_pool2d(self.conv2_drop(self.conv2(x)), 2))\n",
    "        x = x.view(-1, 320)\n",
    "        x = F.relu(self.fc1(x))\n",
    "        x = F.dropout(x, training=self.training)\n",
    "        x = self.fc2(x)\n",
    "        return F.log_softmax(x)\n",
    "\n",
    "network = MNISTClassifier()\n",
    "device = torch.device(\"cuda:0\" if torch.cuda.is_available() else \"cpu\") \n",
    "\n",
    "import numpy as np\n",
    "\n",
    "from google.colab import drive\n",
    "drive.mount('/content/drive', force_remount=True)\n",
    "\n",
    "PATH_DIR = '/content/drive/MyDrive/XAI-Anna-Carlos/'\n",
    "PATH_PRETRAINED = PATH_DIR + 'mnist-classifier.pth'\n",
    "\n",
    "import os.path\n",
    "\n",
    "if os.path.isfile(PATH_PRETRAINED):\n",
    "  network.load_state_dict(torch.load(PATH_PRETRAINED))\n",
    "  network.to(device)\n",
    "else:\n",
    "  raise Exception('ERROR: Could not find model at ',PATH_PRETRAINED)"
   ]
  },
  {
   "cell_type": "markdown",
   "metadata": {
    "id": "eB67rnXmVJcH"
   },
   "source": [
    "## Load randomly generated data (takes ~5min.)"
   ]
  },
  {
   "cell_type": "code",
   "execution_count": 3,
   "metadata": {
    "executionInfo": {
     "elapsed": 4,
     "status": "ok",
     "timestamp": 1666955426012,
     "user": {
      "displayName": "Anna Hedström",
      "userId": "05540180366077551505"
     },
     "user_tz": -120
    },
    "id": "AiMty2NFVdR9"
   },
   "outputs": [],
   "source": [
    "FILENAME = PATH_DIR + 'random_generated_auc--.npz'\n",
    "data = np.load(FILENAME)"
   ]
  },
  {
   "cell_type": "code",
   "execution_count": 4,
   "metadata": {
    "colab": {
     "base_uri": "https://localhost:8080/"
    },
    "executionInfo": {
     "elapsed": 21163,
     "status": "ok",
     "timestamp": 1666955447172,
     "user": {
      "displayName": "Anna Hedström",
      "userId": "05540180366077551505"
     },
     "user_tz": -120
    },
    "id": "W2Fp2_QDW-Ht",
    "outputId": "575d9ee3-fa2d-43d3-9eca-f0dcee18c3f3"
   },
   "outputs": [
    {
     "name": "stdout",
     "output_type": "stream",
     "text": [
      "[-0.86637943 -0.39332936 -1.11622971 ... -0.96491077 -0.6600506\n",
      " -0.75430563]\n"
     ]
    }
   ],
   "source": [
    "# This cell will take a while (<5min)\n",
    "# I should have named the variables in the NPZ 😅\n",
    "image = data['arr_0']\n",
    "label = data['arr_1']\n",
    "rankings = data['arr_2']\n",
    "plots = data['arr_3']\n",
    "inverse_plots = data['arr_4']\n",
    "hit_plots = data['arr_5']\n",
    "inverse_hit_plots = data['arr_6']\n",
    "measures = data['arr_7']\n",
    "measures_with_inverse = data['arr_8']\n",
    "measures_auc = data['arr_9']\n",
    "measures_auc_with_inverse = data['arr_10']\n",
    "\n",
    "print(measures)\n"
   ]
  },
  {
   "cell_type": "markdown",
   "metadata": {
    "id": "rGpv-T6Q-jq7"
   },
   "source": [
    "## Quick statistics\n",
    "First, we look at the distribution of the Q scores"
   ]
  },
  {
   "cell_type": "code",
   "execution_count": 5,
   "metadata": {
    "colab": {
     "base_uri": "https://localhost:8080/",
     "height": 816
    },
    "executionInfo": {
     "elapsed": 2217,
     "status": "ok",
     "timestamp": 1666955449387,
     "user": {
      "displayName": "Anna Hedström",
      "userId": "05540180366077551505"
     },
     "user_tz": -120
    },
    "id": "mT0G9Ef-ZRHQ",
    "outputId": "976f4f78-8afd-42bf-de6b-04b657503804"
   },
   "outputs": [
    {
     "data": {
      "image/png": "[encoded data removed]",
      "text/plain": [
       "<Figure size 432x288 with 1 Axes>"
      ]
     },
     "metadata": {},
     "output_type": "display_data"
    },
    {
     "data": {
      "image/png": "[encoded data removed]",
      "text/plain": [
       "<Figure size 432x288 with 1 Axes>"
      ]
     },
     "metadata": {
      "needs_background": "light"
     },
     "output_type": "display_data"
    },
    {
     "name": "stdout",
     "output_type": "stream",
     "text": [
      "Avg=-0.8218205602873415 Std=0.21673408994939022\n"
     ]
    },
    {
     "data": {
      "image/png": "[encoded data removed]",
      "text/plain": [
       "<Figure size 432x288 with 1 Axes>"
      ]
     },
     "metadata": {
      "needs_background": "light"
     },
     "output_type": "display_data"
    },
    {
     "name": "stdout",
     "output_type": "stream",
     "text": [
      "Avg=0.003261873301343424 Std=0.35685235461303366\n"
     ]
    }
   ],
   "source": [
    "# Visualization of the image and metrics\n",
    "import matplotlib.pyplot as plt\n",
    "\n",
    "index = 22\n",
    "fig = plt.figure()\n",
    "plt.tight_layout()\n",
    "plt.imshow(image[0], cmap='gray', interpolation='none')\n",
    "plt.xticks([])\n",
    "plt.yticks([])\n",
    "plt.show()\n",
    "\n",
    "plt.hist(measures, bins=100)\n",
    "plt.title('Q value histogram across data')\n",
    "plt.show()\n",
    "avg_q = np.mean(measures)\n",
    "std_q = np.std(measures)\n",
    "print(f'Avg={avg_q} Std={std_q}')\n",
    "\n",
    "plt.hist(measures_with_inverse, bins=100)\n",
    "plt.title('Q value with inverse histogram across data')\n",
    "plt.show()\n",
    "avg_qinv = np.mean(measures_with_inverse)\n",
    "std_qinv = np.std(measures_with_inverse)\n",
    "print(f'Avg={avg_qinv} Std={std_qinv}')"
   ]
  },
  {
   "cell_type": "markdown",
   "metadata": {
    "id": "Q-itMqRDAx_7"
   },
   "source": [
    "Draw the best explanations according to Q and Qinv."
   ]
  },
  {
   "cell_type": "code",
   "execution_count": null,
   "metadata": {
    "id": "tZ3NDlp4akno"
   },
   "outputs": [],
   "source": [
    "# Best explanation according to Q\n",
    "best_ranking = rankings[np.argmax(measures)]\n",
    "plt.imshow(image[index], cmap='gray', interpolation='none')\n",
    "plt.imshow(best_ranking.squeeze(), cmap=\"seismic\", alpha=0.5)\n",
    "plt.title(f'Best random ranking according to Q ({np.max(measures)})')\n",
    "plt.show()\n",
    "# Best explanation according to Q with inverse\n",
    "best_ranking_with_inverse = rankings[np.argmax(measures_with_inverse)]\n",
    "plt.imshow(image[index], cmap='gray', interpolation='none')\n",
    "plt.imshow(best_ranking_with_inverse.squeeze(), cmap=\"seismic\", alpha=0.5)\n",
    "plt.title(f'Best random ranking according to Q with inverse ({np.max(measures_with_inverse)})')\n",
    "plt.show()"
   ]
  },
  {
   "cell_type": "markdown",
   "metadata": {
    "id": "4PBTKxmRak_A"
   },
   "source": [
    "## Compute measures with random baseline"
   ]
  },
  {
   "cell_type": "code",
   "execution_count": null,
   "metadata": {
    "executionInfo": {
     "elapsed": 5,
     "status": "aborted",
     "timestamp": 1666955449388,
     "user": {
      "displayName": "Anna Hedström",
      "userId": "05540180366077551505"
     },
     "user_tz": -120
    },
    "id": "euF6mvBvaj8j"
   },
   "outputs": [],
   "source": [
    "measures_with_baseline = np.zeros(measures.shape)\n",
    "for i in range(measures.size):\n",
    "  j = np.random.randint(measures.size)\n",
    "  while i==j:\n",
    "    j = np.random.randint(measures.size)\n",
    "  measures_with_baseline[i] = measures[i] - measures[j]"
   ]
  },
  {
   "cell_type": "code",
   "execution_count": null,
   "metadata": {
    "executionInfo": {
     "elapsed": 6,
     "status": "aborted",
     "timestamp": 1666955449389,
     "user": {
      "displayName": "Anna Hedström",
      "userId": "05540180366077551505"
     },
     "user_tz": -120
    },
    "id": "VBzZBqXOZraj"
   },
   "outputs": [],
   "source": [
    "plt.hist(measures_with_baseline, bins=100)\n",
    "plt.title('Q value with random baseline histogram across data')\n",
    "plt.show()\n",
    "avg_qbas = np.mean(measures_with_baseline)\n",
    "std_qbas = np.std(measures_with_baseline)\n",
    "print(f'Avg={avg_qbas} Std={std_qbas}')"
   ]
  },
  {
   "cell_type": "markdown",
   "metadata": {
    "id": "u6TXCicnBD9I"
   },
   "source": [
    "For these random rankings, Q with baseline looks very similar to Qinv.\n",
    "\n",
    "Draw the best explanation. It looks just as bad as the others, as expected since these are just random rankings."
   ]
  },
  {
   "cell_type": "code",
   "execution_count": null,
   "metadata": {
    "executionInfo": {
     "elapsed": 6,
     "status": "aborted",
     "timestamp": 1666955449389,
     "user": {
      "displayName": "Anna Hedström",
      "userId": "05540180366077551505"
     },
     "user_tz": -120
    },
    "id": "QQW2qgHPgyPO"
   },
   "outputs": [],
   "source": [
    "# Best explanation according to Q with baseline\n",
    "best_ranking_with_baseline = rankings[np.argmax(measures_with_baseline)]\n",
    "plt.imshow(image[index], cmap='gray', interpolation='none')\n",
    "plt.imshow(best_ranking_with_baseline.squeeze(), cmap=\"seismic\", alpha=0.5)\n",
    "plt.title(f'Best random ranking according to Q with baseline({np.max(measures_with_baseline)})')\n",
    "plt.show()"
   ]
  },
  {
   "cell_type": "markdown",
   "metadata": {
    "id": "O11Rtj43BV1R"
   },
   "source": [
    "## Load Quantus to compare with explanations that inspect the model"
   ]
  },
  {
   "cell_type": "code",
   "execution_count": 8,
   "metadata": {
    "executionInfo": {
     "elapsed": 7573,
     "status": "ok",
     "timestamp": 1666957976492,
     "user": {
      "displayName": "Anna Hedström",
      "userId": "05540180366077551505"
     },
     "user_tz": -120
    },
    "id": "x6SoYNs9Bgxh"
   },
   "outputs": [],
   "source": [
    "# Imports general.\n",
    "import sys\n",
    "import warnings\n",
    "import pathlib\n",
    "import numpy as np\n",
    "import pandas as pd\n",
    "import matplotlib.pyplot as plt\n",
    "import torch\n",
    "import torchvision\n",
    "from torchvision import transforms\n",
    "import captum\n",
    "from captum.attr import *\n",
    "import random\n",
    "import os\n",
    "import cv2\n",
    "import PIL\n",
    "from xml.etree import ElementTree\n",
    "import xmltodict\n",
    "import collections\n",
    "\n",
    "import quantus\n",
    "\n",
    "import gc\n",
    "import warnings\n",
    "# Collect garbage.\n",
    "gc.collect()\n",
    "torch.cuda.empty_cache()\n",
    "\n",
    "# Configs torch (read more on this cuda-related issue here: https://github.com/pytorch/pytorch/issues/45769).\n",
    "torch.backends.cudnn.deterministic = True\n",
    "torch.backends.cudnn.benchmark = False\n",
    "\n",
    "# Notebook settings.\n",
    "device = torch.device(\"cuda:0\" if torch.cuda.is_available() else \"cpu\") \n",
    "warnings.filterwarnings(\"ignore\", category=UserWarning)\n",
    "%load_ext autoreload\n",
    "%autoreload 2\n",
    "#clear_output()"
   ]
  },
  {
   "cell_type": "markdown",
   "metadata": {
    "id": "pTnIm6dREMPh"
   },
   "source": [
    "Now we generate a few explanations using:\n",
    "\n",
    "\n",
    "*   Gradient\n",
    "*   GradientShap\n",
    "*   InputXGradient\n",
    "*   IntegratedGradients\n",
    "*   Saliency\n",
    "\n",
    "Then check their Q and Qinv and see how it compares with the random generated explanations.\n",
    "\n"
   ]
  },
  {
   "cell_type": "code",
   "execution_count": 11,
   "metadata": {
    "colab": {
     "base_uri": "https://localhost:8080/",
     "height": 204
    },
    "executionInfo": {
     "elapsed": 4,
     "status": "error",
     "timestamp": 1666955325527,
     "user": {
      "displayName": "Anna Hedström",
      "userId": "05540180366077551505"
     },
     "user_tz": -120
    },
    "id": "wpayKEIeDnsM",
    "outputId": "5b8036b3-55a2-467c-c766-fb6e4bcb2bc5"
   },
   "outputs": [
    {
     "ename": "NameError",
     "evalue": "ignored",
     "output_type": "error",
     "traceback": [
      "\u001b[0;31m---------------------------------------------------------------------------\u001b[0m",
      "\u001b[0;31mNameError\u001b[0m                                 Traceback (most recent call last)",
      "\u001b[0;32m<ipython-input-11-a7daa2d8f09c>\u001b[0m in \u001b[0;36m<module>\u001b[0;34m\u001b[0m\n\u001b[1;32m      3\u001b[0m \u001b[0mexplanations\u001b[0m \u001b[0;34m=\u001b[0m \u001b[0;34m{\u001b[0m\u001b[0;34m}\u001b[0m\u001b[0;34m\u001b[0m\u001b[0;34m\u001b[0m\u001b[0m\n\u001b[1;32m      4\u001b[0m \u001b[0;32mfor\u001b[0m \u001b[0mmethod\u001b[0m \u001b[0;32min\u001b[0m \u001b[0mmethods\u001b[0m\u001b[0;34m:\u001b[0m\u001b[0;34m\u001b[0m\u001b[0;34m\u001b[0m\u001b[0m\n\u001b[0;32m----> 5\u001b[0;31m   \u001b[0mexplanations\u001b[0m\u001b[0;34m[\u001b[0m\u001b[0mmethod\u001b[0m\u001b[0;34m]\u001b[0m \u001b[0;34m=\u001b[0m \u001b[0mquantus\u001b[0m\u001b[0;34m.\u001b[0m\u001b[0mexplain\u001b[0m\u001b[0;34m(\u001b[0m\u001b[0mnetwork\u001b[0m\u001b[0;34m,\u001b[0m \u001b[0mtorch\u001b[0m\u001b[0;34m.\u001b[0m\u001b[0mfrom_numpy\u001b[0m\u001b[0;34m(\u001b[0m\u001b[0mimage\u001b[0m\u001b[0;34m.\u001b[0m\u001b[0mreshape\u001b[0m\u001b[0;34m(\u001b[0m\u001b[0;34m(\u001b[0m\u001b[0;36m1\u001b[0m\u001b[0;34m,\u001b[0m\u001b[0;36m1\u001b[0m\u001b[0;34m,\u001b[0m\u001b[0;36m28\u001b[0m\u001b[0;34m,\u001b[0m\u001b[0;36m28\u001b[0m\u001b[0;34m)\u001b[0m\u001b[0;34m)\u001b[0m\u001b[0;34m)\u001b[0m\u001b[0;34m.\u001b[0m\u001b[0mto\u001b[0m\u001b[0;34m(\u001b[0m\u001b[0mdevice\u001b[0m\u001b[0;34m)\u001b[0m\u001b[0;34m,\u001b[0m \u001b[0mtorch\u001b[0m\u001b[0;34m.\u001b[0m\u001b[0mfrom_numpy\u001b[0m\u001b[0;34m(\u001b[0m\u001b[0mlabel\u001b[0m\u001b[0;34m)\u001b[0m\u001b[0;34m.\u001b[0m\u001b[0mto\u001b[0m\u001b[0;34m(\u001b[0m\u001b[0mdevice\u001b[0m\u001b[0;34m)\u001b[0m\u001b[0;34m,\u001b[0m \u001b[0mmethod\u001b[0m\u001b[0;34m=\u001b[0m\u001b[0mmethod\u001b[0m\u001b[0;34m,\u001b[0m \u001b[0mnormalise\u001b[0m\u001b[0;34m=\u001b[0m\u001b[0;32mTrue\u001b[0m\u001b[0;34m)\u001b[0m\u001b[0;34m\u001b[0m\u001b[0;34m\u001b[0m\u001b[0m\n\u001b[0m",
      "\u001b[0;31mNameError\u001b[0m: name 'quantus' is not defined"
     ]
    }
   ],
   "source": [
    "methods = ['Gradient', 'GradientShap', 'InputXGradient', 'IntegratedGradients', 'Saliency']\n",
    "\n",
    "explanations = {}\n",
    "for method in methods:\n",
    "  explanations[method] = quantus.explain(network, torch.from_numpy(image.reshape((1,1,28,28))).to(device), torch.from_numpy(label).to(device), method=method, normalise=True)"
   ]
  },
  {
   "cell_type": "markdown",
   "metadata": {
    "id": "UzYnXieOOzlT"
   },
   "source": [
    "Let's see how they do. First, load all helper functions."
   ]
  },
  {
   "cell_type": "code",
   "execution_count": null,
   "metadata": {
    "id": "Xyz0m-KBaIIu"
   },
   "outputs": [],
   "source": [
    "def measure_curve(curve):\n",
    "  return np.mean(curve)\n",
    "\n",
    "def measure_curve_with_inverse(curve, inverse_curve):\n",
    "  return np.mean(curve-inverse_curve)\n",
    "\n",
    "\n",
    "####################################\n",
    "# Additional definitions of Q.\n",
    "####################################\n",
    "\n",
    "def measure_auc(values: np.array, dx: int = 1):\n",
    "    return np.trapz(np.array(curve), dx=dx)\n",
    "\n",
    "\n",
    "def get_masked_images(original_image, alternative_image, ranking_image, selection_levels):\n",
    "  '''\n",
    "  Generates as many masked images as selection levels are provided\n",
    "  Inputs are torch tensors already on device\n",
    "  '''\n",
    "  # Reshape selection_levels to be able to broadcast the selection levels and get\n",
    "  # as many masks as selection levels are provided\n",
    "  new_shape = (selection_levels.shape[0], 1, 1, 1) # Same shape but with a trailing 1\n",
    "  selection_levels = torch.reshape(selection_levels, new_shape)\n",
    "  # Compute all masks in batch\n",
    "  masks = torch.le(ranking_image,selection_levels)\n",
    "  # Compute masked images from masks and original and alternative images\n",
    "  images_masked = (original_image*masks) + (alternative_image*torch.logical_not(masks))\n",
    "  return images_masked\n",
    "\n",
    "def get_random_ranking_image(dimensions):\n",
    "  num_elems = 1\n",
    "  for d in dimensions:\n",
    "    num_elems *= d\n",
    "  image = np.random.permutation(num_elems).reshape(dimensions)/num_elems\n",
    "  return torch.from_numpy(image)\n",
    "\n",
    "def get_class_logits_for_masked_images(original_image, alternative_image, ranking_image, selection_levels, model, class_num):\n",
    "  with torch.no_grad():\n",
    "    # Send everything to device and work there\n",
    "    image = original_image.to(device)\n",
    "    alternative = alternative_image.to(device)\n",
    "    ranking = ranking_image.to(device)\n",
    "    levels = selection_levels.to(device)\n",
    "    images = get_masked_images(image, alternative, ranking, levels)\n",
    "    logits = model(images).to('cpu').numpy()\n",
    "  return logits[:,class_num],np.equal(np.argmax(logits, axis=1),class_num)\n",
    "\n",
    "def save_explanation_exploratory_plot(image, curve, is_hit, output_label, filename='unnamed'):\n",
    "  # Plot and save the figures\n",
    "  fig, axes = plt.subplots(nrows=1, ncols=2, figsize=(14, 5))\n",
    "  axes[0].imshow(image[0], cmap='gray', interpolation='none')\n",
    "  axes[0].title.set_text(output_label)\n",
    "  axes[0].axis(\"off\")\n",
    "  for i in range(1, len(curve)):\n",
    "    axes[1].plot([i-1,i],curve[i-1:i+1], lw=5 if is_hit[i] else 1, color='b')\n",
    "  fig.savefig(f'{filename}.png')\n",
    "  plt.show()\n",
    "\n",
    "def get_explanation_exploratory_curve(image, ranking_image, num_samples, output_label, model):\n",
    "  alternative = torch.from_numpy(np.full(image.shape,  0, dtype=np.float32)) #ZEROED-OUT\n",
    "\n",
    "  # Selection levels\n",
    "  selection_levels = torch.from_numpy(np.linspace(0, 1, num_samples))\n",
    "\n",
    "  # Increasing order\n",
    "  class_logit,is_hit = get_class_logits_for_masked_images(image, alternative, ranking_image, selection_levels, model, output_label)\n",
    "\n",
    "  # Compute the numerical value for the measure\n",
    "  #measure = measure_curves(class_logit)\n",
    "\n",
    "  return class_logit,is_hit\n",
    "\n",
    "def attributions_to_ranking_image(attributions, reverse=False):\n",
    "  ranked_attributions = []\n",
    "  for i in range(attributions.shape[2]):\n",
    "    for j in range(attributions.shape[3]):\n",
    "      ranked_attributions.append([attributions[0,0,i,j],i,j])\n",
    "  ranked_attributions.sort(reverse=reverse)\n",
    "  ranked_attributions = np.array(ranked_attributions)\n",
    "  ranking_image = np.zeros(attributions.shape)\n",
    "  num_attributes = ranked_attributions.shape[0]\n",
    "  for i in range(num_attributes):\n",
    "    x = int(ranked_attributions[i][1])\n",
    "    y = int(ranked_attributions[i][2])\n",
    "    ranking_image[0,0,x,y] = i/num_attributes\n",
    "  return ranking_image\n",
    "\n",
    "# TEST\n",
    "#attributions_to_ranking_image(np.array([[[1,2],[3,4]]]))"
   ]
  },
  {
   "cell_type": "markdown",
   "metadata": {
    "id": "me2PaNjrfnIt"
   },
   "source": [
    "## Actual measurements of the explanations"
   ]
  },
  {
   "cell_type": "code",
   "execution_count": null,
   "metadata": {
    "colab": {
     "base_uri": "https://localhost:8080/",
     "height": 1000
    },
    "executionInfo": {
     "elapsed": 1146,
     "status": "ok",
     "timestamp": 1663925094181,
     "user": {
      "displayName": "Carlos Eiras",
      "userId": "09724819455509685922"
     },
     "user_tz": -120
    },
    "id": "4c7_ZBa5O2KL",
    "outputId": "079f9e11-4149-4f5a-ceec-04033bbfd911"
   },
   "outputs": [
    {
     "name": "stdout",
     "output_type": "stream",
     "text": [
      "Reminder:\n",
      "Q: Avg=-1.1647272397570325 Std=0.34172787728266757\n",
      "Qinv: Avg=0.0016681147369008635 Std=0.5990668181542208\n",
      "Qbas: Avg=-0.0004697014615738853 Std=0.48326151344563056\n",
      "---- Method:Gradient\n",
      "Actual Z-score:-2.5764\n",
      "\t(Qinv Z-score wrt Qinv distribution:-3.2310)\n",
      "\tEstimations:\n",
      "\t\tQinv:-1.9339\n",
      "\t\tQbas:-1.2820\n"
     ]
    },
    {
     "data": {
      "image/png": "[encoded data removed]",
      "text/plain": [
       "<Figure size 432x288 with 1 Axes>"
      ]
     },
     "metadata": {
      "needs_background": "light"
     },
     "output_type": "display_data"
    },
    {
     "name": "stdout",
     "output_type": "stream",
     "text": [
      "---- Method:GradientShap\n",
      "Actual Z-score:-3.3534\n",
      "\t(Qinv Z-score wrt Qinv distribution:-3.6818)\n",
      "\tEstimations:\n",
      "\t\tQinv:-2.2040\n",
      "\t\tQbas:-1.3145\n"
     ]
    },
    {
     "data": {
      "image/png": "[encoded data removed]",
      "text/plain": [
       "<Figure size 432x288 with 1 Axes>"
      ]
     },
     "metadata": {
      "needs_background": "light"
     },
     "output_type": "display_data"
    },
    {
     "name": "stdout",
     "output_type": "stream",
     "text": [
      "---- Method:InputXGradient\n",
      "Actual Z-score:-3.1969\n",
      "\t(Qinv Z-score wrt Qinv distribution:-3.5922)\n",
      "\tEstimations:\n",
      "\t\tQinv:-2.1503\n",
      "\t\tQbas:-1.0951\n"
     ]
    },
    {
     "data": {
      "image/png": "[encoded data removed]",
      "text/plain": [
       "<Figure size 432x288 with 1 Axes>"
      ]
     },
     "metadata": {
      "needs_background": "light"
     },
     "output_type": "display_data"
    },
    {
     "name": "stdout",
     "output_type": "stream",
     "text": [
      "---- Method:IntegratedGradients\n",
      "Actual Z-score:-3.3201\n",
      "\t(Qinv Z-score wrt Qinv distribution:-3.6628)\n",
      "\tEstimations:\n",
      "\t\tQinv:-2.1926\n",
      "\t\tQbas:-1.4116\n"
     ]
    },
    {
     "data": {
      "image/png": "[encoded data removed]",
      "text/plain": [
       "<Figure size 432x288 with 1 Axes>"
      ]
     },
     "metadata": {
      "needs_background": "light"
     },
     "output_type": "display_data"
    },
    {
     "name": "stdout",
     "output_type": "stream",
     "text": [
      "---- Method:Saliency\n",
      "Actual Z-score:1.6457\n",
      "\t(Qinv Z-score wrt Qinv distribution:-0.1470)\n",
      "\tEstimations:\n",
      "\t\tQinv:-0.0864\n",
      "\t\tQbas:-0.0953\n"
     ]
    },
    {
     "data": {
      "image/png": "[encoded data removed]",
      "text/plain": [
       "<Figure size 432x288 with 1 Axes>"
      ]
     },
     "metadata": {
      "needs_background": "light"
     },
     "output_type": "display_data"
    }
   ],
   "source": [
    "# TODO - REMOVE - Should be read from file\n",
    "num_samples = plots.shape[1]\n",
    "\n",
    "print(\"Reminder:\")\n",
    "print(f'Q: Avg={avg_q} Std={std_q}')\n",
    "print(f'Qinv: Avg={avg_qinv} Std={std_qinv}')\n",
    "print(f'Qbas: Avg={avg_qbas} Std={std_qbas}')\n",
    "print(f'Qbas: Avg={avg_qauc} Std={std_qauc}')\n",
    "\n",
    "zscores = np.zeros(len(methods))\n",
    "qbas_estimations = np.zeros(len(methods))\n",
    "qinv_estimations = np.zeros(len(methods))\n",
    "qauc_estimations = np.zeros(len(methods))\n",
    "\n",
    "for i,method in enumerate(methods):\n",
    "  curve,is_hit = get_explanation_exploratory_curve(torch.from_numpy(image), torch.from_numpy(explanations[method]), num_samples, label, network)\n",
    "  q = measure_curve(curve)\n",
    "  inverse_ranking_image = attributions_to_ranking_image(explanations[method], reverse=True)\n",
    "  inverse_curve,inverse_is_hit = get_explanation_exploratory_curve(torch.from_numpy(image), torch.from_numpy(inverse_ranking_image), num_samples, label, network)\n",
    "  qinv = measure_curve_with_inverse(curve, inverse_curve)\n",
    "  random_curve,random_is_hit = get_explanation_exploratory_curve(torch.from_numpy(image), get_random_ranking_image(inverse_ranking_image.shape), num_samples, label, network)\n",
    "  qbas = q - measure_curve(random_curve)\n",
    "  qauc = measure_auc(curve, inverse_curve)\n",
    "  \n",
    "  print(f'---- Method:{method}')\n",
    "  zscores[i] = (q-avg_q)/std_q\n",
    "  qbas_estimations[i] = qbas\n",
    "  qinv_estimations[i] = qinv\n",
    "  qauc_estimations[i] = qauc\n",
    "  print(f'Actual Z-score:{zscores[i]:.4f}')\n",
    "  print(f'\\t(Qinv Z-score wrt Qinv distribution:{(qinv-avg_qinv)/std_qinv:.4f})')\n",
    "  print(f'\\t(Qinv Z-score wrt Qinv distribution:{(qauc-avg_qauc)/std_qauc:.4f})')\n",
    "  print(f'\\tEstimations:')\n",
    "  print(f'\\t\\tQinv:{qinv:.4f}')\n",
    "  print(f'\\t\\tQbas:{qbas:.4f}')\n",
    "  print(f'\\t\\tQauc:{qauc:.4f}')\n",
    "  plt.imshow(image[0], cmap='gray', interpolation='none')\n",
    "  plt.imshow(explanations[method][0][0], cmap=\"seismic\", alpha=0.5)\n",
    "  plt.title(f'{method} Q=({q:.4f}) Qinv=({qinv:.4f}) Qbas=({qbas:.4f})')\n",
    "  plt.show()\n",
    "  "
   ]
  },
  {
   "cell_type": "markdown",
   "metadata": {
    "id": "8g_AlpXnf9-7"
   },
   "source": [
    "Let's plot estimators vs z-score.\n",
    "\n",
    "The idea here is that the z-score wouldn't be available when evaluating how faithful an explanation is (you would need to compute the mean and std of a population of possible explanations to compute the z-score), so you need a quick computation that estimates it. People usually do `Qbas`, which is the Q score of the ranking to evaluate minus the Q score of a random ranking. We propose `Qinv` which is the Q score of the ranking to evaluate minus the Q score of the inverse of said ranking (that is, the ranking taken from end to beginning). We wnat to check which of the two is a better estimator."
   ]
  },
  {
   "cell_type": "code",
   "execution_count": null,
   "metadata": {
    "colab": {
     "base_uri": "https://localhost:8080/",
     "height": 545
    },
    "executionInfo": {
     "elapsed": 421,
     "status": "ok",
     "timestamp": 1663925094597,
     "user": {
      "displayName": "Carlos Eiras",
      "userId": "09724819455509685922"
     },
     "user_tz": -120
    },
    "id": "HZr7iV_ye8kK",
    "outputId": "78bc5d6f-9121-488e-e03e-6319ae50325c"
   },
   "outputs": [
    {
     "data": {
      "image/png": "[encoded data removed]",
      "text/plain": [
       "<Figure size 432x288 with 1 Axes>"
      ]
     },
     "metadata": {
      "needs_background": "light"
     },
     "output_type": "display_data"
    },
    {
     "data": {
      "image/png": "[encoded data removed]",
      "text/plain": [
       "<Figure size 432x288 with 1 Axes>"
      ]
     },
     "metadata": {
      "needs_background": "light"
     },
     "output_type": "display_data"
    }
   ],
   "source": [
    "plt.scatter(zscores, qbas_estimations)\n",
    "plt.title('Qbas estimating Z-score')\n",
    "plt.show()\n",
    "\n",
    "plt.scatter(zscores, qinv_estimations)\n",
    "plt.title('Qinv estimating Z-score')\n",
    "plt.show()"
   ]
  },
  {
   "cell_type": "markdown",
   "metadata": {
    "id": "cOJs2w2HfUwy"
   },
   "source": [
    "It seems Qinv does a better job at estimating the Z-score. Let's check with a larger sample size."
   ]
  },
  {
   "cell_type": "code",
   "execution_count": null,
   "metadata": {
    "colab": {
     "base_uri": "https://localhost:8080/"
    },
    "executionInfo": {
     "elapsed": 372862,
     "status": "ok",
     "timestamp": 1663925467449,
     "user": {
      "displayName": "Carlos Eiras",
      "userId": "09724819455509685922"
     },
     "user_tz": -120
    },
    "id": "qzPtq7PbfeCr",
    "outputId": "2ca02c06-4ee0-4395-faec-7228853a55cb"
   },
   "outputs": [
    {
     "name": "stderr",
     "output_type": "stream",
     "text": [
      "100%|██████████| 100000/100000 [06:10<00:00, 270.25it/s]\n"
     ]
    }
   ],
   "source": [
    "# Do a 80/20 train-test split\n",
    "random_indices = np.random.permutation(rankings.shape[0])\n",
    "num_training = int(random_indices.size*0.8)\n",
    "train_indices = random_indices[:num_training]\n",
    "test_indices = random_indices[num_training:]\n",
    "\n",
    "# Load rankings\n",
    "rankings_train = rankings[train_indices]\n",
    "rankings_test = rankings[test_indices]\n",
    "# Load precomputed data for those rankings\n",
    "measures_train = measures[train_indices]\n",
    "measures_test = measures[test_indices]\n",
    "measures_with_inverse_test = measures_with_inverse[test_indices]\n",
    "\n",
    "# Compute the train distribution parameters that will allow the ground-truth z-score calculation\n",
    "avg_q_train = np.mean(measures_train)\n",
    "std_q_train = np.std(measures_train)\n",
    "\n",
    "# Now we need to compute a bunch of random curve q-scores to compute qbas. Also, we compute the z-scores.\n",
    "from tqdm import tqdm\n",
    "qbas_test = np.zeros(measures_test.size)\n",
    "zscores = np.zeros(measures_test.size)\n",
    "for i in tqdm(range(measures_test.size)):\n",
    "  random_curve,random_is_hit = get_explanation_exploratory_curve(torch.from_numpy(image), get_random_ranking_image(image.shape), num_samples, label, network)\n",
    "  qbas_test[i] = measures_test[i] - measure_curve(random_curve)\n",
    "  zscores[i] = (measures_test[i]-avg_q_train)/std_q_train"
   ]
  },
  {
   "cell_type": "code",
   "execution_count": null,
   "metadata": {
    "colab": {
     "base_uri": "https://localhost:8080/",
     "height": 581
    },
    "executionInfo": {
     "elapsed": 729,
     "status": "ok",
     "timestamp": 1663925468164,
     "user": {
      "displayName": "Carlos Eiras",
      "userId": "09724819455509685922"
     },
     "user_tz": -120
    },
    "id": "LImKmgRDlo9Z",
    "outputId": "1ce6b40f-baa9-42e6-9e1f-5d86ca45cf9e"
   },
   "outputs": [
    {
     "name": "stdout",
     "output_type": "stream",
     "text": [
      "Pearson correlation z-score vs qbas:0.7739576093380689\n"
     ]
    },
    {
     "data": {
      "image/png": "[encoded data removed]",
      "text/plain": [
       "<Figure size 432x288 with 1 Axes>"
      ]
     },
     "metadata": {
      "needs_background": "light"
     },
     "output_type": "display_data"
    },
    {
     "name": "stdout",
     "output_type": "stream",
     "text": [
      "Pearson correlation z-score vs qinv:0.8773855616478032\n"
     ]
    },
    {
     "data": {
      "image/png": "[encoded data removed]",
      "text/plain": [
       "<Figure size 432x288 with 1 Axes>"
      ]
     },
     "metadata": {
      "needs_background": "light"
     },
     "output_type": "display_data"
    }
   ],
   "source": [
    "# Now plot the estimations\n",
    "print(f'Pearson correlation z-score vs qbas:{np.corrcoef(zscores,qbas_test)[0][1]}')\n",
    "plt.scatter(zscores, qbas_test)\n",
    "plt.title('Qbas estimating Z-score')\n",
    "plt.show()\n",
    "\n",
    "print(f'Pearson correlation z-score vs qinv:{np.corrcoef(zscores,measures_with_inverse_test)[0][1]}')\n",
    "plt.scatter(zscores, measures_with_inverse_test)\n",
    "plt.title('Qinv estimating Z-score')\n",
    "plt.show()"
   ]
  },
  {
   "cell_type": "markdown",
   "metadata": {
    "id": "YjSZOtoQlYTS"
   },
   "source": [
    "For random rankings, the difference does not look too large.\n",
    "\n",
    "Let's try with rankings that are better than average (generated with the genetic algorithm)."
   ]
  },
  {
   "cell_type": "code",
   "execution_count": null,
   "metadata": {
    "id": "urO66HAsoYM4"
   },
   "outputs": [],
   "source": [
    "'''del(rankings)\n",
    "del(plots)\n",
    "del(inverse_plots)\n",
    "del(hit_plots)\n",
    "del(inverse_hit_plots)\n",
    "del(measures)\n",
    "del(measures_with_inverse)\n",
    "del(rankings_train)\n",
    "del(rankings_test)\n",
    "del(measures_train)\n",
    "del(measures_test)\n",
    "del(measures_with_inverse_test)\n",
    "'''\n",
    "FILENAME = PATH_DIR + 'genetic_generated.npz'\n",
    "data_g = np.load(FILENAME)\n",
    "\n",
    "image_g = data_g['arr_0']\n",
    "label_g = data_g['arr_1']\n",
    "rankings_g = data_g['arr_2']\n",
    "plots_g = data_g['arr_3']\n",
    "inverse_plots_g = data_g['arr_4']\n",
    "hit_plots_g = data_g['arr_5']\n",
    "inverse_hit_plots_g = data_g['arr_6']\n",
    "measures_g = data_g['arr_7']\n",
    "measures_with_inverse_g = data_g['arr_8']"
   ]
  },
  {
   "cell_type": "code",
   "execution_count": null,
   "metadata": {
    "id": "08uS-G1jsSoB"
   },
   "outputs": [],
   "source": [
    "# Just in case the data doesn't correspond to the same image\n",
    "assert(np.equal(image,image_g).all())\n",
    "assert(label==label_g)"
   ]
  },
  {
   "cell_type": "code",
   "execution_count": null,
   "metadata": {
    "colab": {
     "base_uri": "https://localhost:8080/"
    },
    "executionInfo": {
     "elapsed": 1794356,
     "status": "ok",
     "timestamp": 1663930432312,
     "user": {
      "displayName": "Carlos Eiras",
      "userId": "09724819455509685922"
     },
     "user_tz": -120
    },
    "id": "eJyVhQsgsk0n",
    "outputId": "2b2f7f77-455c-4438-923d-0f91c2ae2248"
   },
   "outputs": [
    {
     "name": "stderr",
     "output_type": "stream",
     "text": [
      "100%|██████████| 500000/500000 [29:54<00:00, 278.69it/s]\n"
     ]
    }
   ],
   "source": [
    "qbas_gen = np.zeros(measures_g.size)\n",
    "zscores_gen = np.zeros(measures_g.size)\n",
    "for i in tqdm(range(measures_g.size)):\n",
    "  random_curve,random_is_hit = get_explanation_exploratory_curve(torch.from_numpy(image), get_random_ranking_image(image.shape), num_samples, label, network)\n",
    "  qbas_gen[i] = measures_g[i] - measure_curve(random_curve)\n",
    "  zscores_gen[i] = (measures_g[i]-avg_q_train)/std_q_train"
   ]
  },
  {
   "cell_type": "code",
   "execution_count": null,
   "metadata": {
    "colab": {
     "base_uri": "https://localhost:8080/",
     "height": 581
    },
    "executionInfo": {
     "elapsed": 2704,
     "status": "ok",
     "timestamp": 1663930442053,
     "user": {
      "displayName": "Carlos Eiras",
      "userId": "09724819455509685922"
     },
     "user_tz": -120
    },
    "id": "P-dl0uva01It",
    "outputId": "f5e40589-fe4b-4a74-9c12-c2bdc7107857"
   },
   "outputs": [
    {
     "name": "stdout",
     "output_type": "stream",
     "text": [
      "Pearson correlation z-score vs qbas:0.7959360294434469\n"
     ]
    },
    {
     "data": {
      "image/png": "[encoded data removed]",
      "text/plain": [
       "<Figure size 432x288 with 1 Axes>"
      ]
     },
     "metadata": {
      "needs_background": "light"
     },
     "output_type": "display_data"
    },
    {
     "name": "stdout",
     "output_type": "stream",
     "text": [
      "Pearson correlation z-score vs qinv:0.9549560678404869\n"
     ]
    },
    {
     "data": {
      "image/png": "[encoded data removed]",
      "text/plain": [
       "<Figure size 432x288 with 1 Axes>"
      ]
     },
     "metadata": {
      "needs_background": "light"
     },
     "output_type": "display_data"
    }
   ],
   "source": [
    "# Now plot the estimations\n",
    "print(f'Pearson correlation z-score vs qbas:{np.corrcoef(zscores_gen,qbas_gen)[0][1]}')\n",
    "plt.scatter(zscores_gen, qbas_gen)\n",
    "plt.title('Qbas estimating Z-score')\n",
    "plt.show()\n",
    "\n",
    "print(f'Pearson correlation z-score vs qinv:{np.corrcoef(zscores_gen,measures_with_inverse_g)[0][1]}')\n",
    "plt.scatter(zscores_gen, measures_with_inverse_g)\n",
    "plt.title('Qinv estimating Z-score')\n",
    "plt.show()"
   ]
  },
  {
   "cell_type": "code",
   "execution_count": null,
   "metadata": {
    "colab": {
     "base_uri": "https://localhost:8080/",
     "height": 513
    },
    "executionInfo": {
     "elapsed": 984,
     "status": "ok",
     "timestamp": 1663930458495,
     "user": {
      "displayName": "Carlos Eiras",
      "userId": "09724819455509685922"
     },
     "user_tz": -120
    },
    "id": "2iypNBIA251i",
    "outputId": "2892c02f-c36c-4eac-fae2-446786735002"
   },
   "outputs": [
    {
     "data": {
      "image/png": "[encoded data removed]",
      "text/plain": [
       "<Figure size 432x288 with 1 Axes>"
      ]
     },
     "metadata": {
      "needs_background": "light"
     },
     "output_type": "display_data"
    },
    {
     "data": {
      "image/png": "[encoded data removed]",
      "text/plain": [
       "<Figure size 432x288 with 1 Axes>"
      ]
     },
     "metadata": {
      "needs_background": "light"
     },
     "output_type": "display_data"
    }
   ],
   "source": [
    "errors = np.abs(zscores_gen-measures_with_inverse_g)\n",
    "plt.plot(errors)\n",
    "plt.show()\n",
    "\n",
    "plt.plot(measures_g)\n",
    "plt.show()"
   ]
  },
  {
   "cell_type": "code",
   "execution_count": null,
   "metadata": {
    "colab": {
     "base_uri": "https://localhost:8080/"
    },
    "executionInfo": {
     "elapsed": 214,
     "status": "ok",
     "timestamp": 1663928533343,
     "user": {
      "displayName": "Carlos Eiras",
      "userId": "09724819455509685922"
     },
     "user_tz": -120
    },
    "id": "avMC57__3chj",
    "outputId": "2fa9ef49-0413-4314-a9fe-94b7d76a6d7f"
   },
   "outputs": [
    {
     "name": "stdout",
     "output_type": "stream",
     "text": [
      "-1.1775443725052883\n",
      "-1.2093183077070824\n",
      "-1.1647272397570325\n"
     ]
    }
   ],
   "source": [
    "print(np.mean(measures_g[:100]))\n",
    "print(np.mean(measures_g[200000:200100]))\n",
    "print(np.mean(measures_g))"
   ]
  }
 ],
 "metadata": {
  "accelerator": "GPU",
  "colab": {
   "collapsed_sections": [],
   "provenance": []
  },
  "gpuClass": "standard",
  "kernelspec": {
   "display_name": "Python 3 (ipykernel)",
   "language": "python",
   "name": "python3"
  },
  "language_info": {
   "codemirror_mode": {
    "name": "ipython",
    "version": 3
   },
   "file_extension": ".py",
   "mimetype": "text/x-python",
   "name": "python",
   "nbconvert_exporter": "python",
   "pygments_lexer": "ipython3",
   "version": "3.10.8"
  }
 },
 "nbformat": 4,
 "nbformat_minor": 1
}
