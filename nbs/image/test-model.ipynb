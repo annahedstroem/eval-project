{
 "cells": [
  {
   "cell_type": "code",
   "execution_count": 8,
   "id": "34627782-22df-49db-9cd0-fb8063b51cfa",
   "metadata": {},
   "outputs": [
    {
     "name": "stdout",
     "output_type": "stream",
     "text": [
      "Using cuda:0\n"
     ]
    }
   ],
   "source": [
    "# Load library\n",
    "import sys\n",
    "import os\n",
    "PROJ_DIR = os.path.realpath(os.path.dirname(os.path.dirname(os.path.abspath(''))))\n",
    "sys.path.append(os.path.join(PROJ_DIR,'src'))\n",
    "\n",
    "import xai_faithfulness_experiments_lib_edits as ff\n",
    "import numpy as np\n",
    "\n",
    "import torch\n",
    "device = torch.device(\"cuda:0\" if torch.cuda.is_available() else \"cpu\")\n",
    "print(f'Using {device}')\n",
    "batch_size = 256"
   ]
  },
  {
   "cell_type": "code",
   "execution_count": 9,
   "id": "38972a2f-3bba-4d3f-ba40-12d5cae4b696",
   "metadata": {},
   "outputs": [],
   "source": [
    "test_loader = ff.get_imagenette_train_loader(batch_size, PROJ_DIR)"
   ]
  },
  {
   "cell_type": "code",
   "execution_count": 17,
   "id": "27c5132c-cc82-4869-bde0-a63d22154125",
   "metadata": {},
   "outputs": [
    {
     "name": "stdout",
     "output_type": "stream",
     "text": [
      "Loading Resnet50\n"
     ]
    }
   ],
   "source": [
    "#network = ff.load_pretrained_imagenet_model(arch = 'vgg16')\n",
    "network = ff.load_pretrained_imagenet_model(arch = 'resnet50')"
   ]
  },
  {
   "cell_type": "code",
   "execution_count": 18,
   "id": "d8102b5a-4254-4ac4-89d8-0176805d9bc9",
   "metadata": {},
   "outputs": [
    {
     "name": "stderr",
     "output_type": "stream",
     "text": [
      "100%|███████████████████████████████████████████| 37/37 [00:20<00:00,  1.79it/s]"
     ]
    },
    {
     "name": "stdout",
     "output_type": "stream",
     "text": [
      "Accuracy: 81.05396557186609%\n"
     ]
    },
    {
     "name": "stderr",
     "output_type": "stream",
     "text": [
      "\n"
     ]
    }
   ],
   "source": [
    "from tqdm import tqdm\n",
    "\n",
    "total_hits = 0\n",
    "num_elems = 0\n",
    "\n",
    "for x_test, y_test in tqdm(test_loader):\n",
    "    x_test = x_test.to(device)\n",
    "    y_test = y_test.to(device)\n",
    "    pred = network(x_test).argmax(dim=1)\n",
    "    total_hits += (pred==y_test).sum().detach().item()\n",
    "    num_elems += x_test.shape[0]\n",
    "\n",
    "print(f'Accuracy: {100*total_hits/num_elems}%')\n",
    "    "
   ]
  },
  {
   "cell_type": "code",
   "execution_count": null,
   "id": "94fd99e1-6525-4bdd-a0a5-2ebe35b3990c",
   "metadata": {},
   "outputs": [],
   "source": []
  }
 ],
 "metadata": {
  "kernelspec": {
   "display_name": "Python 3 (ipykernel)",
   "language": "python",
   "name": "python3"
  },
  "language_info": {
   "codemirror_mode": {
    "name": "ipython",
    "version": 3
   },
   "file_extension": ".py",
   "mimetype": "text/x-python",
   "name": "python",
   "nbconvert_exporter": "python",
   "pygments_lexer": "ipython3",
   "version": "3.11.5"
  }
 },
 "nbformat": 4,
 "nbformat_minor": 5
}
