{
 "cells": [
  {
   "cell_type": "code",
   "execution_count": 1,
   "id": "2a2a87bd-f32b-4a02-85b0-ab3c182a2c3b",
   "metadata": {},
   "outputs": [],
   "source": [
    "# Load library\n",
    "import sys\n",
    "import os\n",
    "PROJ_DIR = os.path.realpath(os.path.dirname(os.path.dirname(os.path.abspath(''))))\n",
    "sys.path.append(os.path.join(PROJ_DIR,'src'))\n",
    "\n",
    "import xai_faithfulness_experiments_lib_edits as ff\n",
    "import numpy as np"
   ]
  },
  {
   "cell_type": "code",
   "execution_count": 18,
   "id": "2e320534-158a-402d-b392-1aed8fe94c66",
   "metadata": {},
   "outputs": [],
   "source": [
    "DATASET = 'mnist'\n",
    "SAMPLE_NUM = 50\n",
    "MODEL_NAME = 'softmax'\n",
    "GENERATION = '_genetic'\n",
    "\n",
    "# Load data\n",
    "data = ff.load_generated_data(os.path.join(PROJ_DIR, 'results', f'{DATASET}_{SAMPLE_NUM}_{MODEL_NAME}{GENERATION}_measures.npz'))\n",
    "qmeans = data['qmeans']"
   ]
  },
  {
   "cell_type": "code",
   "execution_count": 19,
   "id": "71c88675-2cff-4f6b-90da-c326f1067d0e",
   "metadata": {},
   "outputs": [
    {
     "name": "stdout",
     "output_type": "stream",
     "text": [
      "0.84850603\n",
      "(10000, 1)\n"
     ]
    }
   ],
   "source": [
    "print(np.mean(qmeans))\n",
    "print(qmeans.shape)"
   ]
  },
  {
   "cell_type": "code",
   "execution_count": 20,
   "id": "bc06efcd-55e8-4cdc-9062-de1394d6c5b6",
   "metadata": {},
   "outputs": [],
   "source": [
    "GENERATION = ''\n",
    "\n",
    "# Load data\n",
    "data_reference = ff.load_generated_data(os.path.join(PROJ_DIR, 'results', f'{DATASET}_{SAMPLE_NUM}_{MODEL_NAME}{GENERATION}_measures.npz'))\n",
    "qmeans_reference = data_reference['qmeans']"
   ]
  },
  {
   "cell_type": "code",
   "execution_count": 21,
   "id": "c2a837a2-f091-4ed6-9873-8ec4f59e5962",
   "metadata": {},
   "outputs": [
    {
     "name": "stdout",
     "output_type": "stream",
     "text": [
      "0.7393527\n",
      "(10000, 1)\n"
     ]
    }
   ],
   "source": [
    "print(np.mean(qmeans_reference))\n",
    "print(qmeans_reference.shape)"
   ]
  },
  {
   "cell_type": "code",
   "execution_count": 94,
   "id": "c67369d2-2b88-49c9-9ce8-658fac878834",
   "metadata": {},
   "outputs": [
    {
     "name": "stdout",
     "output_type": "stream",
     "text": [
      "Using cuda:0\n"
     ]
    }
   ],
   "source": [
    "# Load dataset\n",
    "import torch\n",
    "import torchvision\n",
    "\n",
    "batch_size = 256\n",
    "\n",
    "MNIST_PATH = os.path.join(PROJ_DIR, 'data', 'mnist')\n",
    "\n",
    "train_loader = torch.utils.data.DataLoader(\n",
    "torchvision.datasets.MNIST(MNIST_PATH, train=True, download=True,\n",
    "                            transform=torchvision.transforms.Compose([\n",
    "                            torchvision.transforms.ToTensor(),\n",
    "                            torchvision.transforms.Normalize(\n",
    "                                (0.1307,), (0.3081,))\n",
    "                            ])),\n",
    "batch_size=batch_size, shuffle=True)\n",
    "\n",
    "examples = enumerate(train_loader)\n",
    "batch_idx, (x_train, y_train) = next(examples)\n",
    "\n",
    "row = x_train[SAMPLE_NUM].clone().detach().to(device)\n",
    "label = y_train[SAMPLE_NUM].clone().detach().to(device)\n",
    "\n",
    "# Load model\n",
    "MODEL_PATH = os.path.join(PROJ_DIR,'assets', 'models', f'{DATASET}-{MODEL_NAME}-mlp.pth')\n",
    "import torch\n",
    "device = torch.device(\"cuda:0\" if torch.cuda.is_available() else \"cpu\")\n",
    "print(f'Using {device}')\n",
    "network = ff.load_pretrained_mnist_model(MODEL_PATH)\n"
   ]
  },
  {
   "cell_type": "code",
   "execution_count": 95,
   "id": "2c420495-4e47-4aae-834a-988cd2afeb81",
   "metadata": {},
   "outputs": [
    {
     "name": "stderr",
     "output_type": "stream",
     "text": [
      "100%|███████████████████████████████████| 14000/14000 [00:06<00:00, 2089.79it/s]\n"
     ]
    },
    {
     "name": "stdout",
     "output_type": "stream",
     "text": [
      "1/1 - Avg. fitness 0.5607939958572388\n"
     ]
    }
   ],
   "source": [
    "import genetic_generator as gg\n",
    "num_rankings = qmeans.shape[0]\n",
    "INPUT_SHAPE = row.shape\n",
    "NUM_SAMPLES = 20\n",
    "masking_values = torch.from_numpy(np.zeros(x_train.shape[1:])).float().to(device)\n",
    "# Genetically optimized\n",
    "def fitness(ranking:np.ndarray) -> float:\n",
    "    measures = ff.get_measures_for_ranking(row, torch.tensor(ranking, dtype=torch.float32).to(device), label, network, num_samples=NUM_SAMPLES, with_inverse=False, with_random=False, masking_values=masking_values)\n",
    "    return measures['mean']\n",
    "all_rankings = gg.generate_rankings(num_rankings, INPUT_SHAPE, fitness, num_iterations = 1)"
   ]
  },
  {
   "cell_type": "code",
   "execution_count": 96,
   "id": "ea905340-d374-4309-afac-2c6145c9da6f",
   "metadata": {},
   "outputs": [
    {
     "name": "stderr",
     "output_type": "stream",
     "text": [
      "100%|███████████████████████████████████| 10000/10000 [00:04<00:00, 2043.21it/s]\n"
     ]
    },
    {
     "data": {
      "text/plain": [
       "0.5617121496349573"
      ]
     },
     "execution_count": 96,
     "metadata": {},
     "output_type": "execute_result"
    }
   ],
   "source": [
    "from tqdm import tqdm\n",
    "random_means = np.zeros(num_rankings) # To be randomly generated on the first loop\n",
    "for i in tqdm(range(num_rankings)):\n",
    "    random_means[i] = fitness(ff._get_random_ranking_row(row.shape).cpu().numpy()) # Random generation\n",
    "np.mean(random_means)"
   ]
  },
  {
   "cell_type": "code",
   "execution_count": null,
   "id": "a2f0f07f-880b-4882-a25d-8c5030e160b8",
   "metadata": {},
   "outputs": [],
   "source": []
  }
 ],
 "metadata": {
  "kernelspec": {
   "display_name": "Python 3 (ipykernel)",
   "language": "python",
   "name": "python3"
  },
  "language_info": {
   "codemirror_mode": {
    "name": "ipython",
    "version": 3
   },
   "file_extension": ".py",
   "mimetype": "text/x-python",
   "name": "python",
   "nbconvert_exporter": "python",
   "pygments_lexer": "ipython3",
   "version": "3.11.5"
  }
 },
 "nbformat": 4,
 "nbformat_minor": 5
}
