{
 "cells": [
  {
   "cell_type": "code",
   "execution_count": 1,
   "id": "e05f878c-8c4b-4099-8899-e00a367e1011",
   "metadata": {},
   "outputs": [
    {
     "name": "stdout",
     "output_type": "stream",
     "text": [
      "Using cuda:0\n",
      "Loading Resnet18\n"
     ]
    }
   ],
   "source": [
    "# Import the necessary libraries\n",
    "import sys\n",
    "import os\n",
    "PROJ_DIR = os.path.realpath(os.path.dirname(os.path.abspath('')))\n",
    "sys.path.append(os.path.join(PROJ_DIR,'src'))\n",
    "import xai_faithfulness_experiments_lib_edits as fl\n",
    "import numpy as np\n",
    "import captum_generator as cg\n",
    "import torch\n",
    "device = torch.device(\"cuda:0\" if torch.cuda.is_available() else \"cpu\")\n",
    "print(f'Using {device}')\n",
    "\n",
    "METHOD_NAMES = ['Saliency', 'IntegratedGradients', 'InputXGradient', 'GuidedBackprop', 'Deconvolution', 'LayerGradCam', 'GuidedGradCam']\n",
    "\n",
    "ACTIVATION_THRESHOLD = 0.9\n",
    "Z_SCORE_THRESHOLD = 4\n",
    "DESIRED_EXPLANATIONS = 1000\n",
    "\n",
    "DATASET = 'imagenet'\n",
    "MODEL_NAME = 'resnet18-logits'\n",
    "\n",
    "# Load dataset\n",
    "if DATASET == '20newsgroups-truncated':\n",
    "    DATASET_PATH = os.path.join(PROJ_DIR,'assets', 'data', f'{DATASET}.npz')\n",
    "    # Load dataset\n",
    "    file_data = np.load(DATASET_PATH)\n",
    "    x_train = torch.from_numpy(file_data['x_train']).float().to(device)\n",
    "    y_train = torch.from_numpy(file_data['y_train']).to(device)\n",
    "    test_loader = [(x_train, y_train)]\n",
    "else:\n",
    "    #torch.manual_seed(0)\n",
    "    test_loader = fl.get_image_test_loader(DATASET, 1000, PROJ_DIR, shuffle = True)\n",
    "\n",
    "\n",
    "# Load model\n",
    "if DATASET == 'imagenet':\n",
    "    network = fl.load_pretrained_imagenet_model(arch = MODEL_NAME.replace('-logits', ''), use_logits = '-logits' in MODEL_NAME)\n",
    "    DATA_MEAN = [0.485, 0.456, 0.406]\n",
    "    DATA_STD = [0.229, 0.224, 0.225]\n",
    "elif DATASET == 'mnist':\n",
    "    MODEL_PATH = os.path.join(PROJ_DIR,'assets', 'models', f'{DATASET}-{MODEL_NAME}-mlp.pth')\n",
    "    network = fl.load_pretrained_mnist_model(MODEL_PATH)\n",
    "    DATA_MEAN = [0.1307]\n",
    "    DATA_STD = [0.3081]\n",
    "elif DATASET == 'cifar':\n",
    "    MODEL_PATH = os.path.join(PROJ_DIR,'assets', 'models', f'{DATASET}-{MODEL_NAME}-mlp.pth')\n",
    "    network = fl.load_pretrained_cifar_model(MODEL_PATH)\n",
    "elif DATASET == '20newsgroups-truncated':\n",
    "    MODEL_PATH = os.path.join(PROJ_DIR,'assets', 'models', f'{DATASET}{MODEL_NAME}-mlp.pth')\n",
    "    network = fl.load_pretrained_mlp_large_model(MODEL_PATH, x_train.shape[1], 20, [1000, 1000, 800, 500])\n",
    "    DATA_MEAN = [0.2675, 0.2565, 0.2761]\n",
    "    DATA_STD = [0.5071, 0.4867, 0.4408]\n",
    "else:\n",
    "    raise Exception(f'ERROR: Unknown dataset {DATASET}')"
   ]
  },
  {
   "cell_type": "code",
   "execution_count": 2,
   "id": "f9137854-e774-4903-89c4-132da7b1c855",
   "metadata": {},
   "outputs": [
    {
     "name": "stdout",
     "output_type": "stream",
     "text": [
      "Loaded batch  0\n"
     ]
    },
    {
     "name": "stderr",
     "output_type": "stream",
     "text": [
      "/home/eirasf/miniconda3/envs/xai-anna/lib/python3.11/site-packages/captum/_utils/gradient.py:57: UserWarning: Input Tensor 0 did not already require gradients, required_grads has been set automatically.\n",
      "  warnings.warn(\n",
      "/home/eirasf/miniconda3/envs/xai-anna/lib/python3.11/site-packages/captum/attr/_core/guided_backprop_deconvnet.py:64: UserWarning: Setting backward hooks on ReLU activations.The hooks will be removed after the attribution is finished\n",
      "  warnings.warn(\n"
     ]
    },
    {
     "name": "stdout",
     "output_type": "stream",
     "text": [
      "1/1000\n",
      "2/1000\n",
      "3/1000\n",
      "4/1000\n"
     ]
    },
    {
     "ename": "KeyboardInterrupt",
     "evalue": "",
     "output_type": "error",
     "traceback": [
      "\u001b[0;31m---------------------------------------------------------------------------\u001b[0m",
      "\u001b[0;31mKeyboardInterrupt\u001b[0m                         Traceback (most recent call last)",
      "Cell \u001b[0;32mIn[2], line 44\u001b[0m\n\u001b[1;32m     41\u001b[0m qmean_std \u001b[38;5;241m=\u001b[39m np\u001b[38;5;241m.\u001b[39mstd(qmeans)\n\u001b[1;32m     43\u001b[0m \u001b[38;5;66;03m#Grab captum generated explanations and check their z-index\u001b[39;00m\n\u001b[0;32m---> 44\u001b[0m captum_rankings \u001b[38;5;241m=\u001b[39m torch\u001b[38;5;241m.\u001b[39mtensor(\u001b[43mcg\u001b[49m\u001b[38;5;241;43m.\u001b[39;49m\u001b[43mgenerate_rankings\u001b[49m\u001b[43m(\u001b[49m\u001b[43mrow\u001b[49m\u001b[43m,\u001b[49m\u001b[43m \u001b[49m\u001b[43mlabel\u001b[49m\u001b[43m,\u001b[49m\u001b[43m \u001b[49m\u001b[43mnetwork\u001b[49m\u001b[43m)\u001b[49m)\u001b[38;5;241m.\u001b[39mto(device)\n\u001b[1;32m     45\u001b[0m \u001b[38;5;28;01mfor\u001b[39;00m method_index, ranking \u001b[38;5;129;01min\u001b[39;00m \u001b[38;5;28menumerate\u001b[39m(captum_rankings):\n\u001b[1;32m     46\u001b[0m     measures \u001b[38;5;241m=\u001b[39m fl\u001b[38;5;241m.\u001b[39mget_measures_for_ranking(row, ranking, label, network, with_inverse\u001b[38;5;241m=\u001b[39m\u001b[38;5;28;01mFalse\u001b[39;00m, with_random\u001b[38;5;241m=\u001b[39m\u001b[38;5;28;01mFalse\u001b[39;00m, masking_values\u001b[38;5;241m=\u001b[39mmasking_values)\n",
      "File \u001b[0;32m~/Escritorio/eval-project/src/captum_generator.py:48\u001b[0m, in \u001b[0;36mgenerate_rankings\u001b[0;34m(row, label, model)\u001b[0m\n\u001b[1;32m     45\u001b[0m     explanation \u001b[38;5;241m=\u001b[39m explanation\u001b[38;5;241m.\u001b[39msqueeze()\n\u001b[1;32m     46\u001b[0m     attributions\u001b[38;5;241m.\u001b[39mappend(explanation\u001b[38;5;241m.\u001b[39mdetach()\u001b[38;5;241m.\u001b[39mcpu()\u001b[38;5;241m.\u001b[39mnumpy())\n\u001b[0;32m---> 48\u001b[0m attributions \u001b[38;5;241m=\u001b[39m \u001b[38;5;28;43mlist\u001b[39;49m\u001b[43m(\u001b[49m\u001b[38;5;28;43mmap\u001b[39;49m\u001b[43m(\u001b[49m\u001b[43m_to_ranking\u001b[49m\u001b[43m,\u001b[49m\u001b[43m \u001b[49m\u001b[43mattributions\u001b[49m\u001b[43m)\u001b[49m\u001b[43m)\u001b[49m\n\u001b[1;32m     50\u001b[0m \u001b[38;5;28;01mreturn\u001b[39;00m np\u001b[38;5;241m.\u001b[39mstack(attributions)\n",
      "File \u001b[0;32m~/Escritorio/eval-project/src/captum_generator.py:14\u001b[0m, in \u001b[0;36m_to_ranking\u001b[0;34m(attributions)\u001b[0m\n\u001b[1;32m     12\u001b[0m original_shape \u001b[38;5;241m=\u001b[39m attributions\u001b[38;5;241m.\u001b[39mshape\n\u001b[1;32m     13\u001b[0m attributions \u001b[38;5;241m=\u001b[39m attributions\u001b[38;5;241m.\u001b[39mflatten()\n\u001b[0;32m---> 14\u001b[0m ranking \u001b[38;5;241m=\u001b[39m \u001b[43mfl\u001b[49m\u001b[38;5;241;43m.\u001b[39;49m\u001b[43m_attributions_to_ranking_row\u001b[49m\u001b[43m(\u001b[49m\u001b[43mattributions\u001b[49m\u001b[43m,\u001b[49m\u001b[43m \u001b[49m\u001b[43mreverse\u001b[49m\u001b[38;5;241;43m=\u001b[39;49m\u001b[38;5;28;43;01mTrue\u001b[39;49;00m\u001b[43m)\u001b[49m\n\u001b[1;32m     15\u001b[0m ranking \u001b[38;5;241m=\u001b[39m ranking\u001b[38;5;241m.\u001b[39mreshape(original_shape)\n\u001b[1;32m     16\u001b[0m \u001b[38;5;28;01mreturn\u001b[39;00m ranking\n",
      "File \u001b[0;32m~/Escritorio/eval-project/src/xai_faithfulness_experiments_lib_edits.py:433\u001b[0m, in \u001b[0;36m_attributions_to_ranking_row\u001b[0;34m(attributions, reverse)\u001b[0m\n\u001b[1;32m    431\u001b[0m \u001b[38;5;28;01mfor\u001b[39;00m i \u001b[38;5;129;01min\u001b[39;00m \u001b[38;5;28mrange\u001b[39m(num_attributes):\n\u001b[1;32m    432\u001b[0m     x \u001b[38;5;241m=\u001b[39m \u001b[38;5;28mint\u001b[39m(ranked_attributions[i][\u001b[38;5;241m0\u001b[39m])\n\u001b[0;32m--> 433\u001b[0m     ranking_row[x] \u001b[38;5;241m=\u001b[39m i\u001b[38;5;241m/\u001b[39m(num_attributes\u001b[38;5;241m-\u001b[39m\u001b[38;5;241m1\u001b[39m)\n\u001b[1;32m    434\u001b[0m \u001b[38;5;28;01mreturn\u001b[39;00m ranking_row\n",
      "\u001b[0;31mKeyboardInterrupt\u001b[0m: "
     ]
    }
   ],
   "source": [
    "import pickle\n",
    "\n",
    "FILENAME = f'{DATASET}_{MODEL_NAME}_noise_exceptionals.pkl'\n",
    "\n",
    "if os.path.isfile(os.path.join(PROJ_DIR, 'results', FILENAME)):\n",
    "    with open(os.path.join(PROJ_DIR, 'results', FILENAME), 'rb') as fIn:\n",
    "        results = pickle.load(fIn)\n",
    "else:\n",
    "    # The mean is zero because this dataset is standardized\n",
    "    num_vars = None\n",
    "    masking_values = None\n",
    "\n",
    "    with torch.no_grad():\n",
    "        valid_elements = []\n",
    "\n",
    "        for batch_idx, (x_train, y_train) in enumerate(test_loader):\n",
    "            print(f'Loaded batch  {batch_idx}')\n",
    "            if masking_values is None:\n",
    "                masking_values = torch.from_numpy(np.zeros(x_train.shape[1:])).float().to(device)\n",
    "                num_vars  = 1\n",
    "                for d in x_train.shape[1:]:\n",
    "                    num_vars *= d\n",
    "                num_samples = min(fl.NUM_SAMPLES, num_vars)\n",
    "                input_shape = x_train.shape[1:]\n",
    "            # Find elements from the batch that activate the network enough\n",
    "            outputs = network(x_train.to(device))\n",
    "            activated_indices = (outputs[torch.arange(x_train.shape[0]), y_train]>ACTIVATION_THRESHOLD).nonzero().flatten()\n",
    "\n",
    "            for i, sample_index in enumerate(activated_indices):\n",
    "                if (i+1) % 10 == 0:\n",
    "                    print(f' Exploring activating sample {i+1}/{activated_indices.size()[0]}')\n",
    "                row = x_train[sample_index.item()].to(device)\n",
    "                label = y_train[sample_index.item()].to(device)\n",
    "            \n",
    "                #Compute 100 random rankings to compute the average q\n",
    "                qmeans = []\n",
    "                for _ in range(100):\n",
    "                    measures = fl.get_measures_for_ranking(row, fl._get_random_ranking_row(row.shape), label, network, with_inverse=False, with_random=False, masking_values=masking_values)\n",
    "                    qmeans.append(measures['mean'])\n",
    "                qmean_mean = np.mean(qmeans)\n",
    "                qmean_std = np.std(qmeans)\n",
    "        \n",
    "                #Grab captum generated explanations and check their z-index\n",
    "                captum_rankings = torch.tensor(cg.generate_rankings(row, label, network)).to(device)\n",
    "                for method_index, ranking in enumerate(captum_rankings):\n",
    "                    measures = fl.get_measures_for_ranking(row, ranking, label, network, with_inverse=False, with_random=False, masking_values=masking_values)\n",
    "                    zscore = (measures['mean'] -  qmean_mean) /  qmean_std\n",
    "                    if zscore > 4:\n",
    "                        valid_elements.append({'row': row,\\\n",
    "                                            'ranking': ranking,\\\n",
    "                                            'label': label,\\\n",
    "                                            'qmean_mean': qmean_mean,\\\n",
    "                                            'qmean_std': qmean_std,\\\n",
    "                                            'method': method_index\n",
    "                                            })\n",
    "                        print(f'{len(valid_elements)}/{DESIRED_EXPLANATIONS}')\n",
    "                        if len(valid_elements) >= DESIRED_EXPLANATIONS:\n",
    "                            break\n",
    "                if len(valid_elements) >= DESIRED_EXPLANATIONS:\n",
    "                    break\n",
    "\n",
    "    results = []\n",
    "    for v in valid_elements:\n",
    "        row  = v['row']\n",
    "        ranking = v['ranking']\n",
    "        label = v['label']\n",
    "        measures = fl.get_measures_for_ranking(row, ranking, label, network, with_inverse=True, with_random=True, masking_values=masking_values)\n",
    "        v['qmean'] = measures['mean']\n",
    "        v['qinv'] = measures['mean_inv']\n",
    "        v['qbas'] = measures['mean_bas']\n",
    "        results.append(v)\n",
    "    with open(os.path.join(PROJ_DIR, 'results', FILENAME), 'wb') as fOut:\n",
    "        pickle.dump(results, fOut)\n",
    "                "
   ]
  },
  {
   "cell_type": "code",
   "execution_count": 5,
   "id": "2096caec-4adf-4e7c-adb9-e767d6d31355",
   "metadata": {},
   "outputs": [
    {
     "name": "stdout",
     "output_type": "stream",
     "text": [
      "0.5489219676084859\n"
     ]
    },
    {
     "data": {
      "image/png": "[encoded data removed]",
      "text/plain": [
       "<Figure size 640x480 with 1 Axes>"
      ]
     },
     "metadata": {},
     "output_type": "display_data"
    },
    {
     "name": "stdout",
     "output_type": "stream",
     "text": [
      "0.8785466609190559\n"
     ]
    },
    {
     "data": {
      "image/png": "[encoded data removed]",
      "text/plain": [
       "<Figure size 640x480 with 1 Axes>"
      ]
     },
     "metadata": {},
     "output_type": "display_data"
    }
   ],
   "source": [
    "#filtered = [x for x in results if x['qmean']>0.5]\n",
    "filtered = results\n",
    "#filtered = [x for x in results if x['method']==5]\n",
    "\n",
    "from scipy.stats import spearmanr\n",
    "from matplotlib import pyplot as plt\n",
    "zindices = list(map(lambda x: (x['qmean']-x['qmean_mean'])/x['qmean_std'], filtered))\n",
    "#zindices = list(map(lambda x: x['qmean'], filtered))\n",
    "qinv = list(map(lambda x: x['qinv'], filtered))\n",
    "qbas = list(map(lambda x: x['qbas'], filtered))\n",
    "\n",
    "print(spearmanr(zindices, qinv).statistic)\n",
    "plt.scatter(zindices,  qinv, s=0.1)\n",
    "plt.show()\n",
    "print(spearmanr(zindices, qbas).statistic)\n",
    "plt.scatter(zindices,  qbas, s=0.1)\n",
    "plt.show()"
   ]
  },
  {
   "cell_type": "code",
   "execution_count": 11,
   "id": "b73eed52-9a68-4a01-9393-ac7899c1379c",
   "metadata": {},
   "outputs": [
    {
     "data": {
      "image/png": "[encoded data removed]",
      "text/plain": [
       "<Figure size 640x480 with 1 Axes>"
      ]
     },
     "metadata": {},
     "output_type": "display_data"
    }
   ],
   "source": [
    "plt.hist(zindices, bins=100)\n",
    "plt.show()"
   ]
  },
  {
   "cell_type": "code",
   "execution_count": 7,
   "id": "132bff05-c5ff-4c77-9716-68a034098913",
   "metadata": {},
   "outputs": [
    {
     "name": "stdout",
     "output_type": "stream",
     "text": [
      "LayerGradCam\n",
      "dict_keys(['row', 'ranking', 'label', 'qmean_mean', 'qmean_std', 'method', 'qmean', 'qinv', 'qbas'])\n"
     ]
    },
    {
     "ename": "KeyError",
     "evalue": "'inverse_ranking'",
     "output_type": "error",
     "traceback": [
      "\u001b[0;31m---------------------------------------------------------------------------\u001b[0m",
      "\u001b[0;31mKeyError\u001b[0m                                  Traceback (most recent call last)",
      "Cell \u001b[0;32mIn[7], line 16\u001b[0m\n\u001b[1;32m     14\u001b[0m row  \u001b[38;5;241m=\u001b[39m v[\u001b[38;5;124m'\u001b[39m\u001b[38;5;124mrow\u001b[39m\u001b[38;5;124m'\u001b[39m]\n\u001b[1;32m     15\u001b[0m ranking \u001b[38;5;241m=\u001b[39m v[\u001b[38;5;124m'\u001b[39m\u001b[38;5;124mranking\u001b[39m\u001b[38;5;124m'\u001b[39m]\n\u001b[0;32m---> 16\u001b[0m inverse_ranking \u001b[38;5;241m=\u001b[39m \u001b[43mv\u001b[49m\u001b[43m[\u001b[49m\u001b[38;5;124;43m'\u001b[39;49m\u001b[38;5;124;43minverse_ranking\u001b[39;49m\u001b[38;5;124;43m'\u001b[39;49m\u001b[43m]\u001b[49m\n\u001b[1;32m     17\u001b[0m label \u001b[38;5;241m=\u001b[39m v[\u001b[38;5;124m'\u001b[39m\u001b[38;5;124mlabel\u001b[39m\u001b[38;5;124m'\u001b[39m]\n\u001b[1;32m     18\u001b[0m masking_values \u001b[38;5;241m=\u001b[39m torch\u001b[38;5;241m.\u001b[39mfrom_numpy(np\u001b[38;5;241m.\u001b[39mzeros(row\u001b[38;5;241m.\u001b[39mshape))\u001b[38;5;241m.\u001b[39mfloat()\u001b[38;5;241m.\u001b[39mto(device)\n",
      "\u001b[0;31mKeyError\u001b[0m: 'inverse_ranking'"
     ]
    }
   ],
   "source": [
    "NUM_ELEMS = 5\n",
    "NUM_CURVES = 10\n",
    "\n",
    "#indices = torch.tensor(qinv).topk(NUM_ELEMS, largest=True).indices\n",
    "indices = torch.tensor(zindices).topk(NUM_ELEMS, largest=True).indices\n",
    "\n",
    "data_std_tensor = torch.tensor(np.reshape(DATA_STD, (3,1,1))).to(device)\n",
    "data_mean_tensor = torch.tensor(np.reshape(DATA_MEAN, (3,1,1))).to(device)\n",
    "\n",
    "for i in indices:\n",
    "    v = filtered[i]\n",
    "    print(METHOD_NAMES[v['method']])\n",
    "    print(v.keys())\n",
    "    row  = v['row']\n",
    "    ranking = v['ranking']\n",
    "    inverse_ranking = v['inverse_ranking']\n",
    "    label = v['label']\n",
    "    masking_values = torch.from_numpy(np.zeros(row.shape)).float().to(device)\n",
    "    measures = fl.get_measures_for_ranking(row, ranking, label, network, with_inverse=True, with_random=True, masking_values=masking_values)\n",
    "    measures_inverse = fl.get_measures_for_ranking(row, inverse_ranking, label, network, with_inverse=False, with_random=False, masking_values=masking_values)\n",
    "    \n",
    "    masking_values_red = torch.clone(masking_values)\n",
    "    masking_values_red[1,:,:] = 1\n",
    "    printable_image_tensor = row * data_std_tensor + data_mean_tensor\n",
    "\n",
    "    print('Mean', measures['mean'])\n",
    "    print('qmean', v['qmean_mean'])\n",
    "    print('qstd',v['qmean_std'])\n",
    "    print(network(row.unsqueeze(0)).max())\n",
    "    fig, axs = plt.subplots(1, 3, figsize=(10, 2))\n",
    "    axs[0].plot(measures['output_curve'], color='green')\n",
    "    axs[0].plot(measures['output_curve_inv'], color='orange')\n",
    "    axs[0].plot(measures_inverse['output_curve'], color='red')\n",
    "    axs[0].plot(measures['output_curve_bas'], color='gray', linewidth=0.2)\n",
    "    for _ in range(NUM_CURVES):\n",
    "        measures_random = fl.get_measures_for_ranking(row, fl._get_random_ranking_row(ranking.shape), label, network, with_inverse=False, with_random=False, masking_values=masking_values)\n",
    "        axs[0].plot(measures_random['output_curve'], color='gray', linewidth=0.2)\n",
    "    axs[1].imshow(np.moveaxis(printable_image_tensor.detach().cpu().numpy(), 0, -1))\n",
    "    axs[2].imshow(v['ranking'].sum(axis=0).detach().cpu().numpy(), cmap='plasma')\n",
    "    plt.show()\n",
    "\n",
    "    masked = fl._get_masked_inputs(row, masking_values, ranking, torch.tensor([0.2, 0.4, 0.6, 0.8]).to(device))\n",
    "    masked_printable = fl._get_masked_inputs(printable_image_tensor, masking_values_red, ranking, torch.tensor([0.2, 0.4, 0.6, 0.8]).to(device))\n",
    "    \n",
    "    fig, axs = plt.subplots(1, 4, figsize=(10, 2))\n",
    "    for pos, (m, r) in enumerate(zip(masked, masked_printable)):\n",
    "        axs[pos].imshow(np.moveaxis(r.detach().cpu().numpy(), 0, -1))\n",
    "        axs[pos].set_yticks([])\n",
    "        axs[pos].set_xticks([])\n",
    "        axs[pos].set_title(f'{network(m.unsqueeze(0)).squeeze()[label].item():.4f}')\n",
    "    plt.suptitle('Ranking')\n",
    "    plt.show()\n",
    "    masked_inverse = fl._get_masked_inputs(row, masking_values, torch.tensor(fl._attributions_to_ranking_row(ranking.flatten().detach().cpu(), reverse=True).reshape(ranking.shape)).to(device), torch.tensor([0.2, 0.4, 0.6, 0.8]).to(device))\n",
    "    masked_inverse_printable = fl._get_masked_inputs(printable_image_tensor, masking_values_red, torch.tensor(fl._attributions_to_ranking_row(ranking.flatten().detach().cpu(), reverse=True).reshape(ranking.shape)).to(device), torch.tensor([0.2, 0.4, 0.6, 0.8]).to(device))\n",
    "    fig, axs = plt.subplots(1, 4, figsize=(10, 2))\n",
    "    for pos, (m,r) in enumerate(zip(masked_inverse, masked_inverse_printable)):\n",
    "        axs[pos].imshow(np.moveaxis(r.detach().cpu().numpy(), 0, -1))\n",
    "        axs[pos].set_yticks([])\n",
    "        axs[pos].set_xticks([])\n",
    "        axs[pos].set_title(f'{network(m.unsqueeze(0)).squeeze()[label].item():.4f}')\n",
    "    plt.suptitle('Inverse')\n",
    "    plt.show()\n",
    "    random_row = fl._get_random_ranking_row(ranking.shape)\n",
    "    masked_random = fl._get_masked_inputs(row, masking_values, random_row, torch.tensor([0.2, 0.4, 0.6, 0.8]).to(device))\n",
    "    masked_random_printable = fl._get_masked_inputs(printable_image_tensor, masking_values_red, random_row, torch.tensor([0.2, 0.4, 0.6, 0.8]).to(device))\n",
    "    fig, axs = plt.subplots(1, 4, figsize=(10, 2))\n",
    "    for pos, (m,r) in enumerate(zip(masked_random,masked_random_printable)):\n",
    "        axs[pos].imshow(np.moveaxis(r.detach().cpu().numpy(), 0, -1))\n",
    "        axs[pos].set_yticks([])\n",
    "        axs[pos].set_xticks([])\n",
    "        axs[pos].set_title(f'{network(m.unsqueeze(0)).squeeze()[label].item():.4f}')\n",
    "    plt.suptitle('Random')\n",
    "    plt.show()"
   ]
  },
  {
   "cell_type": "code",
   "execution_count": 5,
   "id": "bb0cc550-acb1-4da1-a7a6-89dee8f7a224",
   "metadata": {},
   "outputs": [
    {
     "ename": "AttributeError",
     "evalue": "'ResNet' object has no attribute 'features'",
     "output_type": "error",
     "traceback": [
      "\u001b[0;31m---------------------------------------------------------------------------\u001b[0m",
      "\u001b[0;31mAttributeError\u001b[0m                            Traceback (most recent call last)",
      "Cell \u001b[0;32mIn[5], line 2\u001b[0m\n\u001b[1;32m      1\u001b[0m \u001b[38;5;28;01mfrom\u001b[39;00m \u001b[38;5;21;01mcaptum\u001b[39;00m\u001b[38;5;21;01m.\u001b[39;00m\u001b[38;5;21;01mattr\u001b[39;00m \u001b[38;5;28;01mimport\u001b[39;00m GuidedGradCam,LayerGradCam,LayerAttribution\n\u001b[0;32m----> 2\u001b[0m explanation \u001b[38;5;241m=\u001b[39m GuidedGradCam(network, \u001b[43mnetwork\u001b[49m\u001b[38;5;241;43m.\u001b[39;49m\u001b[43mnetwork\u001b[49m\u001b[38;5;241;43m.\u001b[39;49m\u001b[43mfeatures\u001b[49m[\u001b[38;5;241m28\u001b[39m])\u001b[38;5;241m.\u001b[39mattribute(inputs\u001b[38;5;241m=\u001b[39mrow\u001b[38;5;241m.\u001b[39munsqueeze(\u001b[38;5;241m0\u001b[39m), target\u001b[38;5;241m=\u001b[39mlabel\u001b[38;5;241m.\u001b[39munsqueeze(\u001b[38;5;241m0\u001b[39m))\n\u001b[1;32m      3\u001b[0m \u001b[38;5;28mprint\u001b[39m(explanation\u001b[38;5;241m.\u001b[39mshape)\n\u001b[1;32m      4\u001b[0m explanation\u001b[38;5;241m=\u001b[39mLayerAttribution\u001b[38;5;241m.\u001b[39minterpolate(explanation, row\u001b[38;5;241m.\u001b[39mshape[\u001b[38;5;241m1\u001b[39m:])\n",
      "File \u001b[0;32m~/miniconda3/envs/xai-anna/lib/python3.11/site-packages/torch/nn/modules/module.py:1614\u001b[0m, in \u001b[0;36mModule.__getattr__\u001b[0;34m(self, name)\u001b[0m\n\u001b[1;32m   1612\u001b[0m     \u001b[38;5;28;01mif\u001b[39;00m name \u001b[38;5;129;01min\u001b[39;00m modules:\n\u001b[1;32m   1613\u001b[0m         \u001b[38;5;28;01mreturn\u001b[39;00m modules[name]\n\u001b[0;32m-> 1614\u001b[0m \u001b[38;5;28;01mraise\u001b[39;00m \u001b[38;5;167;01mAttributeError\u001b[39;00m(\u001b[38;5;124m\"\u001b[39m\u001b[38;5;124m'\u001b[39m\u001b[38;5;132;01m{}\u001b[39;00m\u001b[38;5;124m'\u001b[39m\u001b[38;5;124m object has no attribute \u001b[39m\u001b[38;5;124m'\u001b[39m\u001b[38;5;132;01m{}\u001b[39;00m\u001b[38;5;124m'\u001b[39m\u001b[38;5;124m\"\u001b[39m\u001b[38;5;241m.\u001b[39mformat(\n\u001b[1;32m   1615\u001b[0m     \u001b[38;5;28mtype\u001b[39m(\u001b[38;5;28mself\u001b[39m)\u001b[38;5;241m.\u001b[39m\u001b[38;5;18m__name__\u001b[39m, name))\n",
      "\u001b[0;31mAttributeError\u001b[0m: 'ResNet' object has no attribute 'features'"
     ]
    }
   ],
   "source": [
    "from captum.attr import GuidedGradCam,LayerGradCam,LayerAttribution\n",
    "explanation = GuidedGradCam(network, network.network.features[28]).attribute(inputs=row.unsqueeze(0), target=label.unsqueeze(0))\n",
    "print(explanation.shape)\n",
    "explanation=LayerAttribution.interpolate(explanation, row.shape[1:])\n",
    "#explanation = torch.stack([explanation, explanation, explanation], dim=1).squeeze()\n",
    "explanation = explanation.squeeze()\n",
    "print(printable_image_tensor.shape)\n",
    "print(explanation.shape)\n",
    "plt.imshow(np.moveaxis(printable_image_tensor.detach().cpu().numpy(),0,-1))\n",
    "plt.show()\n",
    "printable_explanation = (explanation - explanation.min())/(explanation.max()-explanation.min())\n",
    "plt.imshow(np.moveaxis(printable_explanation.detach().cpu().numpy(),0,-1))\n",
    "plt.show()\n",
    "\n",
    "\n",
    "ranking = torch.tensor(fl._attributions_to_ranking_row(explanation.flatten().detach().cpu(), reverse=False).reshape(ranking.shape)).to(device)\n",
    "plt.imshow(np.moveaxis(ranking.detach().cpu().numpy(),0,-1))\n",
    "plt.show()\n",
    "masked = fl._get_masked_inputs(row, masking_values, ranking, torch.tensor([0.2, 0.4, 0.6, 0.8]).to(device))\n",
    "masked_printable = fl._get_masked_inputs(printable_image_tensor, masking_values_red, ranking, torch.tensor([0.2, 0.4, 0.6, 0.8]).to(device))\n",
    "\n",
    "fig, axs = plt.subplots(1, 4, figsize=(10, 2))\n",
    "for pos, (m, r) in enumerate(zip(masked, masked_printable)):\n",
    "    axs[pos].imshow(np.moveaxis(r.detach().cpu().numpy(), 0, -1))\n",
    "    axs[pos].set_yticks([])\n",
    "    axs[pos].set_xticks([])\n",
    "    axs[pos].set_title(f'{network(m.unsqueeze(0)).squeeze()[label].item():.4f}')\n",
    "plt.suptitle('Ranking')\n",
    "plt.show()"
   ]
  },
  {
   "cell_type": "code",
   "execution_count": 87,
   "id": "4968165c",
   "metadata": {},
   "outputs": [
    {
     "data": {
      "text/plain": [
       "28"
      ]
     },
     "execution_count": 87,
     "metadata": {},
     "output_type": "execute_result"
    }
   ],
   "source": [
    "max([i for i in range(len(network.network.features)) if type(network.network.features[i]) == torch.nn.modules.conv.Conv2d])"
   ]
  },
  {
   "cell_type": "code",
   "execution_count": 11,
   "id": "cd8aec27",
   "metadata": {},
   "outputs": [
    {
     "name": "stdout",
     "output_type": "stream",
     "text": [
      "<class 'xai_faithfulness_experiments_lib_edits.LogitToOHEWrapper'>\n",
      "<class 'torchvision.models.resnet.ResNet'>\n",
      "<class 'torch.nn.modules.conv.Conv2d'>\n",
      "<class 'torch.nn.modules.batchnorm.BatchNorm2d'>\n",
      "<class 'torch.nn.modules.activation.ReLU'>\n",
      "<class 'torch.nn.modules.pooling.MaxPool2d'>\n",
      "<class 'torch.nn.modules.container.Sequential'>\n",
      "<class 'torchvision.models.resnet.BasicBlock'>\n",
      "<class 'torch.nn.modules.conv.Conv2d'>\n",
      "<class 'torch.nn.modules.batchnorm.BatchNorm2d'>\n",
      "<class 'torch.nn.modules.activation.ReLU'>\n",
      "<class 'torch.nn.modules.conv.Conv2d'>\n",
      "<class 'torch.nn.modules.batchnorm.BatchNorm2d'>\n",
      "<class 'torchvision.models.resnet.BasicBlock'>\n",
      "<class 'torch.nn.modules.conv.Conv2d'>\n",
      "<class 'torch.nn.modules.batchnorm.BatchNorm2d'>\n",
      "<class 'torch.nn.modules.activation.ReLU'>\n",
      "<class 'torch.nn.modules.conv.Conv2d'>\n",
      "<class 'torch.nn.modules.batchnorm.BatchNorm2d'>\n",
      "<class 'torch.nn.modules.container.Sequential'>\n",
      "<class 'torchvision.models.resnet.BasicBlock'>\n",
      "<class 'torch.nn.modules.conv.Conv2d'>\n",
      "<class 'torch.nn.modules.batchnorm.BatchNorm2d'>\n",
      "<class 'torch.nn.modules.activation.ReLU'>\n",
      "<class 'torch.nn.modules.conv.Conv2d'>\n",
      "<class 'torch.nn.modules.batchnorm.BatchNorm2d'>\n",
      "<class 'torch.nn.modules.container.Sequential'>\n",
      "<class 'torch.nn.modules.conv.Conv2d'>\n",
      "<class 'torch.nn.modules.batchnorm.BatchNorm2d'>\n",
      "<class 'torchvision.models.resnet.BasicBlock'>\n",
      "<class 'torch.nn.modules.conv.Conv2d'>\n",
      "<class 'torch.nn.modules.batchnorm.BatchNorm2d'>\n",
      "<class 'torch.nn.modules.activation.ReLU'>\n",
      "<class 'torch.nn.modules.conv.Conv2d'>\n",
      "<class 'torch.nn.modules.batchnorm.BatchNorm2d'>\n",
      "<class 'torch.nn.modules.container.Sequential'>\n",
      "<class 'torchvision.models.resnet.BasicBlock'>\n",
      "<class 'torch.nn.modules.conv.Conv2d'>\n",
      "<class 'torch.nn.modules.batchnorm.BatchNorm2d'>\n",
      "<class 'torch.nn.modules.activation.ReLU'>\n",
      "<class 'torch.nn.modules.conv.Conv2d'>\n",
      "<class 'torch.nn.modules.batchnorm.BatchNorm2d'>\n",
      "<class 'torch.nn.modules.container.Sequential'>\n",
      "<class 'torch.nn.modules.conv.Conv2d'>\n",
      "<class 'torch.nn.modules.batchnorm.BatchNorm2d'>\n",
      "<class 'torchvision.models.resnet.BasicBlock'>\n",
      "<class 'torch.nn.modules.conv.Conv2d'>\n",
      "<class 'torch.nn.modules.batchnorm.BatchNorm2d'>\n",
      "<class 'torch.nn.modules.activation.ReLU'>\n",
      "<class 'torch.nn.modules.conv.Conv2d'>\n",
      "<class 'torch.nn.modules.batchnorm.BatchNorm2d'>\n",
      "<class 'torch.nn.modules.container.Sequential'>\n",
      "<class 'torchvision.models.resnet.BasicBlock'>\n",
      "<class 'torch.nn.modules.conv.Conv2d'>\n",
      "<class 'torch.nn.modules.batchnorm.BatchNorm2d'>\n",
      "<class 'torch.nn.modules.activation.ReLU'>\n",
      "<class 'torch.nn.modules.conv.Conv2d'>\n",
      "<class 'torch.nn.modules.batchnorm.BatchNorm2d'>\n",
      "<class 'torch.nn.modules.container.Sequential'>\n",
      "<class 'torch.nn.modules.conv.Conv2d'>\n",
      "<class 'torch.nn.modules.batchnorm.BatchNorm2d'>\n",
      "<class 'torchvision.models.resnet.BasicBlock'>\n",
      "<class 'torch.nn.modules.conv.Conv2d'>\n",
      "<class 'torch.nn.modules.batchnorm.BatchNorm2d'>\n",
      "<class 'torch.nn.modules.activation.ReLU'>\n",
      "<class 'torch.nn.modules.conv.Conv2d'>\n",
      "<class 'torch.nn.modules.batchnorm.BatchNorm2d'>\n",
      "<class 'torch.nn.modules.pooling.AdaptiveAvgPool2d'>\n",
      "<class 'torch.nn.modules.linear.Linear'>\n"
     ]
    }
   ],
   "source": [
    "for m in network.modules():\n",
    "    print(type(m))"
   ]
  }
 ],
 "metadata": {
  "kernelspec": {
   "display_name": "Python 3 (ipykernel)",
   "language": "python",
   "name": "python3"
  },
  "language_info": {
   "codemirror_mode": {
    "name": "ipython",
    "version": 3
   },
   "file_extension": ".py",
   "mimetype": "text/x-python",
   "name": "python",
   "nbconvert_exporter": "python",
   "pygments_lexer": "ipython3",
   "version": "3.11.5"
  }
 },
 "nbformat": 4,
 "nbformat_minor": 5
}
