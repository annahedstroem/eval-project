{
 "cells": [
  {
   "cell_type": "code",
   "execution_count": null,
   "metadata": {},
   "outputs": [],
   "source": [
    "import sys\n",
    "import os\n",
    "PROJ_DIR = os.path.realpath(os.path.dirname(os.path.abspath('')))\n",
    "sys.path.append(os.path.join(PROJ_DIR,'src'))\n",
    "import xai_faithfulness_experiments_lib_edits as fl\n",
    "\n",
    "DICT_PATH_TRAIN = os.path.join(PROJ_DIR, 'data', 'cmnist_train_dict.pickle')\n",
    "DICT_PATH_TEST = os.path.join(PROJ_DIR, 'data', 'cmnist_test_dict.pickle')"
   ]
  },
  {
   "cell_type": "code",
   "execution_count": null,
   "metadata": {},
   "outputs": [],
   "source": [
    "data[0].keys()"
   ]
  },
  {
   "cell_type": "code",
   "execution_count": null,
   "metadata": {},
   "outputs": [],
   "source": [
    "import torch\n",
    "device = torch.device(\"cuda:0\" if torch.cuda.is_available() else \"cpu\")\n",
    "print(f'Using {device}')\n",
    "BATCH_SIZE_TRAIN = 256\n",
    "BATCH_SIZE_TEST = 256\n",
    "\n",
    "train_set = fl.CMNISTDataset(dict_file_path=DICT_PATH_TRAIN)\n",
    "train_loader = fl.get_cmnist_train_loader(DICT_PATH_TRAIN, BATCH_SIZE_TRAIN)\n",
    "test_loader = fl.get_cmnist_test_loader(DICT_PATH_TEST, BATCH_SIZE_TRAIN)"
   ]
  },
  {
   "cell_type": "code",
   "execution_count": null,
   "metadata": {},
   "outputs": [],
   "source": [
    "from matplotlib import pyplot as plt\n",
    "import numpy as np\n",
    "SAMPLE_NUM = 16\n",
    "\n",
    "x_batch, y_batch = next(iter(train_loader))\n",
    "\n",
    "plt.imshow(np.moveaxis(x_batch[SAMPLE_NUM].numpy(), 0, -1))\n",
    "plt.title(y_batch[SAMPLE_NUM])\n",
    "plt.show()"
   ]
  },
  {
   "cell_type": "code",
   "execution_count": null,
   "metadata": {},
   "outputs": [],
   "source": [
    "import torchvision\n",
    "\n",
    "# Load the pre-trained ResNet18 model.\n",
    "model = torchvision.models.resnet18(weights='DEFAULT')\n",
    "\n",
    "# Freeze all the pre-trained layers.\n",
    "for param in model.parameters():\n",
    "    param.requires_grad = True\n",
    "\n",
    "# Modify the last layer for MNIST\n",
    "num_classes = 10\n",
    "model.fc = torch.nn.Linear(model.fc.in_features, num_classes)\n",
    "model = model.to(device)"
   ]
  },
  {
   "cell_type": "code",
   "execution_count": null,
   "metadata": {},
   "outputs": [],
   "source": [
    "MODEL_EPOCHS= 2\n",
    "MODEL_LR = 1.0e-2\n",
    "MOMENTUM = 0.9\n",
    "\n",
    "loss = torch.nn.CrossEntropyLoss()\n",
    "optimizer = torch.optim.SGD(model.parameters(), lr=MODEL_LR, momentum=MOMENTUM)\n",
    "#optimizer = torch.optim.Adam(model.parameters(), lr=MODEL_LR)\n",
    "#optimizer = torch.optim.RMSprop(model.parameters(), lr=MODEL_LR)\n",
    "\n",
    "x_test_batch, y_test_batch = next(iter(test_loader))\n",
    "x_test_batch = x_test_batch.to(device)\n",
    "y_test_batch = y_test_batch.to(device)\n",
    "num_train_batches = len(train_set) // BATCH_SIZE_TRAIN +  1 if len(train_set) % BATCH_SIZE_TRAIN > 0 else 0\n",
    "\n",
    "for epoch in range(MODEL_EPOCHS):\n",
    "    batch_num = 0\n",
    "    for x_batch, y_batch in train_loader:\n",
    "        x_batch =  x_batch.to(device)\n",
    "        y_batch =  y_batch.to(device)\n",
    "        batch_num += 1\n",
    "        optimizer.zero_grad()\n",
    "        \n",
    "        preds = model(x_batch)\n",
    "        loss_value = loss(preds, y_batch)\n",
    "        loss_value.backward()        \n",
    "        optimizer.step()\n",
    "        print(f'Batch num:{batch_num}/{num_train_batches}\\tLoss:{loss_value.item():.4f}\\r')\n",
    "\n",
    "    test_preds = model.forward(x_test_batch)        \n",
    "    accuracy = (test_preds.argmax(dim=1) == y_test_batch).float().mean() \n",
    "    print(f'Epoch {epoch+1}/{MODEL_EPOCHS} - Loss: {loss_value.item()} - Test accuracy: {accuracy}')  \n",
    "    \n",
    "model.eval()\n",
    "\n",
    "test_hits = 0\n",
    "num_elems = 0\n",
    "for x_batch, y_batch in test_loader:\n",
    "    x_batch =  x_batch.to(device)\n",
    "    y_batch =  y_batch.to(device)\n",
    "    test_preds = model.forward(x_batch)        \n",
    "    test_hits += (test_preds.argmax(dim=1) == y_batch).float().sum()\n",
    "    num_elems += y_batch.shape[0]\n",
    "print(test_hits / num_elems)"
   ]
  },
  {
   "cell_type": "code",
   "execution_count": null,
   "metadata": {},
   "outputs": [],
   "source": [
    "# Save model\n",
    "torch.save(model.state_dict(), os.path.join(PROJ_DIR,'assets','models','cmnist-resnet18.pth'))\n",
    "\n",
    "import json\n",
    "MODELS_PATH = os.path.join(PROJ_DIR,'assets','models')\n",
    "with open(os.path.join(MODELS_PATH, 'model-accuracies.json')) as fIn:\n",
    "    models = json.load(fIn)\n",
    "models['cmnist-resnet18'] = accuracy.item()\n",
    "with open(os.path.join(MODELS_PATH, 'model-accuracies.json'), 'w') as fOut:\n",
    "    json.dump(models, fOut)"
   ]
  }
 ],
 "metadata": {
  "kernelspec": {
   "display_name": "xai-anna",
   "language": "python",
   "name": "python3"
  },
  "language_info": {
   "codemirror_mode": {
    "name": "ipython",
    "version": 3
   },
   "file_extension": ".py",
   "mimetype": "text/x-python",
   "name": "python",
   "nbconvert_exporter": "python",
   "pygments_lexer": "ipython3",
   "version": "3.11.5"
  }
 },
 "nbformat": 4,
 "nbformat_minor": 2
}
