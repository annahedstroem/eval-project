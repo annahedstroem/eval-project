{
 "cells": [
  {
   "attachments": {},
   "cell_type": "markdown",
   "metadata": {},
   "source": [
    "## Avila training\n",
    " This notebook loads the Avila dataset (https://archive.ics.uci.edu/ml/datasets/Avila), preprocesses it and trains a simple model"
   ]
  },
  {
   "cell_type": "code",
   "execution_count": null,
   "metadata": {},
   "outputs": [],
   "source": [
    "import sys\n",
    "import os\n",
    "PROJ_DIR = os.path.realpath(os.path.dirname(os.path.abspath('')))\n",
    "sys.path.append(os.path.join(PROJ_DIR,'src'))\n",
    "\n"
   ]
  },
  {
   "attachments": {},
   "cell_type": "markdown",
   "metadata": {},
   "source": [
    "Load data from CSV and save it to a suitable format. This can be skipped if concrete_data.npz is in assets."
   ]
  },
  {
   "cell_type": "code",
   "execution_count": null,
   "metadata": {},
   "outputs": [],
   "source": [
    "import pandas as pd\n",
    "import numpy as np\n",
    "\n",
    "def load_avila(path):\n",
    "    df = pd.read_csv(path, delimiter=',', header=None)\n",
    "\n",
    "    labels = df[10]\n",
    "    x = df.drop(columns=10)\n",
    "\n",
    "    possible_labels = labels.unique().tolist()\n",
    "    print(possible_labels)\n",
    "    print(len(possible_labels))\n",
    "    y = labels.map(lambda x: possible_labels.index(x))\n",
    "\n",
    "    return x.to_numpy(), y.to_numpy()\n",
    "    \n",
    "x_train, y_train = load_avila(os.path.join(PROJ_DIR, 'assets', 'data', 'avila-tr.txt'))\n",
    "x_test, y_test = load_avila(os.path.join(PROJ_DIR, 'assets', 'data', 'avila-tr.txt'))"
   ]
  },
  {
   "cell_type": "code",
   "execution_count": null,
   "metadata": {},
   "outputs": [],
   "source": [
    "# Save to assets\n",
    "np.savez(os.path.join(PROJ_DIR, 'assets', 'data', 'avila'),\\\n",
    "        x_train=x_train,\\\n",
    "        x_test=x_test,\\\n",
    "        y_train=y_train,\\\n",
    "        y_test=y_test)"
   ]
  },
  {
   "attachments": {},
   "cell_type": "markdown",
   "metadata": {},
   "source": [
    "Load data from file"
   ]
  },
  {
   "cell_type": "code",
   "execution_count": null,
   "metadata": {},
   "outputs": [],
   "source": [
    "file_data = np.load(os.path.join(PROJ_DIR, 'assets', 'data', 'avila.npz'))\n",
    "x_train = file_data['x_train']\n",
    "x_test = file_data['x_test']\n",
    "y_train = file_data['y_train']\n",
    "y_test = file_data['y_test']"
   ]
  },
  {
   "attachments": {},
   "cell_type": "markdown",
   "metadata": {},
   "source": [
    "Train a MLP model"
   ]
  },
  {
   "cell_type": "code",
   "execution_count": null,
   "metadata": {},
   "outputs": [],
   "source": [
    "import torch\n",
    "\n",
    "MODEL_NEURONS = 100\n",
    "MODEL_EPOCHS= 2000\n",
    "MODEL_LR = 1.0e-1\n",
    "MODEL_LABEL_NUM = len(np.unique(y_train))\n",
    "\n",
    "class MLP(torch.nn.Module):\n",
    "    def __init__(self, n_neurons):\n",
    "        super(MLP, self).__init__()\n",
    "        self.fc1 = torch.nn.Linear(x_train.shape[1], n_neurons)\n",
    "        self.ac1 = torch.nn.Sigmoid()\n",
    "        self.fc2 = torch.nn.Linear(n_neurons, MODEL_LABEL_NUM)\n",
    "        self.ac2 = torch.nn.Softmax(dim=1)\n",
    "    \n",
    "    def forward(self, x):\n",
    "        x = self.fc1(x)\n",
    "        x = self.ac1(x)\n",
    "        logits = self.fc2(x)\n",
    "        x = self.ac2(logits)\n",
    "        return x\n",
    "\n",
    "network = MLP(MODEL_NEURONS)\n",
    "loss = torch.nn.BCELoss()\n",
    "optimizer = torch.optim.Adam(network.parameters(), lr=MODEL_LR)\n",
    "\n",
    "\n",
    "x_train_tensor = torch.tensor(x_train).float()\n",
    "y_train_tensor = torch.tensor(y_train)\n",
    "x_test_tensor = torch.tensor(x_test).float()\n",
    "y_test_tensor = torch.tensor(y_test)\n",
    "\n",
    "for epoch in range(MODEL_EPOCHS):\n",
    "    optimizer.zero_grad()\n",
    "    \n",
    "    preds = network(x_train_tensor)\n",
    "    label_onehot = torch.zeros(y_train.shape[0], MODEL_LABEL_NUM)\n",
    "    label_onehot.scatter_(1, y_train_tensor.unsqueeze(1), 1)\n",
    "    loss_value = loss(preds, label_onehot)\n",
    "    loss_value.backward()        \n",
    "    optimizer.step()\n",
    "\n",
    "    test_preds = network.forward(x_test_tensor)        \n",
    "    accuracy = (test_preds.argmax(dim=1) == y_test_tensor).float().mean() \n",
    "    print(f'Epoch {epoch}/{MODEL_EPOCHS} - Loss: {loss_value.item()} - Test accuracy: {accuracy}')  \n",
    "    \n",
    "print(accuracy.item())\n"
   ]
  },
  {
   "cell_type": "code",
   "execution_count": null,
   "metadata": {},
   "outputs": [],
   "source": [
    "# Save model\n",
    "torch.save(network.state_dict(), os.path.join(PROJ_DIR,'assets','models','avila-mlp.pth'))"
   ]
  }
 ],
 "metadata": {
  "kernelspec": {
   "display_name": "quantus",
   "language": "python",
   "name": "python3"
  },
  "language_info": {
   "codemirror_mode": {
    "name": "ipython",
    "version": 3
   },
   "file_extension": ".py",
   "mimetype": "text/x-python",
   "name": "python",
   "nbconvert_exporter": "python",
   "pygments_lexer": "ipython3",
   "version": "3.9.13"
  },
  "orig_nbformat": 4
 },
 "nbformat": 4,
 "nbformat_minor": 2
}
