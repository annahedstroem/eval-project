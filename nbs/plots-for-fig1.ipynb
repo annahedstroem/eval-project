{
 "cells": [
  {
   "cell_type": "code",
   "execution_count": null,
   "metadata": {},
   "outputs": [],
   "source": [
    "# Import the necessary libraries\n",
    "import sys\n",
    "import os\n",
    "PROJ_DIR = os.path.realpath(os.path.dirname(os.path.abspath('')))\n",
    "sys.path.append(os.path.join(PROJ_DIR,'src'))\n",
    "import xai_faithfulness_experiments_lib_edits as fl\n",
    "from matplotlib import pyplot as plt"
   ]
  },
  {
   "cell_type": "code",
   "execution_count": null,
   "metadata": {},
   "outputs": [],
   "source": [
    "image_loader = fl.get_image_test_loader('imagenet', shuffle=True)"
   ]
  },
  {
   "cell_type": "code",
   "execution_count": null,
   "metadata": {},
   "outputs": [],
   "source": [
    "import torch\n",
    "device = torch.device(\"cuda:0\" if torch.cuda.is_available() else \"cpu\")\n",
    "DATA_MEAN = [0.2675, 0.2565, 0.2761]\n",
    "DATA_STD = [0.5071, 0.4867, 0.4408]\n",
    "\n",
    "image_batch = next(iter(image_loader))[0]\n",
    "for im in image_batch:\n",
    "    plt.imshow(im.permute(1,2,0) * torch.tensor(DATA_STD) + torch.tensor(DATA_MEAN))\n",
    "    plt.show()"
   ]
  },
  {
   "cell_type": "code",
   "execution_count": null,
   "metadata": {},
   "outputs": [],
   "source": [
    "nice_image1 = image_batch[0]\n",
    "nice_image2 = image_batch[10]\n",
    "\n",
    "plt.xticks([])\n",
    "plt.yticks([])\n",
    "plt.imshow(nice_image1.permute(1,2,0) * torch.tensor(DATA_STD) + torch.tensor(DATA_MEAN))\n",
    "plt.show()\n",
    "plt.xticks([])\n",
    "plt.yticks([])\n",
    "plt.imshow(nice_image2.permute(1,2,0) * torch.tensor(DATA_STD) + torch.tensor(DATA_MEAN))\n",
    "plt.show()"
   ]
  },
  {
   "cell_type": "code",
   "execution_count": null,
   "metadata": {},
   "outputs": [],
   "source": [
    "network = fl.load_pretrained_imagenet_model()\n",
    "pred1 = network(nice_image1.to(device).unsqueeze(0)).argmax()\n",
    "pred2 = network(nice_image2.to(device).unsqueeze(0)).argmax()"
   ]
  },
  {
   "cell_type": "code",
   "execution_count": null,
   "metadata": {},
   "outputs": [],
   "source": [
    "import captum_generator as cg\n",
    "\n",
    "explanations1 = cg.generate_rankings(nice_image1.to(device), pred1, network)\n",
    "explanations2 = cg.generate_rankings(nice_image2.to(device), pred1, network)"
   ]
  },
  {
   "cell_type": "code",
   "execution_count": null,
   "metadata": {},
   "outputs": [],
   "source": [
    "import numpy as np\n",
    "for exp in np.vstack((explanations1, explanations2)):\n",
    "    plt.xticks([])\n",
    "    plt.yticks([])\n",
    "    plt.imshow(np.sum(exp, axis=0))\n",
    "    plt.show()"
   ]
  },
  {
   "cell_type": "code",
   "execution_count": null,
   "metadata": {},
   "outputs": [],
   "source": [
    "\n",
    "good_explanation1 = np.sum(explanations1[3],axis=0)\n",
    "plt.xticks([])\n",
    "plt.yticks([])\n",
    "plt.imshow(good_explanation1)\n",
    "plt.show()\n",
    "\n",
    "good_explanation2 = np.sum(explanations2[3],axis=0)\n",
    "plt.xticks([])\n",
    "plt.yticks([])\n",
    "plt.imshow(good_explanation2)\n",
    "plt.show()"
   ]
  },
  {
   "cell_type": "code",
   "execution_count": null,
   "metadata": {},
   "outputs": [],
   "source": [
    "inv_explanation1 = fl.get_inverse(good_explanation1)\n",
    "plt.xticks([])\n",
    "plt.yticks([])\n",
    "plt.imshow(inv_explanation1)\n",
    "plt.show()\n",
    "\n",
    "inv_explanation2 = fl.get_inverse(good_explanation2)\n",
    "plt.xticks([])\n",
    "plt.yticks([])\n",
    "plt.imshow(inv_explanation2)\n",
    "plt.show()"
   ]
  }
 ],
 "metadata": {
  "kernelspec": {
   "display_name": "xai-anna",
   "language": "python",
   "name": "python3"
  },
  "language_info": {
   "codemirror_mode": {
    "name": "ipython",
    "version": 3
   },
   "file_extension": ".py",
   "mimetype": "text/x-python",
   "name": "python",
   "nbconvert_exporter": "python",
   "pygments_lexer": "ipython3",
   "version": "3.11.5"
  }
 },
 "nbformat": 4,
 "nbformat_minor": 2
}
