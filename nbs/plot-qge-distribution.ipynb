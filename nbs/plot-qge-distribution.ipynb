{
 "cells": [
  {
   "cell_type": "code",
   "execution_count": null,
   "metadata": {},
   "outputs": [],
   "source": [
    "# Import the necessary libraries\n",
    "import sys\n",
    "import os\n",
    "PROJ_DIR = os.path.realpath(os.path.dirname(os.path.abspath('')))\n",
    "sys.path.append(os.path.join(PROJ_DIR,'src'))\n",
    "import gce_lib as fl\n",
    "import numpy as np\n",
    "\n",
    "def get_qmeans_inv_from_file(filename):\n",
    "    # Load data\n",
    "    data = fl.load_generated_data(os.path.join(PROJ_DIR, 'results', filename))\n",
    "    return data['qmean_invs']\n",
    "\n",
    "def get_all_qmeans_inv_for_dataset(dataset_name):\n",
    "    result = None\n",
    "    for f in os.listdir(os.path.join(PROJ_DIR, 'results')):\n",
    "        if f.startswith(dataset_name) and f.endswith('0_measures.npz'):\n",
    "            print(f)\n",
    "            file_contents = get_qmeans_inv_from_file(f)\n",
    "            result = file_contents if result is None else  np.vstack((result, file_contents))\n",
    "    return result\n",
    "\n",
    "qinvs_avila = get_all_qmeans_inv_for_dataset('avila')\n",
    "qinvs_glass = get_all_qmeans_inv_for_dataset('glass')"
   ]
  },
  {
   "cell_type": "code",
   "execution_count": null,
   "metadata": {},
   "outputs": [],
   "source": [
    "from matplotlib import pyplot as plt\n",
    "import plt_configs\n",
    "\n",
    "plt.hist(qinvs_avila, bins=50, density=True, alpha=0.5, label='Avila')\n",
    "plt.hist(qinvs_glass, bins=50, density=True, alpha=0.5, label='Glass')\n",
    "plt.legend()\n",
    "plt.show()"
   ]
  }
 ],
 "metadata": {
  "kernelspec": {
   "display_name": "xai-anna",
   "language": "python",
   "name": "python3"
  },
  "language_info": {
   "codemirror_mode": {
    "name": "ipython",
    "version": 3
   },
   "file_extension": ".py",
   "mimetype": "text/x-python",
   "name": "python",
   "nbconvert_exporter": "python",
   "pygments_lexer": "ipython3",
   "version": "3.11.5"
  }
 },
 "nbformat": 4,
 "nbformat_minor": 2
}
